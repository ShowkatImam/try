{
  "cells": [
    {
      "cell_type": "markdown",
      "metadata": {
        "id": "view-in-github",
        "colab_type": "text"
      },
      "source": [
        "<a href=\"https://colab.research.google.com/github/ShowkatImam/try/blob/main/suicidal_ideation_Doc2vec.ipynb\" target=\"_parent\"><img src=\"https://colab.research.google.com/assets/colab-badge.svg\" alt=\"Open In Colab\"/></a>"
      ]
    },
    {
      "cell_type": "code",
      "execution_count": 149,
      "metadata": {
        "id": "fDBEvE-YXooa"
      },
      "outputs": [],
      "source": [
        "import pandas as pd\n",
        "import numpy as np\n",
        "from tqdm import tqdm\n",
        "tqdm.pandas(desc=\"progress-bar\")\n",
        "from gensim.models import Doc2Vec\n",
        "from sklearn import utils\n",
        "from sklearn.model_selection import train_test_split\n",
        "import gensim\n",
        "from sklearn.linear_model import LogisticRegression\n",
        "from gensim.models.doc2vec import TaggedDocument\n",
        "import re\n",
        "import seaborn as sns\n",
        "import matplotlib.pyplot as plt\n",
        "from sklearn.metrics import classification_report"
      ]
    },
    {
      "cell_type": "markdown",
      "source": [
        "Upload DataSet In CSV form"
      ],
      "metadata": {
        "id": "fYBJt7bZZdvS"
      }
    },
    {
      "cell_type": "code",
      "execution_count": 150,
      "metadata": {
        "id": "34QMSYP0YCMT",
        "colab": {
          "base_uri": "https://localhost:8080/"
        },
        "outputId": "2579219b-be2c-4b6c-b822-cd91a3d37a5e"
      },
      "outputs": [
        {
          "output_type": "stream",
          "name": "stdout",
          "text": [
            "Drive already mounted at /content/drive1; to attempt to forcibly remount, call drive.mount(\"/content/drive1\", force_remount=True).\n"
          ]
        }
      ],
      "source": [
        "from google.colab import drive\n",
        "drive.mount('/content/drive1')"
      ]
    },
    {
      "cell_type": "code",
      "execution_count": 151,
      "metadata": {
        "colab": {
          "base_uri": "https://localhost:8080/",
          "height": 363
        },
        "id": "_n60oSISYQbE",
        "outputId": "4c7102f0-454a-4dec-91da-5ae5a3867154"
      },
      "outputs": [
        {
          "output_type": "execute_result",
          "data": {
            "text/html": [
              "\n",
              "  <div id=\"df-3f5e783c-c052-4c27-a329-696ed52e347e\">\n",
              "    <div class=\"colab-df-container\">\n",
              "      <div>\n",
              "<style scoped>\n",
              "    .dataframe tbody tr th:only-of-type {\n",
              "        vertical-align: middle;\n",
              "    }\n",
              "\n",
              "    .dataframe tbody tr th {\n",
              "        vertical-align: top;\n",
              "    }\n",
              "\n",
              "    .dataframe thead th {\n",
              "        text-align: right;\n",
              "    }\n",
              "</style>\n",
              "<table border=\"1\" class=\"dataframe\">\n",
              "  <thead>\n",
              "    <tr style=\"text-align: right;\">\n",
              "      <th></th>\n",
              "      <th>Post</th>\n",
              "      <th>Ideation</th>\n",
              "    </tr>\n",
              "  </thead>\n",
              "  <tbody>\n",
              "    <tr>\n",
              "      <th>0</th>\n",
              "      <td>might fuck around and kill myself</td>\n",
              "      <td>1</td>\n",
              "    </tr>\n",
              "    <tr>\n",
              "      <th>1</th>\n",
              "      <td>Life is the procrastination of death and I am ...</td>\n",
              "      <td>1</td>\n",
              "    </tr>\n",
              "    <tr>\n",
              "      <th>2</th>\n",
              "      <td>Every night I contemplate suicide and every ti...</td>\n",
              "      <td>1</td>\n",
              "    </tr>\n",
              "    <tr>\n",
              "      <th>3</th>\n",
              "      <td>I hate that Im living for other people</td>\n",
              "      <td>1</td>\n",
              "    </tr>\n",
              "    <tr>\n",
              "      <th>4</th>\n",
              "      <td>I hate my circumstances. I really don't see ho...</td>\n",
              "      <td>1</td>\n",
              "    </tr>\n",
              "    <tr>\n",
              "      <th>5</th>\n",
              "      <td>yesterday i tried to kill myself with a knife ...</td>\n",
              "      <td>1</td>\n",
              "    </tr>\n",
              "    <tr>\n",
              "      <th>6</th>\n",
              "      <td>I need to kill myself. This summer, June 29. I...</td>\n",
              "      <td>1</td>\n",
              "    </tr>\n",
              "    <tr>\n",
              "      <th>7</th>\n",
              "      <td>I'm a junkie who watched the love of my life c...</td>\n",
              "      <td>1</td>\n",
              "    </tr>\n",
              "    <tr>\n",
              "      <th>8</th>\n",
              "      <td>never failed harder in school than this year. ...</td>\n",
              "      <td>1</td>\n",
              "    </tr>\n",
              "    <tr>\n",
              "      <th>9</th>\n",
              "      <td>I will die alone. Hurt this, I dont really car...</td>\n",
              "      <td>1</td>\n",
              "    </tr>\n",
              "  </tbody>\n",
              "</table>\n",
              "</div>\n",
              "      <button class=\"colab-df-convert\" onclick=\"convertToInteractive('df-3f5e783c-c052-4c27-a329-696ed52e347e')\"\n",
              "              title=\"Convert this dataframe to an interactive table.\"\n",
              "              style=\"display:none;\">\n",
              "        \n",
              "  <svg xmlns=\"http://www.w3.org/2000/svg\" height=\"24px\"viewBox=\"0 0 24 24\"\n",
              "       width=\"24px\">\n",
              "    <path d=\"M0 0h24v24H0V0z\" fill=\"none\"/>\n",
              "    <path d=\"M18.56 5.44l.94 2.06.94-2.06 2.06-.94-2.06-.94-.94-2.06-.94 2.06-2.06.94zm-11 1L8.5 8.5l.94-2.06 2.06-.94-2.06-.94L8.5 2.5l-.94 2.06-2.06.94zm10 10l.94 2.06.94-2.06 2.06-.94-2.06-.94-.94-2.06-.94 2.06-2.06.94z\"/><path d=\"M17.41 7.96l-1.37-1.37c-.4-.4-.92-.59-1.43-.59-.52 0-1.04.2-1.43.59L10.3 9.45l-7.72 7.72c-.78.78-.78 2.05 0 2.83L4 21.41c.39.39.9.59 1.41.59.51 0 1.02-.2 1.41-.59l7.78-7.78 2.81-2.81c.8-.78.8-2.07 0-2.86zM5.41 20L4 18.59l7.72-7.72 1.47 1.35L5.41 20z\"/>\n",
              "  </svg>\n",
              "      </button>\n",
              "      \n",
              "  <style>\n",
              "    .colab-df-container {\n",
              "      display:flex;\n",
              "      flex-wrap:wrap;\n",
              "      gap: 12px;\n",
              "    }\n",
              "\n",
              "    .colab-df-convert {\n",
              "      background-color: #E8F0FE;\n",
              "      border: none;\n",
              "      border-radius: 50%;\n",
              "      cursor: pointer;\n",
              "      display: none;\n",
              "      fill: #1967D2;\n",
              "      height: 32px;\n",
              "      padding: 0 0 0 0;\n",
              "      width: 32px;\n",
              "    }\n",
              "\n",
              "    .colab-df-convert:hover {\n",
              "      background-color: #E2EBFA;\n",
              "      box-shadow: 0px 1px 2px rgba(60, 64, 67, 0.3), 0px 1px 3px 1px rgba(60, 64, 67, 0.15);\n",
              "      fill: #174EA6;\n",
              "    }\n",
              "\n",
              "    [theme=dark] .colab-df-convert {\n",
              "      background-color: #3B4455;\n",
              "      fill: #D2E3FC;\n",
              "    }\n",
              "\n",
              "    [theme=dark] .colab-df-convert:hover {\n",
              "      background-color: #434B5C;\n",
              "      box-shadow: 0px 1px 3px 1px rgba(0, 0, 0, 0.15);\n",
              "      filter: drop-shadow(0px 1px 2px rgba(0, 0, 0, 0.3));\n",
              "      fill: #FFFFFF;\n",
              "    }\n",
              "  </style>\n",
              "\n",
              "      <script>\n",
              "        const buttonEl =\n",
              "          document.querySelector('#df-3f5e783c-c052-4c27-a329-696ed52e347e button.colab-df-convert');\n",
              "        buttonEl.style.display =\n",
              "          google.colab.kernel.accessAllowed ? 'block' : 'none';\n",
              "\n",
              "        async function convertToInteractive(key) {\n",
              "          const element = document.querySelector('#df-3f5e783c-c052-4c27-a329-696ed52e347e');\n",
              "          const dataTable =\n",
              "            await google.colab.kernel.invokeFunction('convertToInteractive',\n",
              "                                                     [key], {});\n",
              "          if (!dataTable) return;\n",
              "\n",
              "          const docLinkHtml = 'Like what you see? Visit the ' +\n",
              "            '<a target=\"_blank\" href=https://colab.research.google.com/notebooks/data_table.ipynb>data table notebook</a>'\n",
              "            + ' to learn more about interactive tables.';\n",
              "          element.innerHTML = '';\n",
              "          dataTable['output_type'] = 'display_data';\n",
              "          await google.colab.output.renderOutput(dataTable, element);\n",
              "          const docLink = document.createElement('div');\n",
              "          docLink.innerHTML = docLinkHtml;\n",
              "          element.appendChild(docLink);\n",
              "        }\n",
              "      </script>\n",
              "    </div>\n",
              "  </div>\n",
              "  "
            ],
            "text/plain": [
              "                                                Post  Ideation\n",
              "0                  might fuck around and kill myself         1\n",
              "1  Life is the procrastination of death and I am ...         1\n",
              "2  Every night I contemplate suicide and every ti...         1\n",
              "3            I hate that Im living for other people         1\n",
              "4  I hate my circumstances. I really don't see ho...         1\n",
              "5  yesterday i tried to kill myself with a knife ...         1\n",
              "6  I need to kill myself. This summer, June 29. I...         1\n",
              "7  I'm a junkie who watched the love of my life c...         1\n",
              "8  never failed harder in school than this year. ...         1\n",
              "9  I will die alone. Hurt this, I dont really car...         1"
            ]
          },
          "metadata": {},
          "execution_count": 151
        }
      ],
      "source": [
        "df = pd.read_csv('/content/drive1/MyDrive/suicide_watch_try12.csv',encoding= 'unicode_escape')\n",
        "df.head(10)"
      ]
    },
    {
      "cell_type": "code",
      "source": [
        "from bs4 import BeautifulSoup\n",
        "def cleanText(text):\n",
        "    text = BeautifulSoup(text, \"lxml\").text\n",
        "    text = re.sub(r'\\|\\|\\|', r' ', text) \n",
        "    text = re.sub(r'http\\S+', r' ', text)\n",
        "    text = text.lower()\n",
        "    return text"
      ],
      "metadata": {
        "id": "JQkBAPhLokDI"
      },
      "execution_count": 152,
      "outputs": []
    },
    {
      "cell_type": "code",
      "source": [
        "df['Post']=df['Post'].apply(str)"
      ],
      "metadata": {
        "id": "e4QtrlHBXBQN"
      },
      "execution_count": 265,
      "outputs": []
    },
    {
      "cell_type": "code",
      "source": [
        "df['Post'] = df['Post'].apply(cleanText)\n",
        "    "
      ],
      "metadata": {
        "id": "PGvOpcbOolXo"
      },
      "execution_count": 266,
      "outputs": []
    },
    {
      "cell_type": "markdown",
      "source": [
        "remove punctuation mark"
      ],
      "metadata": {
        "id": "u8xZxGEubleW"
      }
    },
    {
      "cell_type": "code",
      "source": [
        "import string\n",
        "def remove_punctuation(s):\n",
        "    s = ''.join([i for i in s if i not in frozenset(string.punctuation)])\n",
        "    return s"
      ],
      "metadata": {
        "id": "YamP6yCTovPx"
      },
      "execution_count": 232,
      "outputs": []
    },
    {
      "cell_type": "code",
      "source": [
        "#df['Post'] = df['Post'].apply(remove_punctuation)\n",
        "df.head(10)"
      ],
      "metadata": {
        "colab": {
          "base_uri": "https://localhost:8080/",
          "height": 363
        },
        "id": "_0yiXw0LsJPy",
        "outputId": "8d12d15f-38f4-4d4a-c968-de4914159533"
      },
      "execution_count": 156,
      "outputs": [
        {
          "output_type": "execute_result",
          "data": {
            "text/html": [
              "\n",
              "  <div id=\"df-0708d059-b566-44de-adef-886d5ae436be\">\n",
              "    <div class=\"colab-df-container\">\n",
              "      <div>\n",
              "<style scoped>\n",
              "    .dataframe tbody tr th:only-of-type {\n",
              "        vertical-align: middle;\n",
              "    }\n",
              "\n",
              "    .dataframe tbody tr th {\n",
              "        vertical-align: top;\n",
              "    }\n",
              "\n",
              "    .dataframe thead th {\n",
              "        text-align: right;\n",
              "    }\n",
              "</style>\n",
              "<table border=\"1\" class=\"dataframe\">\n",
              "  <thead>\n",
              "    <tr style=\"text-align: right;\">\n",
              "      <th></th>\n",
              "      <th>Post</th>\n",
              "      <th>Ideation</th>\n",
              "    </tr>\n",
              "  </thead>\n",
              "  <tbody>\n",
              "    <tr>\n",
              "      <th>0</th>\n",
              "      <td>might fuck around and kill myself</td>\n",
              "      <td>1</td>\n",
              "    </tr>\n",
              "    <tr>\n",
              "      <th>1</th>\n",
              "      <td>life is the procrastination of death and i am ...</td>\n",
              "      <td>1</td>\n",
              "    </tr>\n",
              "    <tr>\n",
              "      <th>2</th>\n",
              "      <td>every night i contemplate suicide and every ti...</td>\n",
              "      <td>1</td>\n",
              "    </tr>\n",
              "    <tr>\n",
              "      <th>3</th>\n",
              "      <td>i hate that im living for other people</td>\n",
              "      <td>1</td>\n",
              "    </tr>\n",
              "    <tr>\n",
              "      <th>4</th>\n",
              "      <td>i hate my circumstances i really dont see how ...</td>\n",
              "      <td>1</td>\n",
              "    </tr>\n",
              "    <tr>\n",
              "      <th>5</th>\n",
              "      <td>yesterday i tried to kill myself with a knife ...</td>\n",
              "      <td>1</td>\n",
              "    </tr>\n",
              "    <tr>\n",
              "      <th>6</th>\n",
              "      <td>i need to kill myself this summer june 29 i ha...</td>\n",
              "      <td>1</td>\n",
              "    </tr>\n",
              "    <tr>\n",
              "      <th>7</th>\n",
              "      <td>im a junkie who watched the love of my life co...</td>\n",
              "      <td>1</td>\n",
              "    </tr>\n",
              "    <tr>\n",
              "      <th>8</th>\n",
              "      <td>never failed harder in school than this year p...</td>\n",
              "      <td>1</td>\n",
              "    </tr>\n",
              "    <tr>\n",
              "      <th>9</th>\n",
              "      <td>i will die alone hurt this i dont really care ...</td>\n",
              "      <td>1</td>\n",
              "    </tr>\n",
              "  </tbody>\n",
              "</table>\n",
              "</div>\n",
              "      <button class=\"colab-df-convert\" onclick=\"convertToInteractive('df-0708d059-b566-44de-adef-886d5ae436be')\"\n",
              "              title=\"Convert this dataframe to an interactive table.\"\n",
              "              style=\"display:none;\">\n",
              "        \n",
              "  <svg xmlns=\"http://www.w3.org/2000/svg\" height=\"24px\"viewBox=\"0 0 24 24\"\n",
              "       width=\"24px\">\n",
              "    <path d=\"M0 0h24v24H0V0z\" fill=\"none\"/>\n",
              "    <path d=\"M18.56 5.44l.94 2.06.94-2.06 2.06-.94-2.06-.94-.94-2.06-.94 2.06-2.06.94zm-11 1L8.5 8.5l.94-2.06 2.06-.94-2.06-.94L8.5 2.5l-.94 2.06-2.06.94zm10 10l.94 2.06.94-2.06 2.06-.94-2.06-.94-.94-2.06-.94 2.06-2.06.94z\"/><path d=\"M17.41 7.96l-1.37-1.37c-.4-.4-.92-.59-1.43-.59-.52 0-1.04.2-1.43.59L10.3 9.45l-7.72 7.72c-.78.78-.78 2.05 0 2.83L4 21.41c.39.39.9.59 1.41.59.51 0 1.02-.2 1.41-.59l7.78-7.78 2.81-2.81c.8-.78.8-2.07 0-2.86zM5.41 20L4 18.59l7.72-7.72 1.47 1.35L5.41 20z\"/>\n",
              "  </svg>\n",
              "      </button>\n",
              "      \n",
              "  <style>\n",
              "    .colab-df-container {\n",
              "      display:flex;\n",
              "      flex-wrap:wrap;\n",
              "      gap: 12px;\n",
              "    }\n",
              "\n",
              "    .colab-df-convert {\n",
              "      background-color: #E8F0FE;\n",
              "      border: none;\n",
              "      border-radius: 50%;\n",
              "      cursor: pointer;\n",
              "      display: none;\n",
              "      fill: #1967D2;\n",
              "      height: 32px;\n",
              "      padding: 0 0 0 0;\n",
              "      width: 32px;\n",
              "    }\n",
              "\n",
              "    .colab-df-convert:hover {\n",
              "      background-color: #E2EBFA;\n",
              "      box-shadow: 0px 1px 2px rgba(60, 64, 67, 0.3), 0px 1px 3px 1px rgba(60, 64, 67, 0.15);\n",
              "      fill: #174EA6;\n",
              "    }\n",
              "\n",
              "    [theme=dark] .colab-df-convert {\n",
              "      background-color: #3B4455;\n",
              "      fill: #D2E3FC;\n",
              "    }\n",
              "\n",
              "    [theme=dark] .colab-df-convert:hover {\n",
              "      background-color: #434B5C;\n",
              "      box-shadow: 0px 1px 3px 1px rgba(0, 0, 0, 0.15);\n",
              "      filter: drop-shadow(0px 1px 2px rgba(0, 0, 0, 0.3));\n",
              "      fill: #FFFFFF;\n",
              "    }\n",
              "  </style>\n",
              "\n",
              "      <script>\n",
              "        const buttonEl =\n",
              "          document.querySelector('#df-0708d059-b566-44de-adef-886d5ae436be button.colab-df-convert');\n",
              "        buttonEl.style.display =\n",
              "          google.colab.kernel.accessAllowed ? 'block' : 'none';\n",
              "\n",
              "        async function convertToInteractive(key) {\n",
              "          const element = document.querySelector('#df-0708d059-b566-44de-adef-886d5ae436be');\n",
              "          const dataTable =\n",
              "            await google.colab.kernel.invokeFunction('convertToInteractive',\n",
              "                                                     [key], {});\n",
              "          if (!dataTable) return;\n",
              "\n",
              "          const docLinkHtml = 'Like what you see? Visit the ' +\n",
              "            '<a target=\"_blank\" href=https://colab.research.google.com/notebooks/data_table.ipynb>data table notebook</a>'\n",
              "            + ' to learn more about interactive tables.';\n",
              "          element.innerHTML = '';\n",
              "          dataTable['output_type'] = 'display_data';\n",
              "          await google.colab.output.renderOutput(dataTable, element);\n",
              "          const docLink = document.createElement('div');\n",
              "          docLink.innerHTML = docLinkHtml;\n",
              "          element.appendChild(docLink);\n",
              "        }\n",
              "      </script>\n",
              "    </div>\n",
              "  </div>\n",
              "  "
            ],
            "text/plain": [
              "                                                Post  Ideation\n",
              "0                  might fuck around and kill myself         1\n",
              "1  life is the procrastination of death and i am ...         1\n",
              "2  every night i contemplate suicide and every ti...         1\n",
              "3            i hate that im living for other people         1\n",
              "4  i hate my circumstances i really dont see how ...         1\n",
              "5  yesterday i tried to kill myself with a knife ...         1\n",
              "6  i need to kill myself this summer june 29 i ha...         1\n",
              "7  im a junkie who watched the love of my life co...         1\n",
              "8  never failed harder in school than this year p...         1\n",
              "9  i will die alone hurt this i dont really care ...         1"
            ]
          },
          "metadata": {},
          "execution_count": 156
        }
      ]
    },
    {
      "cell_type": "code",
      "source": [
        "df['Ideation'].value_counts()"
      ],
      "metadata": {
        "colab": {
          "base_uri": "https://localhost:8080/"
        },
        "id": "kHwZ2bUeqdE7",
        "outputId": "0af22b64-ef8a-4eac-c164-015ead433a13"
      },
      "execution_count": 267,
      "outputs": [
        {
          "output_type": "execute_result",
          "data": {
            "text/plain": [
              "1    1538\n",
              "0    1166\n",
              "Name: Ideation, dtype: int64"
            ]
          },
          "metadata": {},
          "execution_count": 267
        }
      ]
    },
    {
      "cell_type": "code",
      "execution_count": 268,
      "metadata": {
        "colab": {
          "base_uri": "https://localhost:8080/"
        },
        "id": "w0A1uIcnZKGj",
        "outputId": "7b3aa707-3a52-4062-cd89-bd0acb6b1a29"
      },
      "outputs": [
        {
          "output_type": "execute_result",
          "data": {
            "text/plain": [
              "0                       might fuck around and kill myself\n",
              "1       life is the procrastination of death and i am ...\n",
              "2       every night i contemplate suicide and every ti...\n",
              "3                 i hate that im living for other people\n",
              "4       i hate my circumstances i really dont see how ...\n",
              "                              ...                        \n",
              "2699    the only way thermodynamics are funny a thermo...\n",
              "2700    a thief broke into my house last night he was ...\n",
              "2701    why do they allow people in wheelchairs to bri...\n",
              "2702    depression i was so depressed last night think...\n",
              "2703    what do you call a cow thats had an abortion d...\n",
              "Name: Post, Length: 2704, dtype: object"
            ]
          },
          "metadata": {},
          "execution_count": 268
        }
      ],
      "source": [
        "df['Post']"
      ]
    },
    {
      "cell_type": "markdown",
      "source": [
        "Stop Word removing And Streaming"
      ],
      "metadata": {
        "id": "GR6Rfn51cFbf"
      }
    },
    {
      "cell_type": "code",
      "execution_count": 269,
      "metadata": {
        "colab": {
          "base_uri": "https://localhost:8080/"
        },
        "id": "cTIo-7WrAaVz",
        "outputId": "c703de5c-f7da-464c-876f-6d1dee022f7b"
      },
      "outputs": [
        {
          "output_type": "stream",
          "name": "stdout",
          "text": [
            "[nltk_data] Downloading package stopwords to /root/nltk_data...\n",
            "[nltk_data]   Package stopwords is already up-to-date!\n"
          ]
        }
      ],
      "source": [
        "import string \n",
        "import nltk \n",
        "from nltk.tokenize import RegexpTokenizer\n",
        "from nltk.corpus import stopwords \n",
        "from nltk.tokenize import word_tokenize\n",
        "nltk.download('stopwords')\n",
        "import seaborn as sns\n",
        "from sklearn.linear_model import LogisticRegression\n",
        "from sklearn.model_selection import train_test_split\n",
        "from sklearn.metrics import classification_report"
      ]
    },
    {
      "cell_type": "code",
      "execution_count": 270,
      "metadata": {
        "id": "7iaw23LVAfsZ"
      },
      "outputs": [],
      "source": [
        "from nltk.corpus import stopwords\n",
        "from nltk.stem.porter import PorterStemmer\n",
        "import re\n",
        "ps = PorterStemmer()\n",
        "corpus = []\n",
        "for i in range(0, len(df)):\n",
        "    review = re.sub('[^a-zA-Z]', ' ', df['Post'][i])\n",
        "    review = review.lower()\n",
        "    review = review.split()\n",
        "    \n",
        "    review = [ps.stem(word) for word in review if not word in stopwords.words('english')]\n",
        "    review = ' '.join(review)\n",
        "    corpus.append(review)"
      ]
    },
    {
      "cell_type": "code",
      "execution_count": 271,
      "metadata": {
        "colab": {
          "base_uri": "https://localhost:8080/"
        },
        "id": "QIba0TRo2EkL",
        "outputId": "f6c66bd0-2d03-4848-8699-a81ad8acd1cc"
      },
      "outputs": [
        {
          "output_type": "execute_result",
          "data": {
            "text/plain": [
              "['might fuck around kill',\n",
              " 'life procrastin death plan take action',\n",
              " 'everi night contempl suicid everi time think parent would feel want sad guilti way kill without happen recent slowli care less would feel idk feel like live timer close end soon know',\n",
              " 'hate live peopl',\n",
              " 'hate circumst realli dont see im continu havent caught break decad one tragedi next world unbeliev harsh feel crazi like im live age dinosaur tri get eaten',\n",
              " 'yesterday tri kill knife save im mental hospit mom hate girlfriend go leav think dont know im go suffoc',\n",
              " 'need kill summer june method plan write note think realli kill die point inevit certain say die natur know mean would actual speed process happen either way get death alway finish line die matter die coupl year earlier plan death death matter happen suicid natur death liter thing execut differ way',\n",
              " 'im junki watch love life commit suicid',\n",
              " 'never fail harder school year probabl go summer school make want mf kill jesu christ dumb',\n",
              " 'die alon hurt dont realli care reason keep go im af',\n",
              " 'hate life',\n",
              " 'held knife throat min ago middl night note readi everyth look mirror reflect memori moment ultim decid put knife make bowl ramen',\n",
              " 'know nobodi care sure make thought kill lot easier',\n",
              " 'feel like im one big mental traumat event away final decid end',\n",
              " 'stop think kill',\n",
              " 'want die hate way look much',\n",
              " 'made suicid note close end',\n",
              " 'get dedic life help suicid peopl',\n",
              " 'know there probabl alway go peopl love care u person matter hate u u still feel like end',\n",
              " 'plan kill soon get degre alreadi fuck life perman noth ever fix alreadi donat money sister luckili hasnt told parent yet',\n",
              " 'think kill self five year tri last week stop wanna die time wanna fail suicid attempt bring attent much hurt feel guilti want wanna know anyon els idea thought guess',\n",
              " 'anybodi pleas go kill need someon pleas',\n",
              " 'life hard life battl war peopl make look easi everi night sleep think end',\n",
              " 'worthless replac',\n",
              " 'moment ago came closest ive come suicid year',\n",
              " 'possibl serious consid suicid sad time dont feel sad feel numb think suicid im tri get help hard open therapist suicid thought know power put hospit dont think need dont know would even accomplish dont think there anyth wrong dont want live feel weak peopl actual pain understand would want die dont know want die dont good reason im sure take serious',\n",
              " 'want die',\n",
              " 'suffer much pain want end process die sound pain cut wrist take sleep pill caus bodi shut down want pain end',\n",
              " 'want end seem still lack courag optimum way end life im useless slab mass near expiri date pointless im ad valu societi shoot seem bad option bc dont want live deform face survivesorri mom last hear',\n",
              " 'feel reliev think suicid',\n",
              " 'nice feel closur think kill make feel good final peac state worri anyon anyth feel calm think',\n",
              " 'think suicid nearli everi singl day lol wish happi brain doesnt lol dont know realli dont',\n",
              " 'cant fight anymor head explod pain scream much take noth go help noth ever dont even know think',\n",
              " 'feel like cut one talk',\n",
              " 'wish could give life someon want',\n",
              " 'embarrass polic detain suicid attempt',\n",
              " 'wont make life high school plan end graduat',\n",
              " 'think want end life relationship ruin someon year ago hurt',\n",
              " 'feel like wast life',\n",
              " 'wish one love could kill without hurt peopl closest',\n",
              " 'made suicid attempt last saturday',\n",
              " 'hate life',\n",
              " 'alreadi accept fact go kill turn',\n",
              " 'someon pleas help cant think anyth puls race feel like someth crazi',\n",
              " 'ugli want kill worri ugli scare other next life',\n",
              " 'life adult workforc make want kill',\n",
              " 'im go fuck kill',\n",
              " 'look onlin see articl commit suicid one method painless want die without pain',\n",
              " 'attempt end life past week fail everi singl time',\n",
              " 'everi night hope die sleep',\n",
              " 'feel futur might end commit suicid see point feel like mental tortur world isnt place noth like expect everyth end failur',\n",
              " 'wish abl kill first time tri',\n",
              " 'im alway toy idea suicid fail school',\n",
              " 'feel realli depress lone realli could use friend talk feel like sob hurt contempl suicid hang think tri pulley system thank goodby get back time',\n",
              " 'lost everyth wrote suicid letter tonight',\n",
              " 'feel suicid',\n",
              " 'noth make sens head daili panic attack depress episod go turn suicid soon',\n",
              " 'know ration life wont ever get better im passiv suicid',\n",
              " 'im consid end life sure ill alreadi plan tri talk',\n",
              " 'know im go kill probabl nd hope work ill mayb trainsurf jump build w wrist cut',\n",
              " 'hate everyon',\n",
              " 'fuck kill',\n",
              " 'keep live depress around dont feel littl sad week kill',\n",
              " 'past year ive struggl majorli depress anxieti mental health issu coupl sleep disord traumat experi yesterday help make mindi want die',\n",
              " 'feel like death',\n",
              " 'want stop feel lone hurt much',\n",
              " 'want lie train track',\n",
              " 'end life reason',\n",
              " 'deadlin go peopl alreadi worri want nobodi ever understand feel lone',\n",
              " 'want die son',\n",
              " 'thought way make suicid look accident idea',\n",
              " 'gonna kill therapi',\n",
              " 'love sleep pill',\n",
              " 'deserv die',\n",
              " 'last month ive play around idea end life',\n",
              " 'dont like life im probabl go end within year',\n",
              " 'life worth less',\n",
              " 'im go kill today yeah that that post',\n",
              " 'friend suicid pleas help',\n",
              " 'feel matter less dont matter care guy feel want kill im bore pathet loser feel like im blame everyth',\n",
              " 'go kill',\n",
              " 'zero hope zero energi zero contact fuck',\n",
              " 'cant take anymor second longer spend alon ill eventu kill',\n",
              " 'get readi kill',\n",
              " 'suicid option',\n",
              " 'love death enough',\n",
              " 'im think end thing',\n",
              " 'almost actual last night',\n",
              " 'life go end right',\n",
              " 'say goodby import peopl without let see commit suicid',\n",
              " 'would shoot head wear noos good plan',\n",
              " 'friend realli suicid help',\n",
              " 'might kill project cant',\n",
              " 'wait actual die',\n",
              " 'want end courag',\n",
              " 'suicid perman solut perman problem',\n",
              " 'want kill week',\n",
              " 'might go jump bridg soon',\n",
              " 'sexual assault assault someon think deserv live',\n",
              " 'inject bloodstream give quick painless death',\n",
              " 'painless way commit suicid',\n",
              " 'stare worldomet suicid counter wish could one',\n",
              " 'hate life hate way look hate black hate huge nose hate depress hate fuck ugli need kill alreadi dont deal pain everyday life anymor',\n",
              " 'school kill im even pass',\n",
              " 'deep know ill kill im',\n",
              " 'lost job ugli bulim use see point live anymor caus much suffer',\n",
              " 'want od bad',\n",
              " 'want disappear',\n",
              " 'liter inpati attempt suicid know still cannot find purpos want die one day success suicid attempt hope today day right headspac hospit suck need help',\n",
              " 'colleg go ruin life realli dont know besid kill',\n",
              " 'hello tool need end life peac next day book hotel room end life',\n",
              " 'work drive point suicid need help deal neg thought',\n",
              " 'plan take life brother anniversari year reach peak wanna anymor also plan helluva time go look forward reddit help lot thank hope escap hell hole',\n",
              " 'hello go end life next day',\n",
              " 'everyday big chore abus brother passiv aggress narcissist mother recent break person still love absent father still jobless panic attack chronic depress get better wait bu hit',\n",
              " 'need gun',\n",
              " 'realli think last year would last somehow partial know access pill gun tall build think jump cell phone tower near hous anyon got tip climb get',\n",
              " 'want kill weekend',\n",
              " 'hate lifei want kill ever sinc live fosterhom hate want know fuck reason want die school fuck school retard fuck idiot teacher expect fuck get best result peopl earth teacher told friend never go colleg graduat never get job threaten call polic talk peopl omeglei want die even',\n",
              " 'need motiv kill',\n",
              " 'im serious think end thing',\n",
              " 'depress drive insan',\n",
              " 'dont want die',\n",
              " 'pretti sure suicid isnt sin wouldv alreadi commit suicid',\n",
              " 'wish dead want live sorri',\n",
              " 'pleas help scare life',\n",
              " 'ever sinc past suicid attempt mind feel much slower keep forget thing scari think anymor',\n",
              " 'think tri kill know',\n",
              " 'reason live',\n",
              " 'hi suicid almost year tri kill last friday night anxieti attack fight boyfriend anxieti attack trigger plan month ago met bf took bunch pill im pretti sure would die took hospit everyth wors sinc attempt ruin everyth bf broken famili know anyth im asham feel like failur tri connect peopl surviv suicid attempt wonder deal life afterward feel comfort would like hear stori',\n",
              " 'porn addict make suicid soon',\n",
              " 'honestli know wanna die',\n",
              " 'want diei dont want wake againi cant kill know peopl get hurtbut hate myselfi serious cant stand feel like anymor hate everyth hate',\n",
              " 'actual interest passion hobbi feel like life point one friend friendship reason im still live',\n",
              " 'real friend anyon love im go alon die soon word good song soon im dead cannot wait pleas dont love wast',\n",
              " 'pleas someon talk kill realli want feel like option point',\n",
              " 'feel realli suicid need someon talk',\n",
              " 'time go cant fill void',\n",
              " 'realli want die',\n",
              " 'stop think end life',\n",
              " 'sad still suicid',\n",
              " 'took pill advil heard alon kill hope im scare take',\n",
              " 'today told mom want kill',\n",
              " 'feel broken everyday get wors isnt cri help want someon know bad hurt im go kill work super hard graduat highschool year earli noth end',\n",
              " 'im singl unemploy broke unwillingli sober live parent absolut motiv make thing betterw end life',\n",
              " 'yesterday love life commit suicid struggl time thought much better found bodi alway told kill would follow feel like betray want whole reason live taken away',\n",
              " 'feel guilti live',\n",
              " 'feel like worthless person aliv',\n",
              " 'short version got heart broken girl said lie multipl time led im junior hs fail class fuck motiv fix purpos life reason im aliv famili friend want take world much miser alway',\n",
              " 'im fuck tire everyth',\n",
              " 'want give away stuff best friend box kill',\n",
              " 'wish courag kill',\n",
              " 'built everyth need proud life loneli crippl want end',\n",
              " 'tri everyth could noth work im allow go doctor fat girl like curs cant escap matter hard tri im gonna tri starv death longterm suicid alway suit better',\n",
              " 'end come soon',\n",
              " 'month ago decid th birthday would end closer closer get day week away readi tri hang til everi day get tougher everi day wake angri still aliv know soon help feel sad tear escap miseri know kill hardest thing ever done minut second gonna take final free much better live constant never end pain',\n",
              " 'wanna die due poverti',\n",
              " 'dont think ever lie ive fed sinc child love much wouldnt let get abus wouldnt let suicid bullshit cant stop believ someon doesnt love im pan question gender especi supposedli made way im tire religi famili say control feel fuck easi would done like think want im tire famili belittl problem peopl wors wish easier end could final get away hell world',\n",
              " 'gonna end allsorri mom given lot problem whole life',\n",
              " 'tire life paini hate life much tire want end alreadi heart ach badli',\n",
              " 'pl wanna dieim tire everyth im tri battl result push ppl away theyr piss im tri disappear everywher onlin still dont feel like enough want life pleas way disappear',\n",
              " 'plan kill tonight longer live everi day feel like care much everyon around nobodi realli care feel useless like take space better dead cut even distract mind pain anymor want say goodby world way',\n",
              " 'male gay furri feel like give close end life',\n",
              " 'take anymor im go take life exactli like idol kurt cobain im go shoot exactli like cant take life anymor im done',\n",
              " 'want kill short guy',\n",
              " 'im readi end myself fail im done ive done cant anymor',\n",
              " 'shit could kill easili bad friend area could help hook drug dealer hate lone loser',\n",
              " 'im much painim end cant cope cant stop cri',\n",
              " 'shotgun shell keep case come point gun head dont feel scare anyth dont feel anyth thought would get upset realiz ridicoulu im there noth',\n",
              " 'death option think death option consid suicid thought like wont commit somehow got accid die suffer worst outcom',\n",
              " 'im lost everyth feel empti sad want end alreadi',\n",
              " 'tri suicid fail still want suicid',\n",
              " 'sinc quarantin start parent discov tran life turn garbag father constantli treat like shit month everi time start find happi take away one day told want kill told dare kill self rope garag give shit',\n",
              " 'wna die want give badli im exhaust got put zoloft ig might help dont want aliv anymor',\n",
              " 'wish could pay someon kill',\n",
              " 'sister want kill agre',\n",
              " 'everyday wake decid kill even',\n",
              " 'im kill right nowgoodby everyon',\n",
              " 'ugli girl make want kill fuck badli',\n",
              " 'think found way enjoy life',\n",
              " 'kill new season one fav k drama come soon',\n",
              " 'hate everi inch disgust bodi hate act say hate life hate school hate aliv cant make day anymor without cri even know still aliv',\n",
              " 'like anybodi read plan kill within next week want see devil tower ill go friday sinc itll sunni warm nobodi care noth left live',\n",
              " 'find comfort know eventu kill',\n",
              " 'fantas kill go sleep',\n",
              " 'live sad pathet life',\n",
              " 'dont want die feel like solut kill',\n",
              " 'wish could take pill die painless death social accept person daughter honestli ball kill',\n",
              " 'ugli best get told averag wanna either tire live pretti goodby',\n",
              " 'husband shot head day ago im next',\n",
              " 'dont want kill feel there option',\n",
              " 'depress suicid peopl told main reason kill affect other say experi deserv love help support guilt trip someth control made awar fact live worth live',\n",
              " 'hink kill comfort',\n",
              " 'thought kill relax',\n",
              " 'pray die sleep',\n",
              " 'stop think want die',\n",
              " 'noth anymor kill want feel free aliv want wake everi morn think rest life job noth deserv advic save wish could give life person valu life anymor want sleep forev know someth wrong enjoy dream life',\n",
              " 'wish actual ball kill dont know',\n",
              " 'tri kill tonight snuck hous length rope terribl thick thick enough job first time ever tri use slip knot around neck tighten weight appli perfect use doubl figur eight around branch tree good reliabl climb seem readi place rope around neck step embank branch snap fell hell scuf hand cut leg noth wors lay feel cold wild blood leg rope still around neck strong enough tri finish job find branch would properli went home clean left rope basement lay bed think shit want escap shit afraid die know',\n",
              " 'feel freedom im suicid weird huh',\n",
              " 'kill ugli',\n",
              " 'want kill univers',\n",
              " 'younger brother want kill found disturb item room dont know',\n",
              " 'year old kid suffer suicid thought',\n",
              " 'realli know say tire tire live world everyon selfish although tri help other posit get thrown back face done tire want jump sea taken med sleep forev trueli believ time go noth dead end come across year tire die last year bodi take space',\n",
              " 'titl say get depress dont feel like studi feel bad even wors get low grade increas depress end circular loop comfort though idea final kill absolut nothing peac',\n",
              " 'goddamn want fuck die',\n",
              " 'ust type titl make feel sick day feel sick live like famili live poverti im late teen tri hardest help noth ever work end life next day tire live poverti poor peopl get poorer',\n",
              " 'readi fuck everyth hope wont chicken time hate much goodby good luck still guy need surviv shitti world',\n",
              " 'chanc becom rich cryptocur theonli reason yet kill',\n",
              " 'littl year life wors thing left hang bodi calm midnight',\n",
              " 'fuck world im lay sleep hope wont wake',\n",
              " 'im sorri mom sorri weak stronger sorri give tri harder think ive done enough fuck fuck watch kill front youbut im go im scare',\n",
              " 'came back suicid attempt fail still feel like shit still want die least got chocol cake kinda okay idk tri day hospit final got phone back',\n",
              " 'kill one life anymor want die',\n",
              " 'im scare want commit suicid alway see post reddit say alway chanc might surviv think hospit agoni month due headshot make shudder pleas need proven method tri true pleasethank',\n",
              " 'wish could go sleep never wake',\n",
              " 'idk feel come feel confid today feel differ today feel like final ball bit weird feel reliev know final go dont even need prepar anyth',\n",
              " 'love cat much want die badli',\n",
              " 'today attempt suicid tenth time',\n",
              " 'dont want home im live parent dont want find like think rent room hotel one night would rude peopl work clean servic think shoot forest near citi',\n",
              " 'pleas help mei want kill man brain make think one care love ive hate long rememb want end pain die much coward',\n",
              " 'everyth hurt much leav bed without want die',\n",
              " 'gonna iti probabl go kill april deal lot stuff true pain mental scare',\n",
              " 'good day today',\n",
              " 'advic kill myselfanyon got advic leav note give individu peopl post social media plz help',\n",
              " 'need die want anyth anymor want eat want sleep want breath',\n",
              " 'nobodi like one want anyth everybodi deal treat like burden fit like sinc young dont much left world',\n",
              " 'couldv happi life kid shit dunno depress took im go die probabl month fuck shit im',\n",
              " 'close suicid cant take anymor unbear feel broken wont get better idk say anymor except heart hurt',\n",
              " 'im pray dont wake',\n",
              " 'im much coward kill simpl button could press agreement could make devil wake id heartbeat',\n",
              " 'want kill dog thing stop everyth plan thing stop fact famili hate dog scare gone gonna left alon go sold',\n",
              " 'want life good explain want write paragraph upon paragraph think go end life weekend noth live life bore dream desir honestli life alway bad think',\n",
              " 'feel like kill think work ive slowli gain weight obes categori also diet feel terribl',\n",
              " 'suicid hotlin hung could even talk someon heyo everyon asleep want talk someon like cant even get first time ever use crisi hotlin want profession help cant afford',\n",
              " 'mental ill homeless pleas help make feel suicid psychosi pureocd insomnia wreck life homeless unabl finish school get job trap cycl destitut pleas help caus mental ill homeless five month lose hope make want die',\n",
              " 'give dont care anyth dont want anyth anymor give want done bad noth left give im die im die hell id rather dead die day day let done dear god let want end',\n",
              " 'consid suicid valid option first time life today lost broken current',\n",
              " 'someon help pleas dont know pleas want stop someon pleas',\n",
              " 'could realli use hug someon tell gonna okim okay id type im honestli tire think im sorri',\n",
              " 'dont want home im live parent dont want find like think rent room hotel one night would rude peopl work clean servic think shoot forest near citi',\n",
              " 'tomorrow good day die im final go im determin im go jump final first surviv even import psych appoint final fli',\n",
              " 'want end younger ask man ill cancer came unfortun surviv thing got wors ill end im strong suffer enough',\n",
              " 'im complet alon dont know ask helpim bad situat dont wanna thought tri everyth feel hopeless',\n",
              " 'plan kill cant find career current enrol degre hate mid work experi due crazi religi parent wouldnt let work younger backfir hard realis cant stand degre anymor option keepgo suicid',\n",
              " 'want dead want aliv want aliv want aliv want b e aliv want fuck live fuck hate want aliv',\n",
              " 'wish nurs would let kill im subhuman nasti',\n",
              " 'want die term',\n",
              " 'life end th birthday problem tire broke angri right useless world everyth terribl school job health issu social anxieti famili betray control whole life get judg never gotten girl terribl neighborhood wish could trade life someon actual want live th next week much time left',\n",
              " 'go kill week year old tran kid stand weight aliv anymor hate everyth never happi look fish compliment say fuck tire ugli never gonna pass never come anybodi see point live miser life bodi want agon plan use next paycheck buy shit drug overdos final peac holi fuck shit cant take anymor',\n",
              " 'need end know els say need end',\n",
              " 'thing go bad ill suicid mental feel freedom know end videogam right today infact right tool end im play hope might experi fun time game',\n",
              " 'got hydrocodon mg pill els would add death littl pain bottl ever clear',\n",
              " 'wanna die friend left boyfriend he reason im still aliv dream watch dieit kill bring step closer everi day wake he alway happi proud im aliveh doesnt know much mean close hang overdosingif one neg thing happen im take mani pill find',\n",
              " 'bottl percocet bottl valium enough kill fear brain damag',\n",
              " 'realli almost commit suicid bad hair cut start think might psychopath',\n",
              " 'plan of cut neck im afraid wont abl actual make cut would self harm way cut thighsarm help fear',\n",
              " 'im minut away attempt suicid dont know',\n",
              " 'start write goodby letter keep thrive fine fine want live fine want end today start write goodby letter want give friend famili explan understand feel think would hurt less leav bunch question',\n",
              " 'want die pleas call dyimg',\n",
              " 'im afraid tri method pain worki tri overdos sever time didnt work dont want suicid pain',\n",
              " 'f fuck done life pl tell get better might alway get bad never end cycl see futur frank want one refus slave away economi job feel like belong world feel like dead plan slit wrist overdos whatev find',\n",
              " 'fuck done man fuck failur aint point anymor life fuck bullshit',\n",
              " 'everytim feel suicid get aw terribl headach mean blind pound headach anyon explain feel aw around',\n",
              " 'everi day struggl wake intent differ shit im fkn useless want die never comeback got everyth happi seem im fkn broken dont feel pain go sleep never wake',\n",
              " 'want die alway want dog opportun get servic dog feel like turn kill feel like get dog end kill within year anyway dog owner idk probabl say kill ever get courag',\n",
              " 'think want die im sure continu',\n",
              " 'thing comfort thought suicideth bad sick scaredif one bad thing happen',\n",
              " 'dont wanna achiev shit leav mark see world hate want rest fuck im tire',\n",
              " 'tri kill went attic attempt hang usual dont even dare look stair want die time went upstair took rope tie knot tri soon felt weight neck scare ran away wish easier',\n",
              " 'everi day matter feel like im stuck time loop way death',\n",
              " 'draft suicid note let know guy find typo',\n",
              " 'tri kill fail im stuck psych ward atleast weekend pass time',\n",
              " 'im much debt suicid start seem like better option',\n",
              " 'two option either ill never kill im weak nobodi ever know unhappi suicid yet ill live miser life anoth year ill final get courag kill havent found easi safe method yet thoi want fall asleep never wake',\n",
              " 'ugli death sentenc kill year ago especi knew shitti life would turn',\n",
              " 'hate hate hate hate absolut hate life way ever worth',\n",
              " 'want die bad kill want break famili apart much pain want curl ball wast away mom never see ill even know anymor live feel fuck useless way make mom see kill',\n",
              " 'decid saturday whether kill',\n",
              " 'rememb last time tri fail n felt like shit day want fail low life pathet piec shit fuck coward live way anymor deal hate life mind face look mirror see real cring like hate stand look',\n",
              " 'loneli make suicid wish someon talk tomi friend busi feel fuck lone',\n",
              " 'genuin understand point life sleep work studi eat repeat miser cycl point aliv purpos hate everyon life tire treat like shit readi die alreadi',\n",
              " 'cant comprehend anyth im close end dont care anymor one seem ever understand take serious im sick feel bad fuck',\n",
              " 'effect would parent grandpar would commit suicid',\n",
              " 'want die purpos make famili feel bad',\n",
              " 'month ago badli depress chose attempt suicid overdos mg seroquel hospit day watch fight lifei almost die think wish get back way depress suicid thing bodi life care even check',\n",
              " 'ive think kill lot latelyand soo exhaustingmostli hang myselfand im afraid one day ill realli iti realli cant live anymor sweari tire everythingand sometimeswhen im drivingi get dark thought head like speed drive bridg im edg buildingi get feel want jumpim realli tire',\n",
              " 'wrote goodby note still feel unreal im realli everyth plan alreadi start summer vacat im go friend arent distract studi need escap',\n",
              " 'hate world think anymor',\n",
              " 'wish dead hate uncertainti life grasp air none given im alon wait mistak final hit guess say work happi place right would quit unorthodox bitter truth im home im man suppos love doesnt wont even get intim anymor despit know go break genuin want love fix fault relationship rip apart must keep clear els fail comfort die alway',\n",
              " 'life truli one larg tragedi sometim feel like suicid real way',\n",
              " 'got car accid year ago wish die hospit nice felt like time stop sit get better death kinda similar time stop everyth stop pressur push drain etc realli want long break sometim death feel comfort caus final get rest',\n",
              " 'late think end thing couch surf month offici homeless suppos start work next week honestli sure gonna make tri nearli successfulmi dog kept aliv foster famili love right wonder ask keep good final done life exhaust exhaust',\n",
              " 'plant id kill walk distanc apart',\n",
              " 'sorri mom want leav realli thought better handl anymor love realli go miss sorri',\n",
              " 'feel suicid although life paus tri recov huge depress episod novemb still cannot get grip life process counsel medic psychiatrist exercis liter seem work also bpd alway take hobbi interest help stay sane day two back feel numb realli want cut wrist die right noth seem fill void idea escap world',\n",
              " 'name ole im suicid',\n",
              " 'month suicid attempt dark feel come backmi fail attempt decemb made feel though meant die right thing littl brighter life feel pointless dark thoughtsfeel come back anyon help',\n",
              " 'fuck hate im tire live im dumb ugli sh much today wanna go allreadi im fuck coward art use keep aliv im start think pointless ill never get good im tire im gonna go sleep wish ill never wake',\n",
              " 'want die balconi apart jump im third floor ill surviv broken bone strong knife kitchen dont want feel hurt see blood accident get run one busi road',\n",
              " 'day born sad day dont understand went wrong couldnt happi like everyon age im im alreadi tire life whole life live hell im done endur tortur wish got experi happi childhood peer plan hope futur want disappear exist',\n",
              " 'final get sleep pill tonight wish best everi one tonight final done world final',\n",
              " 'tire live hate go forev today noth work therapi antidepress noth tire today ill seek high place commit goodby',\n",
              " 'im gonna final goodby',\n",
              " 'afraid suicid honestli want kill without hurt everyon els suicid scare wish sweet releas death want redo need go back time fuck wrong',\n",
              " 'goodby time go die attempt time one around realli dont matter world even parent agre im crazi selfish dont believ im depressedatleast blame someon die that product thing ive done far goodby',\n",
              " 'much happi know im go die happi sudden like fuck yea',\n",
              " 'plan sneak tonight walk basebal field near hous gonna bring knife go decid probabl realli want die yet mayb bad temper onlin watch say told kill multipl time today discord group realli wanna aliv anymor',\n",
              " 'may kill week life doesnt get better',\n",
              " 'realli get wrong got everyth anyon ask got great famili great friend colleg scholarship got absolut stressor life yet realli realli want kill self thought ever sinc want die pleas want die',\n",
              " 'plan jump height need tip effect surviv sure allow gonna regardless want help suffer necessari',\n",
              " 'feel almost die crush tonight endur void pain peopl close dumb didnt pay attent hour couldnt hide pass fuck fuck fuck fuck ill never feel peac',\n",
              " 'ive lost famili bipolar wish dead',\n",
              " 'think tri kill',\n",
              " 'write suicid note ask yeah start includ',\n",
              " 'romantic much suicid im sick',\n",
              " 'kill would abl still play ps stuff afterlif',\n",
              " 'im think jump balconi pleas someon stop',\n",
              " 'want die evryon saya fat wreind fuck covid worst',\n",
              " 'dont chang mind im probabl gonna kill self night sunday monday idc u read doesnt matter want say might actual tri someth',\n",
              " 'tri kill septemb got scare call end hospit week call help mistak want thu end want end keep hope die cancer someth guess easi',\n",
              " 'painlessquick method commit suicid dont gun',\n",
              " 'think ill dead lot sooner plane',\n",
              " 'want die feel bad friend famili',\n",
              " 'feel realli depress lone realli could use friend talk feel like sob hurt contempl suicid hang think tri pulley system thank goodby get back time',\n",
              " 'often lie bed wish could die',\n",
              " 'suffer alway think end life life hurt soo much friend nobodi ask wanna die fuck bad take life stand anymor',\n",
              " 'think pedophil want end life',\n",
              " 'im hurt badli alon afraid hate hate world pleas dont leav alon anymor dont want die alon pleas pleas pleas want peac also dont want die want peac anymor pleas pleas pleas need beg pleas end suffer',\n",
              " 'predestin commit suicid',\n",
              " 'hate live world constant battl',\n",
              " 'refuc job offer engin bad gut feel want kill thank ill show bath toaster',\n",
              " 'thought tendenc homicid suicid thing like full proof mass murder shoot end suicid also strang love gun need help',\n",
              " 'im verg suicid f serious cannot anymor mental health realli bad stress colleg make wors honestli stress might kill even kill im disappoint failur want end know exactli',\n",
              " 'suicid option therapi work pill work heart break famili take anymor',\n",
              " 'fuuuck someon give link pro suicid forum pl',\n",
              " 'im tire want kill everyday cant anyth need help one want help im tire alonef idek get bed',\n",
              " 'second drop stori build reason aliv',\n",
              " 'kill option left suicid good option famili friend left live bf emot abus whole relationship recent gotten violent go way get anywher complet alon clue kill know option scari alway work lone scare',\n",
              " 'yesterday attempt carbon monoxid poison lock car smoke overwhelm think last like minut throat sore took edibl sure physic bad situat ive place',\n",
              " 'kill noth live anymor dont deserv aliv havent open book week havent month noth spend day bed fuck shit id better go',\n",
              " 'kill financ mom tri kill entir life miser suffer bank even charg non suffici fund fee total im neg want fuck die live cat cant afford take care anymor cant even afford toilet paper everyth max overlimit im fuck tire exist dont even know ill abl pay rent',\n",
              " 'hire one kill think reach break point cant live anymor cowardli kill wish someon els would',\n",
              " 'dont want feel like option im wait anymor im tire broke boyfriend mental health reason mom threaten kick im tire live life im sorri',\n",
              " 'want last day aliv done wait go',\n",
              " 'freak realli need someon talk pleas pleas help',\n",
              " 'time smoke weed feel happi sometim even calm im high often question want kill soon come high existenti dread come back',\n",
              " 'someon help die pleas want die',\n",
              " 'im tire die carbon monoxid hurt',\n",
              " 'wanna die god still wanna die',\n",
              " 'dont want live hurt damn bad dont know hang like take physic toll',\n",
              " 'take much effort feel littl happi im done gonna hang week',\n",
              " 'thought jump balconi one stori though could break someth end dead right away suffer night end parapleg',\n",
              " 'fact peopl happi make suicid',\n",
              " 'hope last post would last post still surviv suicid attempt',\n",
              " 'turn unhappi cri shower minut ago text friend one took serious end life tonight sorri',\n",
              " 'end life tonight cant anymor done',\n",
              " 'tri choke dont know thought gonna happen feel miser',\n",
              " 'depress year want end tri jump infront train yesterday im much coward sooner get better hate aliv im coward',\n",
              " 'im actual kill myself cri sleep sleep cri hyster cant take anymor im go im alon',\n",
              " 'dont realli want kill want live life would chang',\n",
              " 'pleaseim suffer cant take anymor tell easiest way commit suicid',\n",
              " 'im go hang tonight end',\n",
              " 'yesterday tri end life friend stop call lot make sure okay want talk still annoy stop know unhappi long time know want',\n",
              " 'think suicid pleas someon talk know',\n",
              " 'cant keep live anymor im tire ive decid ill kill mysef commit seppuku know painful least die good im scare pain anymor littl pain end wont hurt anymor farewel',\n",
              " 'im lost life ive got bad grade motiv antidepress dont shit cant sleep fuck im stress school think stand front fuck train forget everyth go anywher life there fuck point tri wanna get away everyon fuck suffer anymor im tire exhaust live',\n",
              " 'die alon seem meaningless bland would like someon watch unfortun anyon would like see last moment earth anyon would actual guess suicid livestream option good someon close next',\n",
              " 'feel empti feel like death much better wait done respons move sick world noth make happi anymor',\n",
              " 'kill hope everyon know fault',\n",
              " 'feel suicid never courag mayb tri week cant stand pain anymor',\n",
              " 'alway someth blame everi time fail test someth wrong blame adhd alway say parent treat better tri best ungrat useless cunt got self absorb realiz im worst thing happen must die',\n",
              " 'plan die hate life disabl cant realli acheiv anyth fysic limit what point live im pain everi day stumac hurt peopl say focu truth cant shit skip basi bloddi cant basic root social music sport etc shouldnt allow kill self daili pain frustrat would gone im alon everi day',\n",
              " 'plan kill month didnt want friend distract fail studi grief absenc break begin month alreadi much alreadi selfish move part im go even selfish may th last day earth',\n",
              " 'wish could talk one pleas want kill self need somon talk',\n",
              " 'im go kill turn im coupl day ill uni live final get away parent kill peac dont want scar alreadi well enjoy last year life that plu',\n",
              " 'know kill self alway troubl mental issu plagu tri realli hard right keep afloat yet know long say soon sure caus death someday suicid',\n",
              " 'plan kill day slite wrist bathtub cant anymor',\n",
              " 'cant handl anymor everi day ive think kill ive cut nearli everi day hotlin oper talk overdos dont go im probabl go die goodby get',\n",
              " 'tell therapist tri kill fourth time without lock',\n",
              " 'pleas need gun need one get mf hellhol one need life anyway hate aint wait around anoth year legal get one pleas someon sell gun help get one like kinda desper',\n",
              " 'dont understand suicid thought acceler much',\n",
              " 'year old ive date girlfriend year mother found begin year father accident saw fuck girlfriend told mother didnt talk day week later hung im gay mother keep tell im reason kill cant believ kill want hang next week id love advic give',\n",
              " 'would rather kill spot spend second talk someon like therapist everyon think therapi help help lie brainwash never realli mental ill',\n",
              " 'wife cheat kid togeth kid reason im aliv life cruel day born ive overcom worst circumst keep get wors kid reason keep go',\n",
              " 'care creat one either inher purpos life use read philosophi absurd existenti nietzch found interest belief written time know reason live tire',\n",
              " 'feel absolut noth yeah complet emot void idk want die recent diagnos bipolar like wanna cri either',\n",
              " 'wanna die keep live',\n",
              " 'convinc kill high sub insan depress lol peopl better one pussi want actual help much better get gener advis told accept fast food gig whole life feel free comment disagre collect karma lol thank brain work die sound realli nice sinc awak exist make feel genuin sick',\n",
              " 'get realli angri hate world peopl act im extrem angri everyday feel like im one tri think differ rest sheep want die im surround peopl',\n",
              " 'plan suicid tomorrow struggl live ever sinc cronic back pain cant even work even thought im disciplin respons year sinc depress everyday cri everyday trting suicid mani time scare leav love one im prepar im readi tomorow',\n",
              " 'know need lost lost know anymor neither care anyth happen around needi boyfriend although friend find go person get much caus face issu know go time motiv whatsoev anyth know longer show peopl state caus point even hide kill know famili around get know okay wanna old even know anyth lost',\n",
              " 'cant take pain anymor hard explain pain feel like someon extrem unbear even fuck alcohol use help help noth help worst know damn well fault hour back everyth fine great whatev keep togeth becam act like jealou piec shit fuck cant stand anymor want stop forev want rest final',\n",
              " 'hope find bodi bye',\n",
              " 'wont tonight next week week ive long fear life end suicid',\n",
              " 'life fall apart im option except suicid',\n",
              " 'feel realli depress lone realli could use friend talk feel like sob hurt contempl suicid hang think tri pulley system thank goodby get back time',\n",
              " 'someon pleas help feel suicid know',\n",
              " 'serious tri tell reach peopl jusr ghost what point mayb kill',\n",
              " 'want claw face im fuck tire everyth',\n",
              " 'yup fuck kill down pill know work hope fuck degener dead one would care enough put therapi live soon enough fukc shit life',\n",
              " 'think ill hang tomorrow cant take',\n",
              " 'struggl stay stabl emot get job go eventu kill noth chang',\n",
              " 'may sound strang im sure im tri kill like multipl plan tri hamg know would pain dont know count activ tri kill ive month clean self harm wanna bad dont know call suicid hotlin keeo tri hang',\n",
              " 'hey think come conclus want die want alon anyon els wanna die',\n",
              " 'year old took big knife cut neck big cut sadli live tri kill time alway mind mainli recent found old journal mine basic suicid note deal big scar fuck voic need chest thank listen',\n",
              " 'amount suicid thought normal',\n",
              " 'probabl kill depress psychot symptom autism mental abus parent humor help hide pain lmfaaoooooooooooo',\n",
              " 'go end tri move today fail life go etern fuck ive lost boyfriend plan marri stood mother cant take mistak anymor fault im go take last colleg exam take pill threw away everyth im fuck head cant anymor id rather end parent see descent honestli screw live anyway havent want shit sinc fuck im done earth fuck never deserv live',\n",
              " 'feel like time end life sooni tri hard get except anyon sever year alon feel like alreadi fail life got reject time find friend seem imposs even got wors sinc cant get school stuff done sinc pandem pure hell need appli job got deni often forgot count want end want free loneli pain life last time smile year ago last time saw someon consid friend year ago want die',\n",
              " 'middl school atm wanna kill stress homework social pressur best friend known whole life would upset',\n",
              " 'depress diagnos start think bipolar everi depress episod get realli realli bad alway get close end miracl dead die everi time low miracl tri end lucki place school public etcthi diseas kill hit somewher end guarante fuck termin never escap cycl die gonna fuck die',\n",
              " 'keep fight know miser friend famili hate love someon broke almost year ago tire exist big pussi kill constantli wish would get cancer get hir car want die scare mess kill keep live famili constantli shut give fuck relationship love ex terribl person fail everyth deserv live anymor',\n",
              " 'hate much hate trust hate know deserv noth need sleep never akeup',\n",
              " 'realli feel like kill today guess ill go get bj somewher realli seem reason stick around otherwis life seem pretti aw pathet',\n",
              " 'discov perman brain damag sleep depriv notabl brain fog troubl word recal memori best way kill decid go futur stupid tire deal pain everi second everi day tire miser want live want chanc death dont want surviv disabl sort fail attempt',\n",
              " 'first time long time actual cri im fuck overwhelm everyth import exam tomorrow bare studi fuck im gonna fuck fail alway put everyth later never noth tri ever work tri somewhat posit today im full mental breakdown fuck hate',\n",
              " 'noth gotten better much pussi anyth suck hate wish someth could kill love one could blame instead',\n",
              " 'ive decid kill sometim week probabl tommorow next day',\n",
              " 'tri choke almost pass',\n",
              " 'fastest least pain way peopl kill histori age buy gun',\n",
              " 'done end life option year sinc suffer sever depress tri differ doctor differ med differ dosag differ therapiststri take step like exercis n desciplin life good diet prayer absolut noth everi workedmi career spoilt spot done start feel suicid',\n",
              " 'wish courag kill life pain know even present opportun know thing want experi love see get care famili leav behind hate anyway brother tell everi day kill nobodi would miss certainli given almost time go',\n",
              " 'feel like im mourn deathi havent die yet feel like im mourn like everyth think oh someon think time sad itll one last convers even though never stuff like everyth distant nostalg im wait death im miser feel like im griev death want stop',\n",
              " 'want kill sike love',\n",
              " 'what easiest way end life',\n",
              " 'hate live everyday want kill bad wish life life would end',\n",
              " 'reason live two closest friend left like within two month close seen weekli noth right everybodi hate fix much easier dead',\n",
              " 'wish gun hollow point round would quick easi edit hollow point round bullet that tip hollow ridg design break apart expand impact make amaz suicid',\n",
              " 'goodby serious cannot take anymor brain hurt much',\n",
              " 'suicid button would press long time ago titl say want live longer want commit suicid either im scare keep like someday ill take courag end',\n",
              " 'im final everyth readi im bit scare ill jump hope work',\n",
              " 'long time sinc post someth cant say im suicid rn feel anxieti cloud dont like live like know realli want rn someon talk someon hug tight want talk someon anim music dream someon want share feel think dont want die suicid simpli dont want think',\n",
              " 'want die need someon vent',\n",
              " 'pretti good life yet want die someth wrong sick fuck',\n",
              " 'hard time never easi live desir reason mani thing wrong damn tire pleas someon pleas pray',\n",
              " 'suck die alon kill wasnt depress enough alon make lot wors anyon want togeth plan togeth hope die alon',\n",
              " 'im tire life im tire everyon blame even though fault im tire keep everyth cri bed im tire everyon keep tell ive wors ask born world ask life want pain gone least bearabl wanna rest long time want everyth end',\n",
              " 'what easiest least pain way die hope possibl sleep',\n",
              " 'reddit horribl everi time express opinion get hate last time post peopl downvot post hell matter place toxic make want shoot heart die',\n",
              " 'feel like truli worthless someon use think anyon would care gone find also care other feel like let someon go allow sad normal anymor feel like crippl grief long stori short feel like kill die realli matter end peopl forget one ever rememb',\n",
              " 'would simpli like die',\n",
              " 'rel painless suicid method set noth live support network friend want much pain gun car',\n",
              " 'suicid ideat im disintegr realli bad im refus live la la land basic im break away narciss also someon stalk also narcissist hard go cold turkey knew addict know narciss addict heroin ive never done heroin relationship fantast im tri get idea life realist help give advic think ptsd cptsd',\n",
              " 'im tire live cant handl life anymor break apart nobodi talk im feel sick hurt lot dont know go',\n",
              " 'there much want talk friend famili cant cant get word cant find appropri time dont hear speak anyway dont hear im project best dont want die want never found',\n",
              " 'life damn hard im broken hurt numb empti im fuckin tire',\n",
              " 'look wanna panic throw shouldnt bodi move that horrifi woven system control brain alway work cut control im terrifi stay insid much longer',\n",
              " 'took mg zoloft mg mirtazapin expect die',\n",
              " 'want die onlin class',\n",
              " 'complet ruin friendship he block place onlin support care time ruin badli cant fix im go die plan birthday im horribl person anyway loss world hope ex friend good life futur',\n",
              " 'year old femal ruin everyth rude peopl want help alway fill anger happi moment life go vacat last summer prom th birthday week ago terribl sad reason feel like noth worth let everyon motiv anyth high school want die',\n",
              " 'bye dead read wish luck',\n",
              " 'take stitch pile flesh bare capabl exist think claw piec tear skin tendon apart thought consist almost entir cleav hand scrape eye socket dream involv vomit rib intestin want buy gun finish job even look mirror without lose focu around friend anymor constantli remind scrap togeth death would merci',\n",
              " 'less hour make jump everyth today last heart beat fast verg death feel like life mean one fault mine im readi thank',\n",
              " 'want die ive suicid sinc idrk pull thru famili say im selfish well wish selfish end shit call life reason im still cousin littl sister also promis made long ago leav tell ne gayzzzzzz clear month rlli think',\n",
              " 'two idiot sex year ago live fuck world suffer everi singl day die even stupid whim brought world im suppos thank reason im still im scare kill hate physic pain even live everi day thank fuck chronic ill cant forgiv parent bring life selfish thing',\n",
              " 'realli wanna shoot tell anyon suicid thought send back psychiatr hospit bottl send somewher even help parent think kill selfish understand depress want die',\n",
              " 'realli reason aliv parent argu im completlli fail school lost friend clinic depress need advic kill',\n",
              " 'still wanna die im learn keep nobodi want hear got shit go easier shove im find new way get easier everi day feel less human everi day guess sustain whateverright',\n",
              " 'want die suffoc keep live want feel noth caus cri alreadi done treatment tell work meant happi wait death come pleas someon manifest nice death',\n",
              " 'ive alway love death sinc younger concept death comfort idea suicid seem cute appeal fuck like photo peopl suicid want either way realli want commit suicid plan complet includ rout know mani peopl love dont care dont care anyth',\n",
              " 'attempt suicid saturday made sure delet social media app also pictur phone besid school note school note pictur motiv write shit made sure save save day later theyr gone fuck get tri kill still aliv bullshit fail school year thank univers',\n",
              " 'wanna dead',\n",
              " 'birthday today want die ever',\n",
              " 'reason live life meaningless one care one ive alway treat like dirt kind expect matter much care other never reciproc ill set anoth suicid date soon probabl dont feel pain idea like use natur kind funni case think would hilari die',\n",
              " 'im think end life soon',\n",
              " 'hello think suicidebecaus credit debt need someonewho loan money real worl need',\n",
              " 'life fail simplest dye recip dyer profess project everyon hate ugli im end tonight',\n",
              " 'suicid almost past year plan coupl month gotten pretti good hide depress late sort wish could talk someon thought go around mind kind want vent someon hard know tell anyon tri make get help tri stop',\n",
              " 'matter hard tri fail peopl get advantag anyth right want get kill soon possibl abl anyth right',\n",
              " 'think might kill tonight tire feel want end horribl',\n",
              " 'want realli dont like fuck life let pleas',\n",
              " 'im tire place feel like say anyth one judg go im plan kill tonight im wait parent go bed',\n",
              " 'someon pleas kill want longer',\n",
              " 'alway fuck thing im kill cant ever anyth right im done fuck done im weird dont deserv live make peopl uncomfort im done goodby',\n",
              " 'neck cant take anymor tire live peopl care fuck grade look bullshit matter alway judg play video game parent take thing make happi hope chang peopl treat like shit cri kill mental broken point rememb got point snap school said want kill bitch laugh stood walk desk push seat grab bitch hair slam head floor kick teacher could stop point piss would attack well suspend came back start shit go back home kick harder slam harder done told would stab kill stop parent put mental hospit still want kill spite everybodi around',\n",
              " 'make sure kill tonight got everyth need right matter time',\n",
              " 'feel suicidali dont know much fight im broken',\n",
              " 'want take life someon could tell way could quick possibl painless ill verey grateful someon pleas help find way go peac',\n",
              " 'want kill everyday afraid never courag doom live abomin bodi rest life',\n",
              " 'kinda wish famili didnt love could kill peac',\n",
              " 'find googl want kill pretti much everi day',\n",
              " 'bet kill apart could easili go month anyon realiz',\n",
              " 'wife commit suicid want follow',\n",
              " 'whenev thing get shitti think kill make feel better',\n",
              " 'piss convers anyon suicid without think go immedi kill',\n",
              " 'regret attempt kill chanc feel trap realli know anymor',\n",
              " 'one live cant live thing want die',\n",
              " 'think thing stop kill fact like pain wanna peac disappear sleep get randomli abduct alien dont want peopl rememb think wanna vanish without trace ive fuck much alreadi',\n",
              " 'wish allow commit suicid',\n",
              " 'wish fuck die sleep fuck everyth ruin everyth touch',\n",
              " 'cannot believ undeni hard kill ive tri gun hang multipl time throughout life im amaz never go even everi reason fear regret action power guess im mostli afraid live gunshot horribl agon pain still aliv possibl veget statu gun taken away mean never tri sadden wish legal painless peac way go didnt requir jump mani hoop mani year get',\n",
              " 'nigga liter want kill pussi want hurt',\n",
              " 'thought kill give comfort know much longer matter commit suicid fact done pain anymor know noth side worri neg pain noth comfort wait die think kill everyday hope much longer',\n",
              " 'inm write die took alot pill im sorri famili wasnt strong enough im sorri fianc could make till wed send money mother fold work come tomorrow im fell like im might ye peac may god forgiv think use knife finish',\n",
              " 'lost best friend told cant take depress like ask fuck im tri open peopl step kill sorri least would peac fuck peopl',\n",
              " 'anyon spare time talk know long shot nobodi talk friend need get thing mind that drive crazi attempt suicid almost succeed week ago feel helpless weak person ive alway felt way last month lot wors thank',\n",
              " 'time get away depress suicid im sleep wish could sleep forev awak exist think rememb eat bring agoni suppos kill today couldnt go im much pain right',\n",
              " 'tri hang yesterday delet everyth mobil laptopi wrote note want hang myselfi couldnt feel empti day thought fuck night im get fuck nightmar whenev wake im automat feel need kill yesterday got real string thought put rope necki couldnt im worri mom dog cant continu live life wish could get gun itll go away bang one im afraid futur way could escap miser life death never realiz hard put rope around necki fuck career fuck life point everyth seem pointless',\n",
              " 'attempt suicid last night drank one bottl vodka took pill valproat told parent made throw pill feel like failur shouldnt told go drink alcohol go sleep hope id get respiratori failur die also go take benzo father hide anoth suicid attempt year ago feel helpless hopeless empti lone realli wish id never wake',\n",
              " 'hate conflict feel one hand wanna take life hand feel anxiou wanna hurt everyon life trauma emot physic abus child keep come ptsd hurt bad feel like never escap wanna end bad wanna hurt littl friend left brain hurt bad want stop',\n",
              " 'got argument parent mom punish went upstair whisper go end like friend commit suicid year mom heard first thought make threat explain problem went outsid call doctor tear eye love mom death feel terribl make feel way want cri realli',\n",
              " 'girlfriend year first broke im depress thank help lot want kill ever cant otherwis shell feel guilti doesnt deserv she good person best ive ever met one who fuck even born hell also mt brother kill relationship least dont know hold long',\n",
              " 'incred sad depress dont see anoth way jump ledg honest didnt want die want anyth feel like shit human thing make peopl tire constant sad want someon see problem help',\n",
              " 'need advic friend told go kill today met tri talk understand couldnt help tri offer session specialist deni realli set idea ive tri talk good thing doesnt care left take cab apart want die',\n",
              " 'life alway suck cant wait die wait constant painnot even pain agoni pain cant describ much say much truli mean dont access gun razor blade anyon better idea pleas tell hope go hell that low life lazi peopl like go',\n",
              " 'fastest painless way die pleas ik say dont smthg im fr rush help',\n",
              " 'want least clean room write suicid note even care anymor ill silent stop suffer',\n",
              " 'dont wanna die feel like there option',\n",
              " 'want rest dont understand peopl live surviv without ever think suicid life enjoy much happi simpli think whether theyr happi yesterday mom cri arm beg kill want promis wouldnt couldnt want gone stop think stop exist rest',\n",
              " 'r good way suicid dont write help shit',\n",
              " 'wanna end today best friend kill month ago alway sad see better day come anymor th suicid iv go tire hurt go loneli exhaust',\n",
              " 'want hole wall somewher dont want apart hous anyth want hole wall secret room come go night realli time dont want seen want invis dont want anyon know name want like never aliv want everyon forget ever aliv die want everyon hate fuck hate everyon practic way kill everyon world kill one self hate idea die anyon els still live',\n",
              " 'gpa terribl want kill long stori short calcul gpa calcul would well next year fuck im sophomor year high school right pandem start freshman year grade drop much point fail everyth realli thought id turn thing around gotten grade appar damag irrevers look even well sat act wont get good colleg im failur parent older sister pretti much everi adult rel dad side went amaz colleg ill probabl one go commun colleg hate im probabl go go bridg jump alreadi tri overdos ago didnt even take enough throw',\n",
              " 'life isnt fair im tire feel powerless ive got lack control everyth around find overwhelm need accept fact im worthless insignific ill never power ill never complet satisfi life way thing death would sweet releas escap overwhelm harsh realiti life anymor',\n",
              " 'look everyth wonder could use kill tire anyon els get matter build lake whatev tire frustrat',\n",
              " 'tri kill fail stop take care teenag girl suck ive stop exercis homework see friend thing like bare shower stop track period daddi doesnt care one feel worthless stuck',\n",
              " 'want end allow want die simpl cant die know destroy famili death cant live without partner either want follow grave took life shouldnt cant famili god want die want live contrari feel like forc live',\n",
              " 'wanna kill aunt die dad got diagnos cancer mom found im fail class',\n",
              " 'dont know anoth year today th dont know take go anoth year ive fight demon trauma year dont think keep wanna go sleep forev hurt keep fight',\n",
              " 'wish end life today im constant depress loneli keep panic attack love one reach mom famili member hate reason dont know point keep pray god get panic attack im constant tortur',\n",
              " 'thing fear abl success kill accept life shit probabl go get better physic health issu long die',\n",
              " 'keep delay death wanna keep live im afraid death didnt put commit noth thought die anyway one day ill courag kill everyth els wont matter anymor total dont courag hate life im scare die pray suffer end nobodi seem care',\n",
              " 'im alon im scare feel bad could someon say someth pleas doesnt matter need someth feel real know isnt helplin dont know could bear say loud need connect feel someth pleas',\n",
              " 'lone think commit suicid everyday never felt lone life pandem shown truli real friend kill insid like knew confirm lone one worst feel world worthless anyth life friend experi mani thing right noth absolut noth keep cri sleep one die purpos sure one would care tire sorri',\n",
              " 'im think end',\n",
              " 'girlfriend left cant bare pain head pain ocd keep unwant thought ther pain chest head cannot distract im broke cant anyth idk want kill cant take anymor plz idk idk',\n",
              " 'im tire aint suicid depress bore either mostli tire tire wake everyth tire live',\n",
              " 'hate everyth liter almost like cant feel anyth hate toward everyth life crap final kill success',\n",
              " 'think end lot much coward actual painless instant death right hell ye would easi access way coward success rate bet see reason aliv happi futur see noth want kid hous wife success job like noth want see world beauti thing may beauti other see see sunset cant feel could say wow beauti sunset unabl believ word know life gift valuabl treasur want ask made shit',\n",
              " 'simpli deserv death fault im useless bad cring edgi depress kid bulli right dont friendsal listen hatsun miku watch stupid japanes cartoon wonder one like im weirdo cant normal harm myselfit still fault end lifeit still fault one ever care bet would diethey would mock death say danger insan psycho lock never escap hell nevernev never forget said',\n",
              " 'want die dont want commit suicid hate myselfi want dieut dont favorit charact game yet mother nice know would sad diei dont want pain either jump bridg wristcut put rope around neck sound like hurt adhd cant focu stuff get bad grade might fail go privat school famili pay lot parent arent rich father job might go well whenev speak problem anyon alway get sick talk much neg energi feel bad cant say anyth introvert peopl alway talk first speak voic small peopl cant hear well dont die easi wont sufferi want gone worldlik press button disappear im tire',\n",
              " 'feel realli hopeless happi long time get point even know continu fight feel lost useless like purpos tri mani time find thing make happi bring happi seem actual find true happi time happi seem temporari everyday wake immedi want noth go back sleep loop sleep everi singl day much time awak hurt realli anymor tire fight aliv everyday',\n",
              " 'dont want keep go hate life',\n",
              " 'life bore might well kill reborn fruit one',\n",
              " 'want die asap mean that noth world hurt much dont want help want leav im go tri tonight noth even matter dead anyway that alway think end one day noth matter life care u die',\n",
              " 'fuck got fuck plan might today tomorrow even fuck year im go ask crush say fuck kill fell like fuck anyth',\n",
              " 'cancel suicid plan talk onlin bestfriend somehow convinc die mean dont want die hope mind doesnt get chang day later',\n",
              " 'never courag kill wasnt snivel worthless coward would made someth life tiniest bit anyth make person worthi exist would someth useless eater fat worthless lazi stupid undeserv piec human garbag shit thin skin honest human see truli would agre kill immedi never piec shit right peopl never kill wrong one actual compass courag go wish good enough person drive everyon away kill wont cowardli piec shit',\n",
              " 'walk bridg strength end suffer know tri everyth hotlin worthless want stop hate much option regret walk away bridg feel wors',\n",
              " 'younger sister wouldv kill fuck self',\n",
              " 'wish could sleep etern want die want live mean live like want cri anymor wanna hurt anymor wanna get way',\n",
              " 'sorri post get everytim ive tri ive felt happi last day today happi day rare im happi excit hope last time hope wont wake tomorrow',\n",
              " 'intrus thought suicid ideat imageri thought dead via certain method find distress dont feel risk moment idk find thought realli confront idk start',\n",
              " 'realli bad dream made suicid today realli bad dream content take life feel bad right dont think face parent need vent pretti late dont think anyon awak right',\n",
              " 'feel suicid know mother friend want tell feel cant im feel realli inadequ right root canal discov jaw bone loss get brace correct open bite approach obes first time short ass life also stress pay extra year colleg along potenti dental bill im constantli tri diagnos health issu recent ive notic stutter got wors along tinnitu intrus thought od ibuprofen one got pill root canal fail take care dont know im think ill feel much better gone hate feel sorri condit',\n",
              " 'im sorri cant keep im sorri best friend cant keep ive depress long time im tire im tire im fuck tire im tire dysphor im tire disassoci everi day entir fuck life may th date told may th date wrote phone that date delet phone cheer day last week may th date reset head even though didnt reput phone may th date never fulli left mind know said tell therapist dont think courag tell therapist pick date mayb dont want stop know im go break heart im sorri im sorri love alway',\n",
              " 'delet account told found anoth person broke cri hard thing thing end friendship relationship tell found anoth guy hate cri go meet',\n",
              " 'im failur want life sick aliv im worthless high school dropout friend kind futur feel like would save lot air hung tomorrow thing stop parent suicid would ruin yet life weight heavier pass day brutal soul eros becom unbear job help mental disabl fulfil pay pittanc ill never earn enough start famili viabl partner anyon ive never romant intim anyon think ever feel like im miss vital compon human experi im failur looser anyon estim want',\n",
              " 'attempt suicid saturday night one know took bunch sleep pill alcohol two day bender went bed hope wouldnt wake dont know talk anyon happen dont want say word anyon fear make real mean say friend famili tri kill without even notic trust',\n",
              " 'rather termin ill least know die one give rat ass suicid unless want feel guilti',\n",
              " 'nickel everi time told someon depress call troll would liter billionair said mani time nobodi actual care pretend',\n",
              " 'think im go die soon anyway im feel well im alway run breath head swim alway hurt like one second stop focus pass that well money famili love hope clean cloth cant shave shower yet everyon keep say need live much live wont help pleas kill help cant live like anymor pleas kill',\n",
              " 'month sinc last suicid attempt everyth got wors honestli wish could give life anyon els tri practic gratitud feel like matter much good end back even rememb last time ate constantli confus whether someth actual happen get nowher therapi afford bill wast person',\n",
              " 'reason keep go want anymor even write long thing miser tire anymor sorri',\n",
              " 'recent fail suicid attempt dont think live shame scare peopl care even scare insan dose benzo dont rememb much happen spontan wasnt lucid sober think fri brain someth dont feel like anymor ive made huge mess want dig hole guilt shame unreal dont think recov take back life im realli scare',\n",
              " 'painless method look way quit time noth go ok life way year look painless method low pain toler im still kid go pharmaci buy anyth',\n",
              " 'overdos feel calm wait til death take bit sad die alon okay least soon free',\n",
              " 'close rel hung word devast age year older year old hurt much sick fact parent pay attent pain children teenag super super vulner see late furiou person suicid attempt peopl say mental disord mean anyth live borderlin person disord complex ptsd consciou life ive suicid attempt im sob understand dont want one peopl matter difficult pain dont want leav world earli pain tri see least ray light world sometim lose faith feel pain strongli everyon current read pleas dont leav world pleas move pain matter ask help whoever love import',\n",
              " 'think readi get drunk sit look gun think final time gonna finish bottl get shit life',\n",
              " 'lost everyth everyon love see fuckin point want fuckin die',\n",
              " 'write onlin password famili commit suicid',\n",
              " 'use suicid prevent onlin chat featur vpn set differ locat protect',\n",
              " 'hate mucb im bad person mental ill make intoler toxic everyon leav ex left miss much last person could open he gone im okay one go insan suffer alon cant anymor',\n",
              " 'none matter speed natur cours action gone within min post go im sorri leav behind cant continu anoth day',\n",
              " 'realli hard time life stop fantas kill attempt suicid past overdos kill rather caus neurolog damag impair motor skill hand reteach everyth hand move past tri pick piec learn appreci aliv mental health start improv got good job pick healthi partner life great right last juli grandmoth best friend fell hit head resuscit despit dni spent two day total veget die right also onset chronic pain condit sick start alreadi deal pain endometriosi adhes bind organ last month see doctor one help stay pain scale day long everi day night sinc keep almost year nonstop pain matter much therapi support want pain stop obsess think properli error know firsthand like fuck suicid attempt left damag point fear wake hospit even pain keep kill thin hair everi day get closer edg famili therapist see tri hard help tri hard help noth work pure agoni mental especi physic feel born suffer surviv traumat childhood year abus sever mental ill struck genet diseas age feel pathet like die insid way never experienc',\n",
              " 'go final almost time everyon goe bed bunch tylenol wait terrifi hope pain soon goodby',\n",
              " 'want end pain laid rest point im sick cri panic attack never ask born fuck parent life sinc becam parent young want die im scare',\n",
              " 'wrote suicid note idk night went bed pretti earli randomli woke start get intrus thought would say ever commit suicid left note right got journal wrote note get random thought consid suicid sure thing pop mind seem justifi made suicid actual sound like option actual suicid plan know would say note know would thought alon terrifi',\n",
              " 'mean form encourag manic inher worri took mg paracetamol tablet mg ibuprofen tablet anyon idea danger need throw help pleas',\n",
              " 'actual unattract societi decid ugli sinc birth one ever like friend lover tri commit suicid',\n",
              " 'insid dead outsid die',\n",
              " 'hate everyth wanna die hate everyth everybodi stupid dont peopl use brain hope die soon idc soul burn hell least dont deal humansi hate wake everyday pain dont want help',\n",
              " 'dont rlli see reason live dont want live sadli still kinda care life like cant list anyth would give reason live mean love parent love friend dont care dont want live',\n",
              " 'need way need painless way get world im tire pleas',\n",
              " 'ive mix three time xanax dose two time muscl relax dose alcohol dont know that bad enough die took four time xanax hour ago jt half life hour make think good hope die normal id text friend anymor im go die alon wish didnt die alon part suck dont use reddit shira jonathan alex mari miki micah keith rees matt love much',\n",
              " 'im worri ill kill soon dont know fear justifi',\n",
              " 'im soooo suicid everi fuck curs damn evil unjust dayeveri half sec pain everyday get bs morn worst kinda late need get bother doesnt get betterit get wors fuck suffer life societi peopl etcfuchivjjkkkkkkkkkkmi word dont justicei dont even want anythin anymor',\n",
              " 'know im point id take life time littl voic head say feel tire drain went therepi past year recent stop go month ago dont feel like im make differ life anyon els want see love one happi like dont care alot go right thing thing go person life well idk right place vent didnt know els go dont want put situat feel suicid',\n",
              " 'go kill graduat idk long graduat least leav someth accomplish imagin keep live stupid depress anymor teen life noth sad suicid attempt failur burnt friendship slowli distanc famili feel alon scare death feel peac idea die go die guarante safeti till graduat',\n",
              " 'realli fuck tire deal depress alon realli fuck tire',\n",
              " 'think alreadi pill ive toy thought suicid perfect time see parent left vacat nobodi around stop im take vicodin xanax feel pretti good rn still pill front tempt take end futur hopeless lost job back april best job id ever threw deep depress end call suicid hotlin big mistak involuntarili commit psych unit made take med insur didnt cover still owe around bottl latuda shit drug wish could sell someon help pay im put hundr applic week luck unemploy im probabl gonna swallow pill love interest isnt text back much anymor probabl found someon els nobodi ever love keep live ill miser wage slave that given form dream peac yall hear morn dont wake guess that',\n",
              " 'keep tri make your gonna kill ok whatev arent bad id ask where razor blade wanna kill say check draw sink push stair head wall im allow get treatment watch tri kill give thing im deathli allerg snort die bought new razor bladebox open put trigger ptsd ed situat never allow cope mechan tri kill everi day minut ago want work couldnt find goddamn fuck razor blade search minut ago kitchen knife dullin morn itll see arent dead fake bitch wish gotten abortionyeah wish',\n",
              " 'struggl suicid thought daili nearli year therapi help everyon life temporari keep becom fuck day day matter hard tri alway fuck wast oxygen kill yet alreadi decid fate suicid go die ill old age car accid cocktail drug alcohol bullet brain noth chang fuck mind',\n",
              " 'wanna think go final serious reach point deal everyth anymor',\n",
              " 'cant find happi im hypocrit im ungrat im hurrican everyon live im paranoid im indecis im lone im good help other cant seem make keep happi good thing go angel woman fuck selfish bipolar never happi cant anymor there noth left ill finish art end im tire cant enjoy anyth alway ungrat everyth famili friend love feel alon dont deserv love wish fuck ghost',\n",
              " 'dont care pain anymor use fear pain would come would kill alway led stop dont care hurt endur coupl hour end want permiss end im horribl aw terribl',\n",
              " 'might tri self mutil year clean need feel anyth im feel want call hospit cant afford think im better dead',\n",
              " 'far ive tri prozac made want kill took anoth type lazi find name didnt chang one bit took serotonin pill made feel like medic mere make look happi mental made take current depress pill serotonin one feel complet shit',\n",
              " 'feel tire come abus household mental physic entir life done everyth leav hous start better one cope chronic anxieti depress make way school got accept colleg find need one class transfer caus possibl effect accept lot filler stori dealt much stuff tire feel exhaust gotten suicid thought long time know feel done felt like final abl free happi even go colleg im start believ someth never go feel',\n",
              " 'whenev fall love someon shit goe sideway liter want kill im current treatment fell someon alreadi bad want cut bad dont anyth im fuck tire repeat cycl feel stupid dramat want die shit fall someon love stupid',\n",
              " 'im disgust im horribl gross need die hate much wish could jump cliff wanna miseri',\n",
              " 'cant take life anymor much cant even sleep im failur feel like kill whole bodi ach im giant burden bett roff dead im sick life cant take much help',\n",
              " 'marri idea kill one day live without want take away make healthi want want live activ want enjoy life want tire bore fuck angri want cope cannot built keep give hope snatch want want hope get better want everyon stop lie',\n",
              " 'everyon blame peopl everyth mayb peopl didnt blame peopl everyth wouldnt angri think kill peopl kill',\n",
              " 'found way hang im realli nervou cuz never realli actual way kill would work last time tri gonna jump lake middl winter polic got ambul took children hospit could though im lock room dog leash hung around bedfram way die sit like peopl tie belt around doorknob tri work realli realli fast took like second black littl panick unbuckl collar fast could could tie away hand next time tri abl unbuckl im plan tonight pick nice song write good enough note',\n",
              " 'respons peopl ive trust year let know suicid laugh shut fuck uphav littl bit respect',\n",
              " 'lot energi passion littl kid fun like mani other bit hype adult life',\n",
              " 'commit suicid hour alway knew would come chronic ill homeless go kill caus way earth popul evil devil go jump one say goodby friend love go die tonight goodby',\n",
              " 'anyon els wish could purpos fail suicid attempt get peopl care hear seem like nobodi truli give shit kill tri kill fuck',\n",
              " 'spend time plan death life find hilari fuck way dont want make plan futur mix chill pill im alreadi yawn like mofo im readi take',\n",
              " 'think pull mom tri hang fuck realli badli affect suicid havent told anyon peopl wit em firefight came call almost year dont think ill ever',\n",
              " 'nobodi care even fuck peopl reddit go scroll random internet dude gonna kill lol',\n",
              " 'last year attempt take life away hid somewher overdos damag bodi burn felt like heaven happi happi would never endur anoth day happi would longer feel pain sad die happi someon found surviv dont think kill often use miss feel overdos genuin felt amaz wont tell drug use',\n",
              " 'kill bulli kill took fuck famili away treat like shit week took away good friend everyon listen everi word say nobodi believ suck dick everyon popular get way stomp fucker head ground shoot atleast go rot hell like fuck',\n",
              " 'hope never post life pointless childhood badmi dad stepmum abus mum total neglect mei suspect autism adhd also cptsd friend reli realli alon feel like hope give strength even eat anymor pray god everi night die atheist desper believ peopl say get better tire',\n",
              " 'jobless suicid im kid dont get see havent seen year im felon current job babi way im sure everyon think im bum feel like loser futur dim fact dont see futur im done hold im done pray better day want pain anguish end',\n",
              " 'go kill someday unattract unattract that societi beauti standard say peopl judg look',\n",
              " 'think end life week ive deal depress past year half parent dont take serious feel alon pleas dont say love peopl care nobodi ever care promis im invis talk everyon ignor like im feel never import valid anyon els mother mental physic abus toward parent complain im wrong complain im like sister im like could move ive alway lame plan graduat high school leav colleg legal chang name never talk parent howev wait anoth year graduat part plan anymor im tire exhaust wish could explain tire mental physic dont rememb feel like happi anymor point dont even know believ happi anyway plan kill week today realli bad day almost end today go howev wrote suicid note today im sure ill leav behind go might leav explan thing better left unsaid read whole thing thank goodby',\n",
              " 'depress year talk anyon almost year half want someon talk die want say side stori',\n",
              " 'go end anymor keep repeat pathet loop feel sad desper angri feel noth keep hold peopl hurt wish clear cut find closur never get tire sick itand sick alon unabl help',\n",
              " 'isnt love failur job futur whatsoev scare speak mind anyon like fall apart abl speak like basic fuck human feel distant everyon want scare lazi dumb anyth known play videogam well play wish die middl school last time felt joy without anyth way ruin isnt fuck love',\n",
              " 'one reason live need one reason want live cant find even one reason shouldnt kill tonight',\n",
              " 'keep think non stop want aliv univers make suicid fail mani time take anymor clearli cut life third year school retak class like time know still program know much debt shit go get job field even get degre hate live dad constantli get made fun put around noth see point keep go life even get begin',\n",
              " 'someday kill unattract',\n",
              " 'cant take anymor im meaningless everyon ive wrote feel way dont even feel like wallow self piti enough retyp want gone cant take feel happi one day next feel bad dont want aliv anymor dont see point continu live ever feel like constant battl stay even okay feel like im noth anyon im drifter everyon life',\n",
              " 'sometim feel tire help everybodi care everybodi never someon hold back feel tire carri sky shoulder wish could wake anymor exist burden',\n",
              " 'exhaust want kill circumst problem look money etc live pretti normal life good relationship friend experi life drain push deal life problem come end okay life feel like never end cycl drain experi feel like alreadi experienc everyth want life desir money relationship friend etc slowli lose motiv chase thing want experi non experi bad continu live life fatigu idea capac experi thing seem attract probabl soon see reason',\n",
              " 'want buy sn kill need plan avoid get found wanna die alreadi seem like delay plan like week sn need least hour night could appar make nois even know ever much time shit exhaust',\n",
              " 'cant take im destroy mental thought need destroy world would better without someon pleas talk one right cant fight thought alon pleas femal due bad experi talk mental health men sorri im stupid worthless annoy bother',\n",
              " 'pleas someon kill pleas tire realli tire life point pleas meant die',\n",
              " 'im tire warrior long day someth click insid mind know im readi die realli live much pain im alon recent watch life like tunnel like movi watch everybodi els live watch even think might real mayb im longer aliv dont see self live entiti anymor thing got tire feel pain fight happi feel anyth even heart broken feel empti',\n",
              " 'hate everyth consid end highschool finish dont even know im go graduat plan futur good skill help dont mani friend famili live wouldnt make much differ anyon anyway',\n",
              " 'break friendship dont miss im gone im make love one hate may th kill dont feel guilti sad feel reliev instead cant wait leav world',\n",
              " 'consid cri help cant talk anyon refus feel better everyon get tire want die dont energi tonight get highlight im fat worthless piec shit cant anyth right dont mani friend sick chronic pain keep make ive ever want life seriou love relationship first seriou girlfriend cheat month life one long bad joke someon find right word say pleas arent kill im beg pleas',\n",
              " 'passiv suicid tri work sure ever will tri still want die live like someon kill unemploy work social realli hobbi youtub porn eat selfhat scari deep hole gotten see way sinc commit suicid hole go get wors wors enough still tri pain wish die last time',\n",
              " 'tire sad tire depress tire suffer tire alon want rest pain tonight almost tri hang noos even tie correctli video seen gave tonight',\n",
              " 'suicid thought public worst feel ever life chest hurt think im faint someth need calm music happen feel disgust around couplesfamili happi peopl dont noth im full bad ideat close eye never open',\n",
              " 'help im unwant suicid thought im im entir sure depress feel like ive worthless undeserv piec shit ever okay life love parent sibl cute dog late feel tire letharg miser like intens heavi feel heart alreadi go straight month alreadi found cri frequent dont problem irl friend im sure theyd heartbroken decid kick bucket cant help feel worthless everyday bore monoton even famili went spontan trip im suppos feel happi wasnt feel like im best feel like ive disappoint other feel shame grew older view life went excit thing miser exist dont feel like respons anymor dont shower anymor dont exercis anymor somehow overeat skinni frame becam pulpychubbi dont anyth look anticip life feel hopeless hobbi video game entertain becam bland thought turn tri kill case search tie noos tri jump rope work realli well wrist turn hand purpl moment figur dont want go path thought get wors wors sure realli realli dont want happen pleas advic appreci',\n",
              " 'want die im ugli cant tell anyon theyll think im vain seek attent im realli suffer appear everi singl day first last thing think everi singl day much hate face doesnt help either im surround gorgeou peopl time cri everyday bed feel like ugliest person world therapi medic didnt anyth want disappear alreadi',\n",
              " 'stop rip nail last night anxieti much usual id cut stop anyth lack blade rip nail complet suppos noth life threaten',\n",
              " 'ive made plan ive written note im scare oddli numb right im get closer edg dont want die dont want live anymor im tire talk im tire explain someth dont even fulli understand love wish noth best im go long walk think',\n",
              " 'sad lone dont want live ok post lone reject despress sub reddit repli wood look good spot away cant take anymor',\n",
              " 'want die bad also christian idea go hell scare much basic thing hold back final want commit suicid sinc turn month hell heaven shit real would long gone pressur stay earth god feel time die want soon',\n",
              " 'want sleep forev',\n",
              " 'nobodi gonna listen nobodi care end matter much tri nobodi truli understand care time actual realiz cut life short disappoint',\n",
              " 'took mg advil gonna die know want die anymor',\n",
              " 'need help feel like go make realli bad decis soon much fuck distress know anymor feel like one take cri help seriou tire everyth bullshit advic tire fuck lie',\n",
              " 'would like hire someon yeah would like hire someon kill buuuut dont think easi sorri trigger remov realli want',\n",
              " 'end life end least pain way realli possibl wont hurt much im scare dont think there anoth option pleas answer question',\n",
              " 'serious think kill friday end play doki doki literatur club instead though ive think death lot late wanna disappear dont know anymor',\n",
              " 'cant shit anymor think im gonna kill soon dont wnat end life feel like option cant anyth properli friend attempt day ago luckili okay trigger jsut cant anymor much ill wait see ill get therapist wont soon think ill end jsut cant live like gain weight last fuck push friend goe detail sh attempt shell liter drive commit get better think got wors bc idk anymor want end shit alreadi',\n",
              " 'im use sub liter name keep account worst tonight sh second interview dream job tmrw feel numb',\n",
              " 'mom came burst f room call failur struggl make happi quit job could happi childhood singl mom hard thought would make happi struggl low self esteem imag like long time recent get wors complet gave school think good enough succeed life gpa low get commun colleg tri get last quarter look everi littl thing someth goe tangent give job make happi depress want die believ make feel like contribut anyth never anyth good serious plan soon',\n",
              " 'liter shouldnt kill actual fuck redditor say shit like world gonna end get passiv aggress peopl say make want kill actual fuck wrong peopl like fuck peopl dont want die quick easi slow miser ripe age fuck man wish never exist',\n",
              " 'scare commit suicid way left overdos stimul caus much vomit hallucin much unpleas shit get gun bc live near bridg tall build suffoc hard get notic drown look like predica day',\n",
              " 'point life tri best keep go lose hope exhaust caus noth chang cant take anymor im even afraid death want go im tire shit reason live ive mani dream life seem die know',\n",
              " 'cant happi shouldnt kill',\n",
              " 'failur two week ago took entir think sleep pill woke next day complet call fianc even notic felt like huge failur spent entir day cri fail attempt even right well tonight littl less week birthday fianc tell move unhappi famili tell move may cheat emot break readi end realli hate life',\n",
              " 'want end life dont realli sad lifeim annoy immatur peopl hate believ countri would better place without im afraid might afterlif might end suffer foreveri wish death etern sleep',\n",
              " 'fail school friend girlfriend money failur everyday get wors suicid start becom realist option alreadi plan tri drink pain away temporari solut wake sober next day face realiti feel like edg almost readi end life',\n",
              " 'want die cant kill ive consid everi day probabl half year even coupl fail attempt past keep go dont see point im gonna stuck system work rest life want die cant kill fuckssak keep im tire',\n",
              " 'dont know els never handl kind respons like school work whenev thing even hear thing alway want kill im alway miser kind respons dont end',\n",
              " 'cant hate aliv im scare actual commit suicid',\n",
              " 'feel bad ive gotten actual care peopl life plan commit suicid',\n",
              " 'think come end seem like everytim start group friend im happi someth happen end slowli feel like slowli go die think today last day ill ever happen twice alreadi dont know what wrong wish didnt end realli thought gonna happi',\n",
              " 'write suicid note advanc decid monday noth get better whatev take want feel relief might selfish think want continu want stop make stop make sure write everyon note make know fault',\n",
              " 'want kill idk bc im dont access much thing',\n",
              " 'im tire aliv hate exist everyday struggl get bed mani thing need work ever want feel good better im unambiti id rather wast away ditch somewher work exhaust drain id much rather die work im tire everyth want rest forev',\n",
              " 'im close im close go buy whatev pill age bring leftov vodka die somewher nice ive tri od room got sick went bed need cant anymor genuin cant go im gonna go soon',\n",
              " 'hate feel hate care peopl weigh want give hate emot feel anger jealous love someon hate cri peopl care wish emot whatsoev hate human emot live one top hate aliv',\n",
              " 'hate hate current job cant quit till get new one yet alway get reject last year didnt spend time person project studi fk total mess interview one call worthless slam door exit wish spent time better last year im useless mental breakdown mid year till dont awar hv person project resum noth compani recruit im tire keep job wish death upon never happen suck cant live pain anymor',\n",
              " 'solut problem dead simpl wont wont fix problem good enough wont get right pushup learn new languag even answer ill reject want suffer want get back ruin life god fuck hate want beat mirror imag bloodi fuck pulp deserv worst pain imagin there excus weak there excus kind weak imperfect',\n",
              " 'idk anyon els feel way feel want forgotten want peopl leav behind go live stop go friend famili thing arent good time nobodi let die want bad peopl dont understand rest go death way one best friend tri convinc inpati hospit didnt work hate everi moment left room psychiatrist came talk half ass hate want die one let',\n",
              " 'lost twenti year old feel meant life everyon around goal dream drown lack direct hope everyth feel pointless part feel like life worth live give want give alon',\n",
              " 'tri get help tell famili live home respond shame acceler amplifi suicid thought fought back tho verg suicid two mounth want help cant wait longer',\n",
              " 'realli wanna die dont wanna live pl help',\n",
              " 'want someon kill kill oh would selfish much live reason depress want someon kill tragic murder victim instead',\n",
              " 'suicid thing earth get rid problem thought feel forev suicid way good true end everyth sound way nicei cant rememb last time didnt think suicid whole day want peac one day rememb feel',\n",
              " 'absolut love tell doctor im feel intens suicid yet refus get treatment get thrown shitti ward blind stuck singl room bare minimum person freedom rememb hate talk feel get lock away fuck aw system',\n",
              " 'alway happen peopl get tire talk depress know hate ask answer almost alway bad im stupid keep answer bad want hear im good tell famili im depress chang subject sigh annoy dont anyon talk kill insid what point know would prefer succumb depress mayb id stop bitch moan sad',\n",
              " 'thing keep kill fear mess know like everyth els life would probabl fuck last thing need embarrass hospit perman organ damag surround famili friend bare speak anymor forc pretend like care stupid brain want stop hurt',\n",
              " 'suicid depress fantas get murder quit disturb speak alway make scenario get kill scare commit suicid want done want idk',\n",
              " 'think kill iv e lie bed hour tri think reason keep go keep tri convinc world terribl place there much hatr peopl greed everyth money im asham part self destruct human race get would slave away shitti job year world much neg die end shouldnt kill instead wast time',\n",
              " 'kill less hour',\n",
              " 'suicid feel like call life way peopl feel like born career choic doctor lawyer musician account etc believ suicid ultim purpos life think anyth els would suit even make happier life end abruptli prefer sooner rather later suicid feel like perfect match',\n",
              " 'write suicid note onlin friend give vagu reason theyll never see write suicid note friend famili im sure onlin friend fear ill surviv attempt theyll think lie actual fail attempt somebodi tell surviv ever decid talk',\n",
              " 'im longer suicid make feel wors ive truli come accept dont gut commit suicid dont feel better feel wors suicid alway gave comfort escap problem life deal bullshit top wast mani year suicid didnt matter grade drop job skill long term plan im gonna kill later well didnt im suffer fuck parent bring world',\n",
              " 'think im gonna there point life friend everyon hate hate go highschool dont even know person im tri likeabl act like normal person hard feel awkward peopl know reject friend request fb follow back ig got point feel hopeless realiz one actual care',\n",
              " 'sinc im longer afraid die wonder stop end life want stay around famili friend month almost dont care hold much longer that bad thing accept feel numb could end time even didnt intend end prematur',\n",
              " 'realli want stop exist found effect way yet asham stay aliv fail suicid attempt',\n",
              " 'tri die didnt work die hard got stomach ach last hour',\n",
              " 'goodby hey everybodi last post tonight go od sleep pill hope better life goodby',\n",
              " 'attempt suicid tomorrow night tape plastic bag head take minut pass anoth die feel oddli calm right heart beat chest excit though wish luck',\n",
              " 'wanna fuckin g die cant even convers well im stress aw hate life much wanna fuck die wont ever stop fuck constant im even happi like hour moment sometim rare im back fuck aw helphelphelphelphelphelphelphelphelphelphelphelpmakeitstopmakeitstopmakeitstop make stop pleas fuck make stop ill alway like hell wrong lik want stop whaf even point im happi want happi much ask mayb deserv actual probabl higher be way make suffer horribl person fuck deserv lol',\n",
              " 'go make next suicid attempt tonight might wake tomorrow might edit woke stop',\n",
              " 'want die bad right anyon got good sad music drift',\n",
              " 'jump bridg way go iv e lie bed hour tri think reason keep go keep tri convinc world terribl place there much hatr peopl greed everyth money im asham part self destruct human race get would slave away shitti job year world much neg die end shouldnt kill instead wast time',\n",
              " 'attract yo wanna die wanna attract done anyth even talk stop like feel like monster know wrong fuck like normal',\n",
              " 'fuck hard keep live your alreadi dead',\n",
              " 'entir famili leav good hour half wait final kill never want hurt never want put posit find bodi go play music drift sweet sensat carbon monoxid poison pray work beyond better',\n",
              " 'noth left offer world ugli interest smart enough make fact ugli struggl friendship make new friend ambit life whatsoev meant live long happi life',\n",
              " 'constantli fantas death get wors bad day cours even ok day feel like im better gone im sick disappoint peopl live expect im tire alli dont wanna die pill caus heard painfulim sure say note either',\n",
              " 'turn day dont know thought id dead time turn im unprepar ive live past coupl year assumpt noth matter futur prepar closer get im afraid im readi get older big number still feel like scare year old',\n",
              " 'probabl go end life male gay furri feel like world hate gay furri get made fun furri gay serious hate know anymor feel like give',\n",
              " 'turn left green arrow someon ran red almost hit almost die wish die',\n",
              " 'tri kill februari one tell suppos feel suicid attempt late overwhelm pressur kill feel today day',\n",
              " 'ghost girl date want die',\n",
              " 'consid attempt other might day ago attempt take pill much pussi peopl talk wish hate feel way know ill want give thank read know post sub lot gone lot would like end',\n",
              " 'fed life want kill',\n",
              " 'sad think life late fall road fail th grade gotta repeat sad go nowher due covid sometim want kill past well make sad bulli sinc freshman gotten beat still scare day school know',\n",
              " 'dont want live hi everyon im new reddit forgiv anyth wrong want vent real quick dont realli anyon anywher els vent im depress want end im feel like im go downhil im tire sad time think end life everi singl day feel selfish roof head food alway tabl famili support care toward make feel wors suicid thought want end life bad time cant know would make sad feel like there noth feel like exist meaningless worthless hard go get wors get older what point even tri dont want live famili hate much want releas cant pain',\n",
              " 'hate disappoint enough famili broke love much current support financi gap year studi hr day get colleg feel lost point ive achiev noth feel like im wast money time physic unabl product idk shit mental health circumst liter drag dont know get state famili cannot surviv anoth failur cannot afford fail scare honestli im sure ill make sometim feel likenid rather die',\n",
              " 'fail suicid attempt wow still came hospit life gotten wors cuz post problem social everybodi know busi keep pester like piti case keep get question feel bad cuz hurt disgust hate cuz got everyon check everi min like gonna snap even get treat normal feel bad treat like someth wrong',\n",
              " 'cant find courag commit suicid even tho pain cant fight back anymor pressur societi famili loneli broke piec hate everyth defin cant ask therapist help cuz famili would refus take cuz place live societi think u go therapist u crazi mad person must lock asylum wanna commit suicid cant find courag noth beauti life',\n",
              " 'intrus suicid thought major depress mani year shit happen life everi time thing happen intrus thought kill like there voic head keep tell sometim im even upset anyth voic keep tell everybodi happier lost interest thing use enjoy life doesnt purpos anymor im tire might eventu',\n",
              " 'like feel physic pain psycolog goe away time imagin end goe away',\n",
              " 'get comfort prospect death suicid day ago post edg cri im go die earli miss thing feel like im start accept peopl includ die like feel numb afraid death hope stay way till end may time dont attemptcommit end regret',\n",
              " 'octob attempt suicid third attempt first two fail third one caught spent time hospit treatment sinc hasnt help sinc left hospit ive lost job car home friend ive move back west live famili abus child dont know think kill everi singl day thing think make pain stop cant even tell therapist hell put back hospit go back nightmar',\n",
              " 'attempt suicid th time month ago legitim cannot rememb anyth past month dissoci lot even pretend okay anymor stop think suicid wish would work bad feel like meant aliv feel like set think would aliv right noth feel real anymor everyth fuck right everyth fuck right tri hard still suffer sick tri fuck hard get nowher one ever notic hard liter physic cannot anymor max zoloft start wellbutrin recommend antipsychot want anymor deserv suffer like everyon say get better fuck want kill',\n",
              " 'encourag aquati drive drunk desper hope would die accid im still aliv still nobodi know suicid ideat',\n",
              " 'point thing keep put famili day progress even becom much worri dead deal hope understand made decis',\n",
              " 'ive three suicid attempt five year abd final figur wrong ive given life everi chanc get better truth sometim doesnt ive work noth left money would help amount need unattain learn mistak made real plan ive follow year end felt reliev realli dont feel anyth',\n",
              " 'scare scare sometim act thought even want',\n",
              " 'im much pussi im afraid come death even attempt suicid realli want die isnt social accept anyway life never want start live allow end anytim want fuck cant talk anymor want die',\n",
              " 'want anyth life liter goal ambit care anyth money object would stay bed know anymor want skip part exist',\n",
              " 'want kill dad wouldnt give fuck kill anyway want die want die matter want die',\n",
              " 'fail suicid lucki unlucki im unlucki person biggest fear unlucki fail suicid',\n",
              " 'want die get trick thing cant escap end ruin peopl life instead help im spineless coward',\n",
              " 'think gonna kill month found someth futur chanc ever happi close zero realli great full peopl made life amaz good month',\n",
              " 'want life end somehow dont courag commit suicid im also afraid sad shame parent close famili suffer thing happen life year ago practic kill soul im bodi simpli exist im jobless unmarri pretti much stay insid home almost everi day dont find mean life anymor doesnt make sens peopl say let other win commit suicid dont want achiev anyth anymor dont anymor wish leav world asap word inspir anyon practic help everi day wish cruel enemi want kill badli dont commit suicid',\n",
              " 'know order better life leav famili readi say goodby feel like leav creat bad blood us make thing even wors want die',\n",
              " 'feel empti alon im struggl stay happi ive felt empti alon whole life kill there major reason rn read last post account care anymor feel like need someon ion want tell',\n",
              " 'wait love one die horribl sound sometim wait love one die normal get rlli depress see realiz parent get older bc remind one day around anymor sometim wait die nobodi left would hurt kill wait last one aliv feel guilt final',\n",
              " 'pull trigger realli',\n",
              " 'want die',\n",
              " 'physic exhaust time mental tire take anymor feel like relationship go shit want constantli kill much fuck pussi anyth talk anyon way feel either ignor get upset fuck anyth right anymor feel like fuck failur',\n",
              " 'im go kill soon famili see messag know love im sorri mistak made im go soon made mind sincer damian',\n",
              " 'im ive mental health issu way pandem start truli motiv keep live dont want famili sad ill im fed dont worri im good rn need get chest',\n",
              " 'tri hang yesterday tie scarf top part door hing stick climb chair tie scarf round neck step rememb two second wow hurt black next thing rememb bunch voic talk chatter suddenli awak lot pain exact posit start cri instantli shock manag climb onto chair still want die bare pain first thought happen second check clock found actual least five seven minut shock still massiv mark neck scarf convinc would die knot bit tighter',\n",
              " 'think suicid make feel calmrelax everytim im workhom think end make calm dont worri futur etc free time lay bed make weird plan end look good place etc work hour week earn good hous car etc everyon left friend famili work die would miss im gone probal replac anoth slave bye',\n",
              " 'im delet social media focu kill im tire live peopl that ive surviv peopl im tire im make post last resort stop',\n",
              " 'wrote suicid letter rope around neck sad didnt cri tear thin paper small write everywher dandelion drew one corner futur tran hard dont know anymor hard find dead seem peac shit past said wrong thing hell go dont care cant anyth havent alreadi done probabl better diei teenag soon dead one',\n",
              " 'suicid note well dont feel there much live',\n",
              " 'fianc went long rant much hate worthless build courag kill im go stop take pill start tonight make thing easier tomorrow',\n",
              " 'happi want kill life great two year ago move mile love life get kick homophob parent hous everyth couldv gone wrong didnt im happi still want die',\n",
              " 'wanna die life crumbl seem like solut hahahahahaha',\n",
              " 'hate world enjoy horribl tinnitu bpd incur cancer hyperacusi bad make feel like lose hear ever made stabl incom entir life one will hire noth common anyon relax listen music even listen ambient nois make friend stop hate peopl long enough ask miss best part life keep get wors fuck world everyon els better hate much hurt hate hate hate',\n",
              " 'final cut much longer take camel back break',\n",
              " 'feel numb empti cant rememb felt genuin emot yet still cri constantli desper want tell someon im okay someon ask say usual yeah im fine energi motiv anyth spend everi day wait day end ive enough still wont anyth well cant hold togeth monday might purpos keep pictur slit wrist jump bridg',\n",
              " 'dont need help need help start becom person middl school decad ago make never learn social skill make know basic fuck convers make never learn form meaning connect anoth human theyr call form year reason thing everyon els know without even think late beyond help entir exist devolv wait die',\n",
              " 'middl school mom hate alway neglect dad left young age mom alway overwork got ape got abe also saw mom get abud bad man multipl time point live end',\n",
              " 'logic kill pure non emot perspect littl chanc happi futur happi could possibl would found use thing like alcohol cannabi good enough reason stay aliv plan thing look forward there noth ever make feel fulfil life honestli believ id better dead point keep aliv cowardic shall simpli work way',\n",
              " 'dont want commit suicid realli realli want someon randomli walk behind shoot back head',\n",
              " 'realli dont want die im kill need sign someon talk keep go pleas help',\n",
              " 'wanna die rn fat like fat lot peopl comment today listen skinni friend talk bad food stuff im eat lot realli felt bad got home mom mention look pregnant dress like oh haha wich remind much comment got grandma small like call fat regualrli didnt fit id cri tri cloth mom start w comment say yk us woman fat woman yeah wanna starv death caus poor use money wanna go healthi get tire gove exxcirsis os noth help sorri bad english rush goodby',\n",
              " 'im insecur want die insecur kill exam result kill ill kill day result confirm worst fear itll better everyon wont bother anyon ill fine ill dead',\n",
              " 'hmmm feel like cut neck pair scissor wanna bleed death cu parent alway argu say harsh word im seek help therapi help much cant move due lack money better end everyth',\n",
              " 'feel hate clarifi tran mean mani peopl outright hate read news articl stuff like peopl think monster entir countri religion want dead make lose everyth faith human motiv live mean point live vile earth million alreadi want dead',\n",
              " 'want leav earth everyday wish didnt wake everyon fuck idiot pretend care end day theyr snake life curs end hand',\n",
              " 'ive look motiv point everyon would tell mani thing live import thing ever time ive aliv pain matter sinc memori alway felt like shit dont friend famili dont care grandma pass away recent alway made feel better reason im still there aint reason live anymor couldnt isol other im feel time hurt live latin america live live deplor think im make favor dont money get pill alcohol even car crash self dont even lay im gone',\n",
              " 'fuck hate alway feel useless everyon want kill im scare everytim alway talk someon feel like im wast time ive done lot thing cope depress talk friend famili im awkward make normal convers get high andor drunk even though im legal age yet relax play video game listen music bare enjoy im worthless lazi ugli stupid real friend talk want end im either exhaust better scare kill feel constant hatr toward everi second im consciou someday hatr might take timid natur kill want heard without social anxieti take like feel anonym vent without peopl know',\n",
              " 'idk feel feel pathet caus everi second life wanna die pain behind eye headach start start panick like fuck idiot begin felt good want keep felt like final get g go lost oxygen fuck start panick wish someon would kill',\n",
              " 'dont know hang suicid coupl month away yet im wait inherit come finalis affair leav financi burden famili also allow donat larg amount chariti suppos use top surgeri im tran ftm wast life isnt problem im struggl hang long everyth need die ive becom reckless self harm etc day addict codein take tablet day codein acetaminophen guess im hope natur kill anyway hang right way least death eas burden rather add',\n",
              " 'tri hardest lose everyth tri gpa shape still career want hire women ethnic hate probabl commit suicid millionair',\n",
              " 'last month feel like everyon forgotten exist friend call anymor abrupt end relationship famili even wanna talk anymor feel isol forgotten world clean week chang tonight want cut face neck one ever want talk nightmar mayb someon care gone',\n",
              " 'scare start tri fail final push go say believ failur probabl mindset long believ chang afraid strength also end either way dead end tri die die die',\n",
              " 'anymor ive suffer way long tri get help everywher call either book insur accept kill self way could end suffer',\n",
              " 'im tire alway feel like im absolut wors feel like go well doesnt go well world broken there noth wish didnt look figur innoc envi hate look children see spark eye long gone mine im still gonna kill isnt hope fear dont wanna peopl know love part hope one day ill go batshit crazi slit fuck wrist take shit ton medic die',\n",
              " 'impend divorc subsequ bankruptci want kill',\n",
              " 'might kill mom caught someth wors could possibl imagin x close handl aliv think like think gonna kill',\n",
              " 'want disappear hi late realli deal self harm suicid thought feel like everyon tell annoy tell therapist might get sent somewher hate situat life past futur honestli close say goodby',\n",
              " 'realli fuck hate everyon hate wish could fuck end',\n",
              " 'want exist want bodi anymor want gay want burden everybodi life anymor done everybodi say great look great person know none fuck true say make feel good desir anyway shape form gonna end die alon mayb fuck whole life drug kill care point',\n",
              " 'world would better life without tire fine one moment want die next know tri anyth would hurt famili feel like fuck burden disappoint useless may abl save guy sorri aliv much coward tri kill aw person wish could sleep forev',\n",
              " 'killllll endur slow pain humili process continu sleep outsid find lifeless bodi behind michael art n craft build',\n",
              " 'wanna die dont fit life mayb ill kill soon',\n",
              " 'im guess suicid alway make feel like situat uniqu hopeless even isnt mani peopl benefit reach other get profession help medic cope skill habit chang lifestyl etc need someon talk',\n",
              " 'start drink feel realli weak mayb ill stop breath sleep honestli hope dont care live meaningless exist anymor',\n",
              " 'gonna go crash car tree fast fuck hate everyon cant take anymor cant wait final fuck die',\n",
              " 'everyday brain tell overdos one person love mine anymor vent much tell horribl feel right realli want kill tonight life feel like fall apart want help depressedscar ask exhaust suffer alon',\n",
              " 'feel like ive border far want kill goe everi day term want exist enjoy thing much minut time stress usual thing dont constantli think wait anoth month psychiatrist appoint improv isnt guarante improv guarante slow pain parent suffer worth ditch futur suffer haha',\n",
              " 'help way commit fake suicid complet want die want end hope live everyday full shame guilt regret never realli prepar futur point might complet ruin life even hide want give half chanc would genuin appreci guy could share soft way end anyon find get help one still end win pleas',\n",
              " 'quit liter tire struggl life never go end alway cri hope hope fals one talk one talk understand situat wish everi night wake mad aliv morningjust useless exist insomnia tear friend courag would end life',\n",
              " 'hang easiest least pain way die',\n",
              " 'best way suicid respond u actual advic pleas none perman solut temporari problem bs minor gun want someth fairli painless toler moder pain method call let know u help tryna see think',\n",
              " 'cant stop verbal remind much want die becom weird cope mechan im scare someon hear',\n",
              " 'almost everi day lean window im scare im scare jump take pill want die dont want parent think kill',\n",
              " 'mani regret life feel late feel worthless deserv kill',\n",
              " 'im alreadi want fuck die suicid ive never gotten help need one take serious im scare die everi fuck day think suicid',\n",
              " 'enjoy read book late obsess mediev one strong femal lead found read made stop self harm constantli get stab yet held head high idk fell back bad mental state think suicid women book alway strong live like',\n",
              " 'im look help support famili mental ill everyday wake say loud want km never get suicid attempt hope tri blackout hiperventil dont get got micro loss concious male',\n",
              " 'nobodi care im never gonna abl get even friend care that fuck repuls want kill dont even know start life pointless told friend felt respond im tire everyth',\n",
              " 'pleas pleas help im hella scare right suicid video youtub there bunch comment threaten mental ill peopl live lot like pleas say dream im gonna end rubber room',\n",
              " 'fuck done twsuicid mom care stupid grade know hate school make choos go summer school go dad summer hate dad school much told tri school fuck tri best told tri said almost broke brother ask plan life sinc told go colleg almost told go kill upset right want go dad treat like shit hate realli fuck hate school make want kill said option get grade month left school get littl time realli life right pill probabl go take tonight mayb dead famili care instead grade',\n",
              " 'everi day want kill keep chicken bodi numb point',\n",
              " 'genuin need help scare want make seriou go author ever come point alreadi dead struggl cannot go anymor anyon truth talk tri get damn chest made promis never exhaust serious contempl kill sooner thought make feel calm end pain',\n",
              " 'guy depress gotten bad cut ever want kill think want hurt friend famili want live peopl time tire tire live tire depress know',\n",
              " 'want cut wrist razor blade scare pleas tell anoth option',\n",
              " 'weekend go go partner hous sick sound way abl die idea think pill would best way go want find bodi pill take take die could also use razor bleed might messi need know',\n",
              " 'dont see livabl futur feel like option kill nobodi care anyway',\n",
              " 'suicid thought',\n",
              " 'go overdos soon suicid note goodby bastard see hell',\n",
              " 'want feel appreci cant feel like ive lost hope feel invis ghost nobodi im ugli guess oh man im fuck broken wish realiti would differ without pill headach fuck im cri peopl pass street bench',\n",
              " 'wanna sleep fail suicid attempt deal aftermath much cri feel like suffoc exhaust',\n",
              " 'bought needl syring onlin inject poison shit year year suicid ideat plan im final go gonna relief',\n",
              " 'hello comfort talk friend caus sure go plan kill second week may makeshift noos closet readi mental prepar scare realli want feel like next',\n",
              " 'wish die feel like gonna suffer die',\n",
              " 'got report card parent could see done gonna drown tonight done',\n",
              " 'dont know say mani regret im content todayi graduat colleg thought okay didnt get job im struggl build freelanc mani regret teenag year didnt experi fun keep compar peopl success good social life career growth relationship im grate alway experi struggl grow older alway tell still worthi dont anyth prove peopl feel weird peopl interact didnt like dont much stori tell dont experi life love introvert like interact peopl dont know handl dont want live anymor im worthless',\n",
              " 'sever depress pretti well last month sinc yesterday nonstop suicid plan like plan vacat real emot tie happen im slump seem come nowher anyon els experienc suicid thought otherwis fine period',\n",
              " 'im think set fire middl town im actual plan imagin everyon fuck laugh wen know gasolin boom burn start burn everyon yell start record aftter im dead tik toker come bodi start lip sink burn babi burn worthle lifeless bodi fuck rot week one care make tourist attract',\n",
              " 'best place livestream suicid want killmyself live camera would best platform stream',\n",
              " 'strong suicid thought im dont know done selfharm anyth feel like im lose grip life ive feel worthless month start contempl strongli end scare realli act littl bit fear put famili bad posit ruin life serious feel lone',\n",
              " 'im tire take med go therapi appli job tri keep friend tri eat well exercis tri better life want put fuck gun mouth pull trigger look post see ive gone last year care context tldr im start entir life move new citi connect job prospect chang name got new phone number dont want wish hundr xanax could end ive overdos three time surviv time god tell stay aliv need hold keep go im take step tri improv life hate fuck much dont want want end im tire think im tire feel im heart broken hate bodi hate face hate voic hate person hate trauma hate autism hate mental ill joy life temporari relief im bing eat drug afterward feel like shit want die cant keep hold none feel real none fuck matter everyth fuck nightmar im sick',\n",
              " 'there hope im lowest point life choos noth strive anyth noth noth',\n",
              " 'lost everyth includ wife almost kill today',\n",
              " 'say peopl say feel way want die make want kill psychiatrist like psychopathanyway probabl year paid modicum debt back societi better get old grumpi ugli grumpi ugli',\n",
              " 'feel go happen soo cant stop time',\n",
              " 'trap job hate think end im broke desper stuck citi hate think worthless noth look forward life dead end im fuck worthless',\n",
              " 'take life seem like one choic summer holiday start today everybodi happi think handl bare handl weekend alon make think horribl stuff everyday class end want go anywher longer see point help pleas',\n",
              " 'almost liter ledg like minut ago im still denial im even suicid feel like terribl person got argument friend cant tell id guilt trip',\n",
              " 'thought kill overcom anxieti im lay bed strong urg end life suddenli wave anxieti come almost bodi respond thought end life felt scari im tri shake urg complet keep come back',\n",
              " 'wanna kill peopl wont fuck ive think kill past week seem im fuck busi need even',\n",
              " 'im littl bit scare ive overdos lexapro experienc serotonin syndrom never took mani differ other togeth think effexor wellbutrin abilifi two other plu pill adderal took lot anyon know mix pill',\n",
              " 'sick tire fail constantli cant keep go failur whole life everi aspect dont know',\n",
              " 'ever want kill particular reason like life great right moment terribl either yet ive fantas overdos last day seem easi catch daydream suicid time sound realli bad wont anyth cours alway back mind almost like crave constantli thought suicid scari say theyv gone distress peac im even kid say think death aftermath im fall asleep mental health deterior sometim feel like suicid great option even life isnt fuck',\n",
              " 'wrong fantas kill im drive fast pole tree shotgun roof mouth someth fuck whenev im depress deal anxieti think suicid thing calm reason done yet alway tri find light end tunnel late light anytim think made friend gotten close someon stab back im still live parent parent emot abus child like roommat anyth els friend im complet alon get kick becom homeless would final straw energi deal ill take easi way',\n",
              " 'idk suicid sinc like idk like fact famili onoff good famili nah dream kill peopl famili stab death drown hit almost kill kill jump river midnight shit prolli know yall feel wake im feel guilt regret dont want hurt anyon id asham death hurt anyon often wanna kill cant quit grasp fact famili would ruin feel sens live pretti much im reason aliv',\n",
              " 'im go make first attempt soon im go purchas cyanid dark web way want go seem easiest reliabl way im sure want leav note video someth im gone feel like even famili still wouldnt realli understand im gone anyway im think gone one day life shitti order die caus famili suffer fuck life',\n",
              " 'friend suicid recent attempt overdos pill convinc kill',\n",
              " 'mental health hold thread tore apart razor blade cut tini blade today deep bleed like crazi im univers depress anxieti adhd realli unhealthi sleep habit uni hard onlin assign deadlin press thing becom much wors sinc thing got onlin ive never even campu lectur shit show guess im ask ishow cope without slowli go insan keep deadlin mental health ridicul situat',\n",
              " 'today attempt hang dont want anyon find anyon know could',\n",
              " 'still wonder anyon would give fuck kill dad wouldnt dad girlfriend wouldnt fact would even happi kill',\n",
              " 'came point know end life sooner later let time pass mayb caus subconsci hope thing go get better deep know traumat brain injuri led mental disord life get better matter fact get wors hate peopl tell everyth gonna alright like hell know neg realist hate societi view suicid egoist act coward egoist peopl tell kill sake love one like keep suffer forev make suffer right want kill alreadi told famili eventu even take seriou wish suicid someth quick easi without gun realli wanna hang guess would ultim solut read lot thread sub commit suicid life realli great mental faculti everyth possibl give friend',\n",
              " 'im happi still want die feel kind alon ive never heard anyon feel way day go feel extrem depress realli happi coupl hour im feel pretti happi right im still thought suicid anyon els felt like',\n",
              " 'postpon suicid tomorrow guess prepar better',\n",
              " 'im proud kill today coudnt thingi stay home watch offic day didnt motiv work studi least im still aliv',\n",
              " 'graduat colleg next week think might kill',\n",
              " 'want die got realli fuck drunk last night stop think go jump bridg build minut drink stop cri last night got even sad feel realli depress hate go around onlin friend drank suck much person deserv die know wish could die much plan distanc ppl die',\n",
              " 'suicid perman solut temporari problem yeah that point never deal shit ever',\n",
              " 'start feel like meant commit suicid way someon els meant becom doctor get marri path meant take',\n",
              " 'say your depress cant function aw itll get better forget kill everyon like oh never wouldv thought wish wouldv given sort sign said mani time want kill think might know peopl act like huge surpris ive seriou along rope tie noos box room alway readi im joke look attent tell peopl need kind help everybodi pretend care your dead tri say care along',\n",
              " 'attempt suicid almost die regret truli doom',\n",
              " 'want jump bridg got burrito instead bought second one gave homeless guy hang outsid restaur made feel bit better rest night',\n",
              " 'one care life say want end',\n",
              " 'tri shoot last night bullet got stuck stay aliv assign hour serious wtf odd idk good luck bad luck sign whatev thing dont want aliv anymor aaaaaa ima cut rn',\n",
              " 'im pedophil think im readi kill',\n",
              " 'tri hang today need reason tri tomorrow',\n",
              " 'tri kill friday took mani pill could wash whiskey took razor blade arm cut arm basement cover blood parent found hous tri get help surviv look ahead futur must surviv reason go hard need least give chanc hope well take care',\n",
              " 'depress kill brain cell swear im actual retard even take extrem obviou sarcasm bait iron humor serious jesu im soo fuck dumb dont critic think bare think zero comprehens understand singl word read cant form opinion dont view sever difficulti explain view im inarticul anoth symptom ny brain fog like cant even talk constant stutter cant think cant learn hardli function ive suffer year non stop',\n",
              " 'tonight prove hung tonight one would give shit even go drink friend end convo leav even tri tell troubl say go fine shouldnt worri even walk back home realiz stranger betteroff peopl laugh behind back im hideou ugli useless everyon cant even tie good enough noos hang ill show ill jump highest bridg iknow rid wick peopl best part one even care',\n",
              " 'call ugli retard whole life reason see point live get bulli',\n",
              " 'first time want kill old stori lone kid didnt fit didnt get support want need home felt invis yearn affect want famou simpli ador twelv year later still think suicid everi day sad dark imprint upon cant seem shake sad soul melancholi profound itll haunt even death there afterlif never cri despit gnaw ach chest beg kill escap matter med therapi vice sad stay',\n",
              " 'kill tomorrow look metro rail schedul tomorrow plan jump front train rail right behind hous go leav sometim wake around earliest schedul around amish suppos end life today due bad weather parent let outsid',\n",
              " 'im commit suicid today recent year upon year decid realiz life isnt worth live life eat sleepsimprepeat prolong life peopl found purpos person find silli life sole purpos find happi that temporari atleast go die anyway ive seen thousand upon thousand video articl peopl clinic dead feel peac theyv never experienc non benevol live thought calm way ive never felt',\n",
              " 'ever mean anyth anyon im constantli fuck replac ignor spoken dislik alway mayb die alon',\n",
              " 'wont kill right realli want die well intrus thought handl ocd come back almost full forc feel hopeless dont want live like anymor',\n",
              " 'go kill tonight hi everyon well tonight last night unfortun one care caus problem tire reach sim card text call crisi line everyon around right laugh said need go hospit goodby everyon know worst part even want die feel like thing thank listen anyon check peopl',\n",
              " 'think jump bridg throw traffic make feel calm',\n",
              " 'ive suicid long dont know anyth els smallest stupidest thing make want die want die dont want go groceri store cant find key ive avoid talk famili awkward im person want feel like im much person less result someth reflex that way know cope least get much die',\n",
              " 'wish dead one messag care im bad everyth get nervou everi time go public cant social feel like failur life grey feel meaningless point there noth',\n",
              " 'plan painless suicid total irrevers anhedonia',\n",
              " 'goe anh longer wilk kill absolut noth fuck stop id rather cut arm anymor amount physic pain match noth csn ever fuck get wors unbear cant even cri',\n",
              " 'go kill want ruin mum life turn hate sinc struggl year suffoc depress tire readi die strong enough come term sexual assault happen hate bodi much sometim think lucki happen begin think friend hate even though tell much love reason end life know ruin mum want noth keep noth chang birthday june go die feel peac decis thought live one year feel way unimagin',\n",
              " 'realli weird talk futur job career someth sit squirm feel awkward af want die realli badli dont want futur goal die get murder next year parent think becom polic offic dont want achiev anyth dont want job go colleg want end',\n",
              " 'make everyon els uncomfort im sad time peopl pretend care dont want feel guilti like bad person actual kill show im dead everyon glad theyr final rid amount therapi medic ever fix there point im live anyon anyth what fuck point',\n",
              " 'wish peopl could see pain carri pain pain never speak plan',\n",
              " 'realli want die tire everyth suicid seem like bless right caus death end suffer rest',\n",
              " 'thought end think ever long mom aliv hurt much decid mean want pain go away bare stand anymor morn fantas belt around neck cours want inconveni other back hurt ass hurt brain tire heart hurt neck hurt alway confus work school tough want die sorri wrong thread realli want get away oblig die would stupid',\n",
              " 'tri kill multipl time want someon talk mayb make friend went thing went',\n",
              " 'wanna kill yeah that whole post',\n",
              " 'husband doesnt care want die that guess',\n",
              " 'got suicid thought long time think im go final take day die liver failur',\n",
              " 'young guy chronic nerv pain year affect life sever alreadi receiv sever medic treatment result take opiat valium suppress pain still pain think suicid everi day convinc solut pain free hope futur im readi end life',\n",
              " 'mayb deserv die horribl childhood made becom horribl person sexual abus child made abus peopl without know bad thing older learn sex haunt everyday wish could end life rid constant struggl conscious day run intrus anxiou thought traumat sexual left intrus thought never want anyon make feel disgust everi time cross mind think gross like brain forc see think feel like connect friend anyon around alway feel hate like nobodi truli love even thing use enjoy bring pain mental suffer due hppd year drug abus sinc feel slower useless ever felt never feel whole alway suffer mental absent drug usag disconnect realiti think gonna end soon mayb meant die other live happi life',\n",
              " 'think kill soon thought thing make peac parent didnt rais right social skill grew selfdoubt anxieti fear love girl year ruin left like noth drop univers friend graduat forc cours didnt like parent lost year noth tri someth like good life first time think life noth big failur friend im hopeless know futur pain thought want end ive done lot mistak dont fight go life need peac death thing grant encourag word would make one feel good day know there noth death bring rest',\n",
              " 'night go kill didnt im like hmm well idk im tire live like thought loop im tire whole cycl ive gotta end',\n",
              " 'feel like im reach crisi point diagnos depress suicid thought come multipl way think would there someth time stop massiv breakdown yesterday stood top fire escap want jump friend liter phone came later day go cut wrist couldnt phone mum cri like hour even feel okay rel good still think kill im scare take one mistak ill dead',\n",
              " 'ew im gonna die fat that embarrass cant deal life anymor okay mani year ive say tho ig im tell lie cant even starv properli anymor ew corps ugli cant wait skeleton',\n",
              " 'painless suicid what painless method',\n",
              " 'want die life seem way exhaust',\n",
              " 'hate shitti toxicabus famili shitti use aunt coffe mug drink tea grandma snitch told aunt like drink ever caus touch use open open tuna even use probabl first time use year said hide open use fuck hate fuck petti ridicul yet buy dish soap paper towel food eat use shit hate go say use caus fuck selfish godamnnn like wtf like hate fuck much act like wonder talk want around',\n",
              " 'babi sister love dearli get wors wors hate see depress hate wake bc cri loud think sort undiagnos autism ga speech impedi social underdevelop need kill im friend way wont harm',\n",
              " 'want kill im sad lone wish anybodi talk',\n",
              " 'realli fuck wish die day tri suicid attempt fuck flop note self eat paracetom wont kill fuck bodi realli thought gonna better',\n",
              " 'want around think actual act suicid terrifi peopl would think constantli wish born continu sure happi part life realli annoy peopl argu worth live honesti rememb year ago almost regret told get better even year later feel like stuck bad place even worth dig',\n",
              " 'make mani mistak never learn shit caught lost friend matter hard tri cannot improv go immedi kill post definit go back mind mani friend ghost clingi issu sometim say thing caus argument somebodi liter told dead might well legal dead right help guy talk gain feel toward bi make sort obviou ofc ghost even like person ghost unlik person cannot chang releas upcom ep go make decis',\n",
              " 'scari die want dont know terrifi lastnight could overdos die stop fcking fear amount atihistamin caffien tylenol pill could well dead morn cant serious need find way follow agon pain',\n",
              " 'kill im ugli dont know dont bodi dysmorph',\n",
              " 'im sure use want kill age abus mother got custodi recent got therapi doesnt calm hell vent recent see way world head want kill go mass murder spree beforehand dont strength yet feel go happen soon sorri need vent',\n",
              " 'think gonna kill idk realli feel anyth failur let everyon think get back dad tomorrow write suicid note take bunch benadryl weed slit wrist bathtub sound like good plan think liter feel anyth rn',\n",
              " 'tire self harm cut look aw',\n",
              " 'coin flip kill',\n",
              " 'kind thing want serious give thought famili hold back kill atm',\n",
              " 'dont wanna die want live want happi want pain leav alon need help there one help',\n",
              " 'tri kill want tri tri slit wrist didnt even hit vein pathet felt like everyon hospit laugh told parent didnt make go inpati wouldnt tri want bad im much pain time',\n",
              " 'keep wish life would end want get ahead feel deep insid know truth despit gener contented point time ive peak get wors im brave enough actual activ commit suicid find wish heart would stop beat quiet alon moment',\n",
              " 'think reach help better yet way curb suicid thought im bad yet ive attempt think multipl time daili could reach stop suicid thoughtssadli incit one cat start roch mean cat probabl reason im except sister',\n",
              " 'pleas tell way cant kill cant cut im pussi ive consid drown ive tri dont know life go fuck hell coupl year even im mental il get job dont friend realli il sit hous disabl befit year go fuck miser im wast resourc fuck dont fuck tell get better im tier hear im done think im go tri drown tm idk hope found better way pleas help im pain need end',\n",
              " 'want end life sinc mayb thought suicid depress month alway thought thing would simpli get better eventu kinda got girlfriend back novemb everyth seem fine kinda distanc ignor say annoy presenc like day ago got lone start think life suicid everyth bad happen girfriend mean gonna kill leav anyth kill partner seem stupid dumb final came realiz everyth still bad even got girlfriend focus never thought suicid happi came back realiz girlfriend kill year like plan came natur past day doesnt seem bad thing',\n",
              " 'want die longer want burden world ever disappoint make peopl mad sad wanna hang',\n",
              " 'worst thought ever keep kill ill heavi pick im fat dont want',\n",
              " 'tri keep pace keep fall behind mind hole fall wake fill pain tri escap want give life take care get better get wors wait pain come back fear fall dark abyss ever get feel dig realli dig deeper hole hit rock bottom rock bottom think life bad hit core burn burn everi mistak word thought speak like throat ash everi pronunci word anoth foot deeper hole peopl look fall deeper peopl ignor die',\n",
              " 'almost got enough fluoxetin final ive want sinc ive pretend take pill day take mg day bottl alreadi plu refil pharmacist ill mg avail final',\n",
              " 'feel like one want around even though ive told isnt case still want kill start antidepress two week ago doctor said theyd use time help manag feel far theyv done noth everi day struggl keep aliv sinc im bare eat im start lose weight cant focu anyth enjoy live toxic environ mom narcissist drain around want feel better',\n",
              " 'honestli cant anymor home toxic trauma haunt cant support accept cant escap cant run away cant cant idk there noth left help realli wanna die im scare pleas someon help',\n",
              " 'tri get help wanna die bipolar suffer codepend cope mechan cocain sex recent start go therapi start take medic got hurt instantli attempt um woke hospit two day get real help honestli know tri like said option home could leav hard wanna leav miss flat miss drug miss mate miss dog feel like life would easier turn start drug sorri need rant ask advic',\n",
              " 'want die use think kill scare experi pain sit wrist stab honestli last month find care hurt honestli want fuck die fuck hate everyon around care feel gone want exist anymor alway much want kill sometim wish never born could get hit car someth',\n",
              " 'god want kill bad guess anxieti attack brain goe complet numb sometim ask thing cant function famili histori mental ill hate peopl famili full shit everi regard life dont want like cant help keep fall path life ruin wont abl achiev life alway want fuck household ruin destin noth fuck life fuck destini fuck everi one famili member friend good hit lowest low life kill answer',\n",
              " 'hate life want get chest hate way look lazi life dislik tri work get better schedul get hair product keep whatev tire wanna anymor avoid look mirror caus genuin hate look hate school social anxieti make want kill everytim leav hous becom adult want adult look feel like bulli friend thought improv tri cut wrist blade blunt even right feel ugli abnorm feel like everyon stare judg someon say group girl stare make fun tire go anymor',\n",
              " 'realli want escap crap life dumb poor ugli cant shit want die go differ world like anim',\n",
              " 'legit idea almost done uni got first job got hobbi passion healthi relationship hate cut week pure even give high look everyth suppos wanna die wanna die piec shit thought everyth right would make feel good kinda feel like kill would still kinda cool want forgotten',\n",
              " 'tire constantli never enough pretti enough smart enough clean enough well enough put togeth deserv abus suffer gone pathet life tire want anymor',\n",
              " 'want give end guess make coward huh selfish coward peopl think reason behind suicid feel like anyon care one would miss case know peopl love hold back anytim someth difficult happen think kill deal terribl person though peopl would miss would definit better dead hold peopl back complet useless mean even homework fail everi class enough time catch term end soon lazi piec shit stay room cri complain much life suck never anyth chang alway blame everyon els feel strong enough motiv enough live want wuss admit handl life mean death inevit may well save time right',\n",
              " 'want die want die want die famili even love',\n",
              " 'plan think might pain pain life everyday one time im gone forev shouldnt nobodi would care mess make slit best cannot live like pain guess time',\n",
              " 'wouldnt care much pain werent thing could kill knife pill extrem low lethal hurt much id probabl puss even manag go id probabl wake hospit deal everyon know wish gun rope could easili almost certainli die',\n",
              " 'never alon life keep say keep get wors know much longer handl think longer honestli spend last half hour birthday cri alon worth anyon time afterthought fuck',\n",
              " 'semest go badli might end life final come get one class fail other deal isol friend mental unhappi ralli pepper club dead school think throw use good engin due covid hand experi covid compani hire deserv die consid failur',\n",
              " 'dad intens care unit hospit keep think cut',\n",
              " 'im go kill today',\n",
              " 'boyfriend leav ill like kill know sound toxic fuck never ever hold someth like scare shitless ever leav courag move reason want anyth form happi',\n",
              " 'made decis im plan kill month promis id end year one intend keep know absolut useless dont care happen famili isnt real dont feel connect anyth anyon meaningless would rather die consciou longer',\n",
              " 'go kill three day ago reach help call two three peopl feel like close got rout daili inpati psych visit new referr med regret wish anyth resolv kill instead afraid pain wish die never ask someon help',\n",
              " 'suicid five year attempt suicid least time never actual seriou tomorrow decid go local bridg final make decis whether end anybodi care updat tomorrow aliv im well one hell ride',\n",
              " 'suicid felt suicid year hindsight blame drug well back drug problem got wife three kid kind pussi leav behind part want head hood start throw around n word hope get gun luck becom racist asshol trend across globe think accident method outsid car accid offer guarante',\n",
              " 'tire everi thing hard time two bottl vodka think chug stop pain',\n",
              " 'pleas help mei bought necessari materi painless suicid obvious list plan take life tonight everi second becom less motiv live need help asap',\n",
              " 'terrifi life fuck think someon hack phone wanna die',\n",
              " 'ive got kill get kitten mom know like cat she tri get kitten cant leav alon famili doesnt like cat ive gotta kill get one',\n",
              " 'want commit suicid today got taco bell instead',\n",
              " 'next time want commit suicid im keep tell peopl aint worth like arent still go judg kill dont understand pain pleas allow die',\n",
              " 'never fuck peopl even tell year gotten wors lost friend find hard make new one nobodi realli fuck care fake bs consid end life fuck suck',\n",
              " 'came reason kill come reason live one',\n",
              " 'late think suicid suicid year keep get worseit point suicid thing think cannot get help sinc still parent refus get help psychologist help much pain anymor',\n",
              " 'want stop exist sure want dead interest pain that involv want exist etern sleep im exhaust even tri bad wuss',\n",
              " 'im go kill nowhop time ill success helloin end kill cant stand everyth say make piec shit rather aliv garbag person time wanna kill wont abl shitti thing dont know way guess much rotten person dont know im aliv begin withso hope day ill put end',\n",
              " 'kill keep tri today day must get cannot live like anymor good man goodby everyon',\n",
              " 'im think jump bridg way home tomorrow idk like im constant pain anyth kinda give fell behind everyth everyon els seem fine cant memor focu anyth feel blank world around move fast im alway hundr step behind cant even feel motiv tri better know everi possibl outcom would leav miser put didnt want caus famili shame im kinda im tire',\n",
              " 'im intent destroy lifei start smoke weed drink alcohol attempt set self path slowli kill think drink death soon realli point motiv live noth satisfi anymor',\n",
              " 'dont know real time feel like never fix ive done way someon would help realli want give realli feel like suicid way thisim still wait day break guess',\n",
              " 'want reason live want life save anybodi anyth wanna die even wanna happi wanna die',\n",
              " 'dream kill tri hang backyard brother watch mayb soon dream come true',\n",
              " 'school make suicid start colleg week ago im alreadi feel stress fail sem kick countri ur basic useless u dont colleg diploma current support system parent super abus',\n",
              " 'tire fake like feel okay day fall back depress state cri sleep night like weird routin caught one around take serious usual make feel asham depress tire live',\n",
              " 'point im live life sole fact im curiou futur colleg ill attend date feel like job ill end ill end like werent might alreadi stop tri honest get harder look forward thing keep tell live hell',\n",
              " 'dont actual want die want thing chang howev mani attempt later idk lost count clearli chang thing clearli dont get better dont understand dont kill right there someth hold back dont know boyfriend fuck know know right feel worthless ever ask millionth time get fuck break hate everi wake minut life lol good thing life boyfriend track record im go fuck dont want hurt realli dont know kill would hurt got life time trauma eat away day day nobodi make stop',\n",
              " 'im kill tonight im say nobodi know internet dont tri talk',\n",
              " 'fail year med school think kill alway high achiev student year rough due struggl depress fail third year medic school go repeat medicin alreadi long year countri feel like wast away life realli consid end way hell accept fail year someon alway one top student',\n",
              " 'shoot head painless way die today one thought realli need answer know kill feel pain seem like option painless way',\n",
              " 'goodby nobodi care im gonna kill',\n",
              " 'kill dead almost decad ago diagnos type one diabet th birthday die one know care exist ive met either forgotten agre dead ive tri overdos insulin dexcom harder im fuck worthless ever dead want kill want anymor inform pleas look past post im retard anyth might go knife cant anyth els go give unit insulin tonight im tire',\n",
              " 'plan slowli degrad think also saw anoth post inspir slowli degrad mean eat junk food excercis start drug mayb alcohol death come sooner painless way imo take time',\n",
              " 'recent begun feel suicid argument huge sens guilt due stop tell peopl feel person tell therapist regularli pictur suicid differ way peopl react would write peopl written multipl draft dont know scare like thought noth strang thing comprehend also think capabl reckless make decis thing littl thought think kill sometim feel comfort sometim feel sad sometim dont feel anyth dont realli know im ask thought best put somewher thought plagu mind good portion day',\n",
              " 'im sad stay aliv peopl like dont sad dont even know would notic mean singl soul would miss think die accid today would happi im final dead peopl dont ask themselv kill im honest wanna kill',\n",
              " 'need info hospit hold peopl dont feel safe almost hung didnt dont know dont money hospit im sure worth ask worth shot decid wake tomorrow fuck',\n",
              " 'cutscratch arm fuck much got mad scratch arm blade pencil sharpen one fuck sharp fuck red mark arm cant lay sting start bleedingi think il sleep hoodi anyon help',\n",
              " 'insuffer pain feel inhuman someon suffer like continu fuck pain wont abl take longer wanna go',\n",
              " 'id give anyth end life cant fuck anymor one im abl get shower dish look jobstherapi even think go back school noth want im sick useless bring suffer wake itd much better dead fuck much better',\n",
              " 'give want end badli honestli dont know what keep go id love get help ik step mom would get piss dont know anymor came nonbinari parent go way use dead pronoun hurt lot',\n",
              " 'subconsci kill use mani plan end life differ way time dont thought anymorebut feel x suicidalif feel like im denial depressionsuicid ive never seen anyon diagnos therefor feel emot invalid attent seek ive push away feel sad time nowmayb even year recent hit hard dnt feel like kill feel like im kill subconsci im use hard drug drink daili twice much im drive recklessli work poor dont feel suicid ive realiz ive gave subconsci bump road',\n",
              " 'suicid thought want kill wanna go sleep never wake back tire live horribl life school make worst tire feel like today day end pain worri',\n",
              " 'im fuck done want die dont know dont eant famili pay coffin without gettkng found dont want therapi',\n",
              " 'want kill cant stand anymor afraid famili friend miss pressur much dont think eabl take longer im sorri',\n",
              " 'peopl reach know suicid complain suicid make sens seem like nobodi brain day',\n",
              " 'plan attempt tbh go trough dunno honestli everyth teenag could ask exist sake exist tire failur know famili care anymor know help never come askingreceivinggiv take noth help breath wast time someon els could plan nice everybodi week hope everyon happi togeth stop imagin heaven know peopl like best day want',\n",
              " 'worth find everyon life better alway interrupt idea alway shot failur life matter tire stupid scare ever end life know life would go forgotten love sometim wish gut think ever',\n",
              " 'realli wanna die mean know im special everyon struggl one ever listen mine im alway everyon els support whenev someon tri reach complet shut parent shit feel like realli wouldnt regret die hard suppress thought soon feel like im go',\n",
              " 'wish there easi way kill id alreadi dead death guarante kill dont die fall coma wors continu live suicid survivor dont think ill ever abl face parentsfriend happen isnt embarrass',\n",
              " 'tire everyth dont even want type anyth doesnt matter want meet someon hug',\n",
              " 'hate fuck much',\n",
              " 'wanna die right girl yet finish high school struggl suicid thought self harm sinc th grade today made mistak miss bu minut forgot key didnt want lock ask step dad ride said okay mom proceed yell text stupid much failur made get earli get kid readi school etcsh didnt say felt like million chore get home bu stop minut earlier usual time probabl lose phone week honestli wanna die stress school life keep go sht honestli wanna die im sure honestli break point keep fight horribl battl final tap',\n",
              " 'pain crush cant keep pretend everyth fine im close break point one know much want dont know much longer take everyon think im happi truth im tire fake',\n",
              " 'cut world realli make genuin effort keep tri famili sake recent noth work feel like world want find job find place live want give done',\n",
              " 'take pill alcohol seizur everyth blur everyth hurt cant stop cri im drip oxygen motiv live cant die need help',\n",
              " 'want blow fuck brain everyday feel less like one fuck understand goe head unexplain parent die abl emot would usual would feel emot fantas bullet enter skull crack go brain destroy everyth know ricochet entir fuck brain lose thought make worst fuck hell agoni felt would rather everyon know die becom homeless consum everi problem lose person lose',\n",
              " 'realli depress need talk someon feel realli depress lone realli could use friend talk feel like sob hurt contempl suicid hang think tri pulley system thank goodby get back time',\n",
              " 'school end know want life feel like wast time money tri get well pay job impress peopl prove peopl stupid thought amwa honestli want die see mean live rat race',\n",
              " 'want kill last nigh plan bottl gin cloth fashion rope walk mile middl tri find good enough spot end sit cri eye felt good cri long time thought reach hour doctor said would call back phone die obvious could get polic call know famili know guess want die want kill okay',\n",
              " 'whole life struggl mental health keep secret famili young mom admit would cri randomli tri pretend everyth okay im tire feel like back wall im tire financi problem im tire addict drug im tire life want go sleep',\n",
              " 'im tire im fuck tire',\n",
              " 'often realiz noth stop horribl pain feel head even fine still fine im fine everyth still feel like fall apart never end quiet like hum head hum that stuck cant get cant help think im hopeless helpless',\n",
              " 'want die want go see dog im done',\n",
              " 'wish badli access tool adult gun car poison mean im cant get dont wanna wait anoth coupl year get either idk fuck man want die',\n",
              " 'im think commit suicid dont want upset famili member friend that thing stop feel tempt day im think overdos final end dont want feel there option',\n",
              " 'feel alon point life feel empti want keep go boyfriend anymor friend fail sever class well nobodi blame thing home much better either want reason keep go someth desir live past least next week want stop',\n",
              " 'wrote suicid letter think end everyth tonight take anymor alon nobodi care afraid tell famili institution want live anymor sad becom much handl',\n",
              " 'want stop exist one care everyon hate mental ill much want deal everyon want argu blame thing want eras mind everyon ever knew want disappear dark hole never heard want die even want never exist one care like shout space one even respond sub know die hand one even tri stop life meaningless',\n",
              " 'done boyfriend care argu lot tri make thing better seem get thing make thing wors start mention sad told upset care go cut today clean long want habit tire hurt day need feel someth els wish gut kill alreadi done part want know realis affect care either way probabl happi gone',\n",
              " 'need help slowli start back cut want urg tire live want help want talk somebodi one alway stop eat two week ago one notic live life anymor tire school tire everyth',\n",
              " 'need someon tell go killmyself face someon person someon care need someth bad happen pleas god pleas want fuck die cant stand live wretch earth anymor cant eat full meal without bust tear want fuck kill month left birthday gonna end',\n",
              " 'want die weak world take anymor want give',\n",
              " 'feel realli hopeless right start get better get wors anymor cut today want kill tire feel way',\n",
              " 'kick special ed year old bc asperg adhd never realli knew social normal kid got highschool special ed hate everyon like bulli genuin hatr like fuck op chant n stuff got beri depress around age got therapist didnt take seriou like parent around mental breakdown high develop dpdr year later addict stuff alcohol weed like energi drink day got med prozac quit didnt bad effect start self harm bad ive seen mum cri decid take x mani pill im allow hope kill didnt work didnget serotonin syndrom dad told km alreadi mean ive shit whole life dont see get better yk fml',\n",
              " 'buy gun week gonna go gun shop put name buy gun problem bcuz deceiv enough look happi get gun gonna drive cliff shoot head',\n",
              " 'listen song hadnt listen sinc decad ago suddenli rememb would listen repeat bu fantas end life eventu got bad situat found thing live year late realli hard time',\n",
              " 'im alon im alon im gonna alon forev dont want live dont want grow pain see famili die see peopl left better see happi anoth guy hard hard hard hard want die badli want painless dont want feel pain want go wish peopl stay wish wasnt horribl made peopl uncomfort wish normal realli want someon kill want die way dont want go hell',\n",
              " 'alon afraid daili basi good enough peopl need good enough spend almost time worri dispens forgett undesir feel alon asham hate everi day feel normal',\n",
              " 'need vent parent emot traumat sudden give fuck go around act like fuck god treat like shit expect tell everyth like fuck drunk somet head insan think go go peopl put state ask help wouldnt want die got nobodi go peopl onlin cant even get genuin hug peopl actual give damn somewher side town dont even fuck hope futur thank wast time good day',\n",
              " 'left pain soulmat bestfriend took life blame knew trauma decid take life final best gone breath anymor live could done never suicid want famili blame deal anymor trauma year year go trauma enter life even expect make far life wanna go wanna go',\n",
              " 'wish die tire blew highway mount wrong im upset didnt die wish panick roll car friend die thing year ago didnt die fair',\n",
              " 'im scare im go impuls kill extrem mood swing one point could look futur anoth im close jumo window ode realli want sent emerg room receiv sort treatment everyon go judg everyon mayb best impuls kill',\n",
              " 'want feel pain gonna end go brutal way possibl rather set fire mutil fuck chainsaw want quick want found complet fuck beyond recognit mayb end hell deserv even exist',\n",
              " 'kill bulli get bulli sinc never friendsther hope hate life parent say ignor got bulli almost everi year life end',\n",
              " 'fuck loser pleas somebodi kill let go sleep wake would absolut godsend',\n",
              " 'fail class everyth onlin get anyth print work day still get good pass grade shit fuck mental health terribl anyway everyth wors hate aliv liter want kill know shit even big deal anymor therapi fuck suck everyon suck',\n",
              " 'want kill realli want end noth help therapi talk peopl noth im simpli far gone probabl end kill soon dont know',\n",
              " ...]"
            ]
          },
          "metadata": {},
          "execution_count": 271
        }
      ],
      "source": [
        "corpus"
      ]
    },
    {
      "cell_type": "markdown",
      "source": [
        "Doc2vec Feature Extraction"
      ],
      "metadata": {
        "id": "1yv6kgs7cZTr"
      }
    },
    {
      "cell_type": "code",
      "execution_count": 272,
      "metadata": {
        "id": "OspnI_avZli7"
      },
      "outputs": [],
      "source": [
        "from gensim.models import doc2vec\n",
        "\n",
        "def label_sentences(corpus, label_type):\n",
        "    \n",
        "    labeled = []\n",
        "    for i, v in enumerate(corpus):\n",
        "       label = label_type + '_' + str(i)\n",
        "       labeled.append(doc2vec.TaggedDocument(v.split(), [label]))\n",
        "    return labeled\n",
        "    \n"
      ]
    },
    {
      "cell_type": "markdown",
      "source": [
        "train test spliting"
      ],
      "metadata": {
        "id": "LYRXXrhRdCOU"
      }
    },
    {
      "cell_type": "code",
      "execution_count": 327,
      "metadata": {
        "id": "tdgFyqImZtSD"
      },
      "outputs": [],
      "source": [
        "X=df.Post\n",
        "from sklearn.model_selection import train_test_split\n",
        "y= df.Ideation\n",
        "X_train, X_test, y_train, y_test = train_test_split(X, y, random_state=100, test_size=0.33)\n"
      ]
    },
    {
      "cell_type": "code",
      "execution_count": 328,
      "metadata": {
        "colab": {
          "base_uri": "https://localhost:8080/"
        },
        "id": "AYmI5LrUZ8hY",
        "outputId": "21ebddea-5805-424a-f5e0-315f5f7587f9"
      },
      "outputs": [
        {
          "output_type": "execute_result",
          "data": {
            "text/plain": [
              "2704"
            ]
          },
          "metadata": {},
          "execution_count": 328
        }
      ],
      "source": [
        "X_train = label_sentences(X_train, 'Train')\n",
        "X_test = label_sentences(X_test, 'Test')\n",
        "all_data = X_train + X_test\n",
        "len(all_data)"
      ]
    },
    {
      "cell_type": "code",
      "source": [
        ""
      ],
      "metadata": {
        "id": "GMbsh3vwhr9L"
      },
      "execution_count": 302,
      "outputs": []
    },
    {
      "cell_type": "code",
      "execution_count": 329,
      "metadata": {
        "colab": {
          "base_uri": "https://localhost:8080/"
        },
        "id": "vTyRT9Egac_-",
        "outputId": "b4c8ff8a-3853-439b-aaca-f1da149dcbb0"
      },
      "outputs": [
        {
          "output_type": "stream",
          "name": "stderr",
          "text": [
            "100%|██████████| 2704/2704 [00:00<00:00, 323116.75it/s]\n"
          ]
        }
      ],
      "source": [
        "model_dbow = Doc2Vec(dm=0, vector_size=5000, negative=5, min_count=1, alpha=0.065, min_alpha=0.065)\n",
        "model_dbow.build_vocab([x for x in tqdm(all_data)])\n"
      ]
    },
    {
      "cell_type": "code",
      "execution_count": 330,
      "metadata": {
        "colab": {
          "base_uri": "https://localhost:8080/"
        },
        "id": "G8IfWsuAalQD",
        "outputId": "2fe03a85-2e31-4a1a-9608-ea3d5da86dbe"
      },
      "outputs": [
        {
          "output_type": "stream",
          "name": "stderr",
          "text": [
            "100%|██████████| 2704/2704 [00:00<00:00, 1566275.10it/s]\n",
            "100%|██████████| 2704/2704 [00:00<00:00, 2569997.28it/s]\n",
            "100%|██████████| 2704/2704 [00:00<00:00, 2503619.87it/s]\n",
            "100%|██████████| 2704/2704 [00:00<00:00, 2555520.06it/s]\n",
            "100%|██████████| 2704/2704 [00:00<00:00, 2658555.56it/s]\n",
            "100%|██████████| 2704/2704 [00:00<00:00, 2593505.15it/s]\n",
            "100%|██████████| 2704/2704 [00:00<00:00, 1194585.85it/s]\n",
            "100%|██████████| 2704/2704 [00:00<00:00, 2017683.33it/s]\n",
            "100%|██████████| 2704/2704 [00:00<00:00, 2562448.72it/s]\n",
            "100%|██████████| 2704/2704 [00:00<00:00, 2681181.56it/s]\n",
            "100%|██████████| 2704/2704 [00:00<00:00, 1566275.10it/s]\n",
            "100%|██████████| 2704/2704 [00:00<00:00, 2445320.83it/s]\n",
            "100%|██████████| 2704/2704 [00:00<00:00, 2245821.39it/s]\n",
            "100%|██████████| 2704/2704 [00:00<00:00, 1581784.94it/s]\n",
            "100%|██████████| 2704/2704 [00:00<00:00, 2191574.50it/s]\n",
            "100%|██████████| 2704/2704 [00:00<00:00, 645020.65it/s]\n",
            "100%|██████████| 2704/2704 [00:00<00:00, 1225169.93it/s]\n",
            "100%|██████████| 2704/2704 [00:00<00:00, 509863.24it/s]\n",
            "100%|██████████| 2704/2704 [00:00<00:00, 2478994.10it/s]\n",
            "100%|██████████| 2704/2704 [00:00<00:00, 2266013.59it/s]\n",
            "100%|██████████| 2704/2704 [00:00<00:00, 2665428.44it/s]\n",
            "100%|██████████| 2704/2704 [00:00<00:00, 1555107.37it/s]\n",
            "100%|██████████| 2704/2704 [00:00<00:00, 2609617.58it/s]\n",
            "100%|██████████| 2704/2704 [00:00<00:00, 2651718.03it/s]\n",
            "100%|██████████| 2704/2704 [00:00<00:00, 1677225.38it/s]\n",
            "100%|██████████| 2704/2704 [00:00<00:00, 2419756.35it/s]\n",
            "100%|██████████| 2704/2704 [00:00<00:00, 2086733.77it/s]\n",
            "100%|██████████| 2704/2704 [00:00<00:00, 2502515.01it/s]\n",
            "100%|██████████| 2704/2704 [00:00<00:00, 1610307.83it/s]\n",
            "100%|██████████| 2704/2704 [00:00<00:00, 1436347.27it/s]\n"
          ]
        },
        {
          "output_type": "stream",
          "name": "stdout",
          "text": [
            "CPU times: user 1min 37s, sys: 457 ms, total: 1min 37s\n",
            "Wall time: 51 s\n"
          ]
        }
      ],
      "source": [
        "%%time\n",
        "for epoch in range(30):\n",
        "    model_dbow.train(utils.shuffle([x for x in tqdm(all_data)]), total_examples=len(all_data), epochs=1)\n",
        "    model_dbow.alpha -= 0.002\n",
        "    model_dbow.min_alpha = model_dbow.alpha"
      ]
    },
    {
      "cell_type": "code",
      "execution_count": 332,
      "metadata": {
        "id": "BaThcW6uay9k"
      },
      "outputs": [],
      "source": [
        "def get_vectors(model, corpus_size, vectors_size, vectors_type):\n",
        "    \n",
        "    vectors = np.zeros((corpus_size, vectors_size))\n",
        "    for i in range(0, corpus_size):\n",
        "        prefix = vectors_type + '_' + str(i)\n",
        "        vectors[i] = model.docvecs[prefix]\n",
        "    return vectors"
      ]
    },
    {
      "cell_type": "code",
      "execution_count": 333,
      "metadata": {
        "id": "WpmqaBDTa3tM"
      },
      "outputs": [],
      "source": [
        "train_vectors_dbow = get_vectors(model_dbow, len(X_train), 5000, 'Train')\n",
        "test_vectors_dbow = get_vectors(model_dbow, len(X_test), 5000, 'Test')\n"
      ]
    },
    {
      "cell_type": "code",
      "execution_count": 334,
      "metadata": {
        "colab": {
          "base_uri": "https://localhost:8080/"
        },
        "id": "PS27KiFn4G9o",
        "outputId": "2898bc2a-486d-43ef-b402-d6319bfbdddc"
      },
      "outputs": [
        {
          "output_type": "execute_result",
          "data": {
            "text/plain": [
              "(1811, 5000)"
            ]
          },
          "metadata": {},
          "execution_count": 334
        }
      ],
      "source": [
        "train_vectors_dbow.shape\n",
        "\n"
      ]
    },
    {
      "cell_type": "markdown",
      "source": [
        "Machine Learnig classification Algo"
      ],
      "metadata": {
        "id": "PuP9Eo3zdH7E"
      }
    },
    {
      "cell_type": "code",
      "execution_count": 335,
      "metadata": {
        "colab": {
          "base_uri": "https://localhost:8080/"
        },
        "id": "rZnCp6kVa9pr",
        "outputId": "292e6f72-8222-4974-eacb-9e32bd298cb5"
      },
      "outputs": [
        {
          "output_type": "execute_result",
          "data": {
            "text/plain": [
              "LogisticRegression(multi_class='multinomial')"
            ]
          },
          "metadata": {},
          "execution_count": 335
        }
      ],
      "source": [
        "from sklearn.linear_model import LogisticRegression\n",
        "\n",
        "logreg = LogisticRegression(multi_class='multinomial', solver = 'lbfgs')\n",
        "logreg.fit(train_vectors_dbow, y_train)"
      ]
    },
    {
      "cell_type": "code",
      "execution_count": 336,
      "metadata": {
        "id": "NrUs5lBF2EV2"
      },
      "outputs": [],
      "source": [
        "import matplotlib.pyplot as plt"
      ]
    },
    {
      "cell_type": "code",
      "execution_count": 338,
      "metadata": {
        "id": "VzNzLzsc2GBE"
      },
      "outputs": [],
      "source": [
        "def plot_confusion_matrix(cm, classes,\n",
        "                          normalize=False,\n",
        "                          title='Confusion matrix',\n",
        "                          cmap=plt.cm.Blues):\n",
        "    \n",
        "    plt.imshow(cm, interpolation='nearest', cmap=cmap)\n",
        "    plt.title(title)\n",
        "    plt.colorbar()\n",
        "    tick_marks = np.arange(len(classes))\n",
        "    plt.xticks(tick_marks, classes, rotation=45)\n",
        "    plt.yticks(tick_marks, classes)\n",
        "\n",
        "    if normalize:\n",
        "        cm = cm.astype('float') / cm.sum(axis=1)[:, np.newaxis]\n",
        "        print(\"Normalized confusion matrix\")\n",
        "    else:\n",
        "        print('Confusion matrix, without normalization')\n",
        "\n",
        "    thresh = cm.max() / 2.\n",
        "    for i, j in itertools.product(range(cm.shape[0]), range(cm.shape[1])):\n",
        "        plt.text(j, i, cm[i, j],\n",
        "                 horizontalalignment=\"center\",\n",
        "                 color=\"white\" if cm[i, j] > thresh else \"black\")\n",
        "    plt.tight_layout()\n",
        "    plt.ylabel('True label')\n",
        "    plt.xlabel('Predicted label')"
      ]
    },
    {
      "cell_type": "code",
      "execution_count": 339,
      "metadata": {
        "id": "KJqmN0qx3Tp4"
      },
      "outputs": [],
      "source": [
        "from sklearn.metrics import classification_report\n",
        "from sklearn import metrics\n",
        "import numpy as np\n",
        "import itertools"
      ]
    },
    {
      "cell_type": "code",
      "execution_count": 340,
      "metadata": {
        "colab": {
          "base_uri": "https://localhost:8080/",
          "height": 512
        },
        "id": "p1SM3XiLz7P7",
        "outputId": "410172c2-97b8-49f0-ed08-6a36129c48dd"
      },
      "outputs": [
        {
          "output_type": "stream",
          "name": "stdout",
          "text": [
            "accuracy:   0.92161\n",
            "Confusion matrix, without normalization\n",
            "              precision    recall  f1-score   support\n",
            "\n",
            "           0       0.91      0.90      0.91       383\n",
            "           1       0.93      0.94      0.93       510\n",
            "\n",
            "    accuracy                           0.92       893\n",
            "   macro avg       0.92      0.92      0.92       893\n",
            "weighted avg       0.92      0.92      0.92       893\n",
            "\n"
          ]
        },
        {
          "output_type": "display_data",
          "data": {
            "image/png": "[encoded data removed]",
            "text/plain": [
              "<Figure size 432x288 with 2 Axes>"
            ]
          },
          "metadata": {
            "needs_background": "light"
          }
        }
      ],
      "source": [
        "logreg.fit(train_vectors_dbow, y_train)\n",
        "pred =logreg.predict(test_vectors_dbow)\n",
        "score = metrics.accuracy_score(y_test, pred)\n",
        "print(\"accuracy:   %0.5f\" % score)\n",
        "cm = metrics.confusion_matrix(y_test, pred)\n",
        "plot_confusion_matrix(cm, classes=['0', '1'])\n",
        "print(classification_report(y_test,pred))"
      ]
    },
    {
      "cell_type": "code",
      "execution_count": 341,
      "metadata": {
        "id": "zu2pZiMUUr1-"
      },
      "outputs": [],
      "source": [
        "from sklearn.tree import DecisionTreeClassifier\n",
        "\n",
        "dt = DecisionTreeClassifier(max_depth=6, random_state=1)"
      ]
    },
    {
      "cell_type": "code",
      "execution_count": 342,
      "metadata": {
        "id": "g6kRlsHNUzxe",
        "colab": {
          "base_uri": "https://localhost:8080/",
          "height": 512
        },
        "outputId": "7b67107e-9b7f-4f7a-d4d7-a09c47b84046"
      },
      "outputs": [
        {
          "output_type": "stream",
          "name": "stdout",
          "text": [
            "accuracy:   0.82419\n",
            "Confusion matrix, without normalization\n",
            "              precision    recall  f1-score   support\n",
            "\n",
            "           0       0.78      0.83      0.80       383\n",
            "           1       0.87      0.82      0.84       510\n",
            "\n",
            "    accuracy                           0.82       893\n",
            "   macro avg       0.82      0.82      0.82       893\n",
            "weighted avg       0.83      0.82      0.82       893\n",
            "\n"
          ]
        },
        {
          "output_type": "display_data",
          "data": {
            "image/png": "[encoded data removed]",
            "text/plain": [
              "<Figure size 432x288 with 2 Axes>"
            ]
          },
          "metadata": {
            "needs_background": "light"
          }
        }
      ],
      "source": [
        "dt.fit(train_vectors_dbow, y_train)\n",
        "pred15 =dt.predict(test_vectors_dbow)\n",
        "score15 = metrics.accuracy_score(y_test, pred15)\n",
        "print(\"accuracy:   %0.5f\" % score15)\n",
        "cm15 = metrics.confusion_matrix(y_test, pred15)\n",
        "plot_confusion_matrix(cm15, classes=['0', '1'])\n",
        "print(classification_report(y_test,pred15))"
      ]
    },
    {
      "cell_type": "code",
      "source": [
        "from sklearn.svm import SVC \n",
        "\n",
        "svm = SVC(kernel='linear', C=1E10)\n",
        "#svm.fit(train_vectors_dbow, y_train)\n",
        "from sklearn.multiclass import OneVsRestClassifier\n",
        "from sklearn.svm import SVC\n",
        "clf = OneVsRestClassifier(SVC(kernel='linear', probability=True, class_weight='balanced'))\n",
        "clf.fit(train_vectors_dbow, y_train)\n"
      ],
      "metadata": {
        "colab": {
          "base_uri": "https://localhost:8080/"
        },
        "id": "U_rWwe2mdYqe",
        "outputId": "899a834d-ee42-4bd2-a4c9-c611219eff05"
      },
      "execution_count": 343,
      "outputs": [
        {
          "output_type": "execute_result",
          "data": {
            "text/plain": [
              "OneVsRestClassifier(estimator=SVC(class_weight='balanced', kernel='linear',\n",
              "                                  probability=True))"
            ]
          },
          "metadata": {},
          "execution_count": 343
        }
      ]
    },
    {
      "cell_type": "code",
      "execution_count": 344,
      "metadata": {
        "id": "JP70wfat6aJp",
        "colab": {
          "base_uri": "https://localhost:8080/",
          "height": 512
        },
        "outputId": "5847e10a-ece3-4b58-9eaf-1c89c475d8dd"
      },
      "outputs": [
        {
          "output_type": "stream",
          "name": "stdout",
          "text": [
            "accuracy:   0.917\n",
            "Confusion matrix, without normalization\n",
            "              precision    recall  f1-score   support\n",
            "\n",
            "           0       0.90      0.91      0.90       383\n",
            "           1       0.93      0.92      0.93       510\n",
            "\n",
            "    accuracy                           0.92       893\n",
            "   macro avg       0.91      0.92      0.92       893\n",
            "weighted avg       0.92      0.92      0.92       893\n",
            "\n"
          ]
        },
        {
          "output_type": "display_data",
          "data": {
            "image/png": "[encoded data removed]",
            "text/plain": [
              "<Figure size 432x288 with 2 Axes>"
            ]
          },
          "metadata": {
            "needs_background": "light"
          }
        }
      ],
      "source": [
        "pred5 =clf.predict(test_vectors_dbow)\n",
        "score5 = metrics.accuracy_score(y_test, pred5)\n",
        "print(\"accuracy:   %0.3f\" % score5)\n",
        "cm5 = metrics.confusion_matrix(y_test, pred5)\n",
        "plot_confusion_matrix(cm5, classes=['0', '1'])\n",
        "print(classification_report(y_test,pred5))"
      ]
    },
    {
      "cell_type": "code",
      "execution_count": 345,
      "metadata": {
        "colab": {
          "base_uri": "https://localhost:8080/"
        },
        "id": "1Bq8ZXyyTsLh",
        "outputId": "291145d9-6ff0-4795-ff2a-746964e210bd"
      },
      "outputs": [
        {
          "output_type": "execute_result",
          "data": {
            "text/plain": [
              "PassiveAggressiveClassifier(max_iter=50)"
            ]
          },
          "metadata": {},
          "execution_count": 345
        }
      ],
      "source": [
        "from sklearn.linear_model import PassiveAggressiveClassifier\n",
        "linear_clf = PassiveAggressiveClassifier(max_iter=50)\n",
        "linear_clf.fit(train_vectors_dbow, y_train)"
      ]
    },
    {
      "cell_type": "code",
      "execution_count": 346,
      "metadata": {
        "colab": {
          "base_uri": "https://localhost:8080/",
          "height": 512
        },
        "id": "VAN2HkEqTurm",
        "outputId": "e6be2048-3d0e-4878-9bd6-9c30e3f5f5fb"
      },
      "outputs": [
        {
          "output_type": "stream",
          "name": "stdout",
          "text": [
            "accuracy:   0.862\n",
            "Confusion matrix, without normalization\n",
            "              precision    recall  f1-score   support\n",
            "\n",
            "           0       0.77      0.96      0.86       383\n",
            "           1       0.96      0.79      0.87       510\n",
            "\n",
            "    accuracy                           0.86       893\n",
            "   macro avg       0.87      0.87      0.86       893\n",
            "weighted avg       0.88      0.86      0.86       893\n",
            "\n"
          ]
        },
        {
          "output_type": "display_data",
          "data": {
            "image/png": "[encoded data removed]",
            "text/plain": [
              "<Figure size 432x288 with 2 Axes>"
            ]
          },
          "metadata": {
            "needs_background": "light"
          }
        }
      ],
      "source": [
        "pred12 =linear_clf.predict(test_vectors_dbow)\n",
        "score12 = metrics.accuracy_score(y_test, pred12)\n",
        "print(\"accuracy:   %0.3f\" % score12)\n",
        "cm12 = metrics.confusion_matrix(y_test, pred12)\n",
        "plot_confusion_matrix(cm12, classes=['0', '1'])\n",
        "print(classification_report(y_test,pred12))"
      ]
    },
    {
      "cell_type": "markdown",
      "source": [
        "Ensemble Learning Classification Algorithams"
      ],
      "metadata": {
        "id": "NewHKGY0eSpm"
      }
    },
    {
      "cell_type": "code",
      "execution_count": 347,
      "metadata": {
        "id": "45san2sb6Q-S"
      },
      "outputs": [],
      "source": [
        "from sklearn.ensemble import RandomForestClassifier\n"
      ]
    },
    {
      "cell_type": "code",
      "execution_count": 348,
      "metadata": {
        "colab": {
          "base_uri": "https://localhost:8080/"
        },
        "id": "xH-kw1IF6uT9",
        "outputId": "d39b8ded-44be-419a-eebb-412b483ef206"
      },
      "outputs": [
        {
          "output_type": "stream",
          "name": "stdout",
          "text": [
            "CPU times: user 7.01 s, sys: 6.5 ms, total: 7.02 s\n",
            "Wall time: 6.99 s\n"
          ]
        }
      ],
      "source": [
        "%%time\n",
        "rfcf=RandomForestClassifier()\n",
        "rfcf.fit(train_vectors_dbow, y_train)"
      ]
    },
    {
      "cell_type": "code",
      "execution_count": 350,
      "metadata": {
        "colab": {
          "base_uri": "https://localhost:8080/",
          "height": 512
        },
        "id": "kYUSyM0E7FsE",
        "outputId": "8f4a7753-bde0-4f55-f722-4bd2cbba922d"
      },
      "outputs": [
        {
          "output_type": "stream",
          "name": "stdout",
          "text": [
            "accuracy:   0.92049\n",
            "Confusion matrix, without normalization\n",
            "              precision    recall  f1-score   support\n",
            "\n",
            "           0       0.95      0.86      0.90       383\n",
            "           1       0.90      0.96      0.93       510\n",
            "\n",
            "    accuracy                           0.92       893\n",
            "   macro avg       0.92      0.91      0.92       893\n",
            "weighted avg       0.92      0.92      0.92       893\n",
            "\n"
          ]
        },
        {
          "output_type": "display_data",
          "data": {
            "image/png": "[encoded data removed]",
            "text/plain": [
              "<Figure size 432x288 with 2 Axes>"
            ]
          },
          "metadata": {
            "needs_background": "light"
          }
        }
      ],
      "source": [
        "\n",
        "pred2 =rfcf.predict(test_vectors_dbow)\n",
        "score2 = metrics.accuracy_score(y_test, pred2)\n",
        "print(\"accuracy:   %0.5f\" % score2)\n",
        "cm2 = metrics.confusion_matrix(y_test, pred2)\n",
        "plot_confusion_matrix(cm2, classes=['0', '1'])\n",
        "print(classification_report(y_test,pred2))"
      ]
    },
    {
      "cell_type": "code",
      "execution_count": 351,
      "metadata": {
        "id": "JMe4Q6iiwOsm"
      },
      "outputs": [],
      "source": [
        "from sklearn.ensemble import GradientBoostingClassifier\n"
      ]
    },
    {
      "cell_type": "code",
      "execution_count": 355,
      "metadata": {
        "colab": {
          "base_uri": "https://localhost:8080/"
        },
        "id": "pj9p6IURwqx0",
        "outputId": "744a705a-ede0-4a60-cc13-12af92ac73c1"
      },
      "outputs": [
        {
          "output_type": "stream",
          "name": "stdout",
          "text": [
            "CPU times: user 1min 49s, sys: 62.8 ms, total: 1min 49s\n",
            "Wall time: 1min 48s\n"
          ]
        }
      ],
      "source": [
        "%%time\n",
        "gbrt =GradientBoostingClassifier(random_state=1, subsample=0.5)\n",
        "\n",
        "gbrt.fit(train_vectors_dbow, y_train)\n"
      ]
    },
    {
      "cell_type": "code",
      "execution_count": 356,
      "metadata": {
        "colab": {
          "base_uri": "https://localhost:8080/",
          "height": 512
        },
        "id": "2cGIlMOEwZlU",
        "outputId": "903cab4e-3add-45bb-860c-dd406d21bb6d"
      },
      "outputs": [
        {
          "output_type": "stream",
          "name": "stdout",
          "text": [
            "accuracy:   0.928\n",
            "Confusion matrix, without normalization\n",
            "              precision    recall  f1-score   support\n",
            "\n",
            "           0       0.93      0.91      0.92       383\n",
            "           1       0.93      0.95      0.94       510\n",
            "\n",
            "    accuracy                           0.93       893\n",
            "   macro avg       0.93      0.93      0.93       893\n",
            "weighted avg       0.93      0.93      0.93       893\n",
            "\n"
          ]
        },
        {
          "output_type": "display_data",
          "data": {
            "image/png": "[encoded data removed]",
            "text/plain": [
              "<Figure size 432x288 with 2 Axes>"
            ]
          },
          "metadata": {
            "needs_background": "light"
          }
        }
      ],
      "source": [
        "\n",
        "pred3 =gbrt.predict(test_vectors_dbow)\n",
        "score3 = metrics.accuracy_score(y_test, pred3)\n",
        "print(\"accuracy:   %0.3f\" % score3)\n",
        "cm3 = metrics.confusion_matrix(y_test, pred3)\n",
        "plot_confusion_matrix(cm3, classes=['0', '1'])\n",
        "print(classification_report(y_test,pred3))"
      ]
    },
    {
      "cell_type": "code",
      "execution_count": 357,
      "metadata": {
        "id": "fPYxHPVdxN66"
      },
      "outputs": [],
      "source": [
        "from sklearn.ensemble import AdaBoostClassifier"
      ]
    },
    {
      "cell_type": "code",
      "execution_count": 358,
      "metadata": {
        "colab": {
          "base_uri": "https://localhost:8080/"
        },
        "id": "S4iL66X3xPV5",
        "outputId": "e9962a41-29b0-4058-f6a1-f1a4d52f056d"
      },
      "outputs": [
        {
          "output_type": "execute_result",
          "data": {
            "text/plain": [
              "AdaBoostClassifier(n_estimators=180, random_state=1)"
            ]
          },
          "metadata": {},
          "execution_count": 358
        }
      ],
      "source": [
        "ada = AdaBoostClassifier( n_estimators=180, random_state=1)\n",
        "ada.fit(train_vectors_dbow, y_train)"
      ]
    },
    {
      "cell_type": "code",
      "execution_count": 359,
      "metadata": {
        "colab": {
          "base_uri": "https://localhost:8080/",
          "height": 512
        },
        "id": "g_YO8g1bz5sF",
        "outputId": "cd9fdcb4-4d66-42e2-e3a0-58584431f339"
      },
      "outputs": [
        {
          "output_type": "stream",
          "name": "stdout",
          "text": [
            "accuracy:   0.92945\n",
            "Confusion matrix, without normalization\n",
            "              precision    recall  f1-score   support\n",
            "\n",
            "           0       0.92      0.91      0.92       383\n",
            "           1       0.93      0.94      0.94       510\n",
            "\n",
            "    accuracy                           0.93       893\n",
            "   macro avg       0.93      0.93      0.93       893\n",
            "weighted avg       0.93      0.93      0.93       893\n",
            "\n"
          ]
        },
        {
          "output_type": "display_data",
          "data": {
            "image/png": "[encoded data removed]",
            "text/plain": [
              "<Figure size 432x288 with 2 Axes>"
            ]
          },
          "metadata": {
            "needs_background": "light"
          }
        }
      ],
      "source": [
        "pred4 =ada.predict(test_vectors_dbow)\n",
        "score4 = metrics.accuracy_score(y_test, pred4)\n",
        "print(\"accuracy:   %0.5f\" % score4)\n",
        "cm4 = metrics.confusion_matrix(y_test, pred4)\n",
        "plot_confusion_matrix(cm4, classes=['0', '1'])\n",
        "print(classification_report(y_test,pred4))"
      ]
    },
    {
      "cell_type": "code",
      "execution_count": 360,
      "metadata": {
        "id": "rkPrhsvMVleD"
      },
      "outputs": [],
      "source": [
        "from sklearn.ensemble import VotingClassifier"
      ]
    },
    {
      "cell_type": "code",
      "execution_count": 361,
      "metadata": {
        "id": "Zd6Dbj4AVpoI"
      },
      "outputs": [],
      "source": [
        "models = [('ada',AdaBoostClassifier(n_estimators=180, random_state=1)),('rfcf',RandomForestClassifier()),('gbrt',GradientBoostingClassifier(random_state=1, subsample=0.5))]"
      ]
    },
    {
      "cell_type": "code",
      "execution_count": 362,
      "metadata": {
        "id": "JwelKU_IVr_8",
        "colab": {
          "base_uri": "https://localhost:8080/"
        },
        "outputId": "4c7e5724-2033-4aa5-d1f4-d9e602829c64"
      },
      "outputs": [
        {
          "output_type": "execute_result",
          "data": {
            "text/plain": [
              "VotingClassifier(estimators=[('ada',\n",
              "                              AdaBoostClassifier(n_estimators=180,\n",
              "                                                 random_state=1)),\n",
              "                             ('rfcf', RandomForestClassifier()),\n",
              "                             ('gbrt',\n",
              "                              GradientBoostingClassifier(random_state=1,\n",
              "                                                         subsample=0.5))])"
            ]
          },
          "metadata": {},
          "execution_count": 362
        }
      ],
      "source": [
        "voting_clas_hard = VotingClassifier(voting='hard', estimators=models )\n",
        "voting_clas_hard.fit(train_vectors_dbow, y_train)"
      ]
    },
    {
      "cell_type": "code",
      "execution_count": 364,
      "metadata": {
        "colab": {
          "base_uri": "https://localhost:8080/",
          "height": 512
        },
        "id": "MISqz5p2Vwhr",
        "outputId": "09c82745-de12-432a-ae22-65096900b2f1"
      },
      "outputs": [
        {
          "output_type": "stream",
          "name": "stdout",
          "text": [
            "accuracy:   0.934\n",
            "Confusion matrix, without normalization\n",
            "              precision    recall  f1-score   support\n",
            "\n",
            "           0       0.94      0.90      0.92       383\n",
            "           1       0.93      0.96      0.94       510\n",
            "\n",
            "    accuracy                           0.93       893\n",
            "   macro avg       0.93      0.93      0.93       893\n",
            "weighted avg       0.93      0.93      0.93       893\n",
            "\n"
          ]
        },
        {
          "output_type": "display_data",
          "data": {
            "image/png": "[encoded data removed]",
            "text/plain": [
              "<Figure size 432x288 with 2 Axes>"
            ]
          },
          "metadata": {
            "needs_background": "light"
          }
        }
      ],
      "source": [
        "pred13 =voting_clas_hard.predict(test_vectors_dbow)\n",
        "score13 = metrics.accuracy_score(y_test, pred13)\n",
        "print(\"accuracy:   %0.3f\" % score13)\n",
        "cm13 = metrics.confusion_matrix(y_test, pred13)\n",
        "plot_confusion_matrix(cm13, classes=['0', '1'])\n",
        "print(classification_report(y_test,pred13))"
      ]
    },
    {
      "cell_type": "markdown",
      "source": [
        "Cross-Validation"
      ],
      "metadata": {
        "id": "shoixNAiedjF"
      }
    },
    {
      "cell_type": "code",
      "execution_count": null,
      "metadata": {
        "id": "V-unJV9KOnCF"
      },
      "outputs": [],
      "source": [
        "from sklearn.model_selection import KFold\n",
        "kfold_validation1=KFold(10)"
      ]
    },
    {
      "cell_type": "code",
      "execution_count": null,
      "metadata": {
        "id": "UA9FD38RGX0u"
      },
      "outputs": [],
      "source": [
        "from sklearn.model_selection import StratifiedKFold\n",
        "kfold_validation=StratifiedKFold(n_splits=10)"
      ]
    },
    {
      "cell_type": "code",
      "execution_count": null,
      "metadata": {
        "id": "nsDDidSOGcH2"
      },
      "outputs": [],
      "source": [
        "import numpy as np\n",
        "from sklearn.model_selection import cross_val_score\n"
      ]
    },
    {
      "cell_type": "code",
      "execution_count": null,
      "metadata": {
        "id": "OguP9Yun7jAs"
      },
      "outputs": [],
      "source": [
        "from gensim.models import doc2vec\n",
        "\n",
        "def label_sentences1(corpus, label_type):\n",
        "    \n",
        "    labeled = []\n",
        "    for i, v in enumerate(corpus):\n",
        "        label = label_type + '_' + str(i)\n",
        "        labeled.append(doc2vec.TaggedDocument(v.split(), [label]))\n",
        "    return labeled"
      ]
    },
    {
      "cell_type": "code",
      "execution_count": null,
      "metadata": {
        "id": "QzjVpCzV6TFW"
      },
      "outputs": [],
      "source": [
        "X1=df.Post\n",
        "all_data1 = label_sentences1(X1, 'All')\n",
        "\n"
      ]
    },
    {
      "cell_type": "code",
      "execution_count": null,
      "metadata": {
        "colab": {
          "base_uri": "https://localhost:8080/"
        },
        "id": "E-jd7x0DRwNe",
        "outputId": "d2c68431-eb82-411b-c96f-4bec57dd99a5"
      },
      "outputs": [
        {
          "output_type": "stream",
          "name": "stderr",
          "text": [
            "100%|██████████| 2704/2704 [00:00<00:00, 1197107.66it/s]\n"
          ]
        }
      ],
      "source": [
        "\n",
        "model_dbow1 = Doc2Vec(dm=0, vector_size=300, negative=5, min_count=1, alpha=0.065, min_alpha=0.065)\n",
        "model_dbow1.build_vocab([x for x in tqdm(all_data1)])\n"
      ]
    },
    {
      "cell_type": "code",
      "execution_count": null,
      "metadata": {
        "colab": {
          "base_uri": "https://localhost:8080/"
        },
        "id": "IQJGNNio9Ne7",
        "outputId": "06a35431-0906-4554-b91d-bc906f045348"
      },
      "outputs": [
        {
          "output_type": "stream",
          "name": "stderr",
          "text": [
            "100%|██████████| 2704/2704 [00:00<00:00, 1559598.19it/s]\n",
            "100%|██████████| 2704/2704 [00:00<00:00, 2958111.12it/s]\n",
            "100%|██████████| 2704/2704 [00:00<00:00, 2972064.47it/s]\n",
            "100%|██████████| 2704/2704 [00:00<00:00, 3009925.16it/s]\n",
            "100%|██████████| 2704/2704 [00:00<00:00, 3071884.62it/s]\n",
            "100%|██████████| 2704/2704 [00:00<00:00, 768804.10it/s]\n",
            "100%|██████████| 2704/2704 [00:00<00:00, 3056980.60it/s]\n",
            "100%|██████████| 2704/2704 [00:00<00:00, 2886586.41it/s]\n",
            "100%|██████████| 2704/2704 [00:00<00:00, 857572.63it/s]\n",
            "100%|██████████| 2704/2704 [00:00<00:00, 3037332.09it/s]\n",
            "100%|██████████| 2704/2704 [00:00<00:00, 3191164.33it/s]\n",
            "100%|██████████| 2704/2704 [00:00<00:00, 3097896.21it/s]\n",
            "100%|██████████| 2704/2704 [00:00<00:00, 2853899.85it/s]\n",
            "100%|██████████| 2704/2704 [00:00<00:00, 774104.02it/s]\n",
            "100%|██████████| 2704/2704 [00:00<00:00, 593510.81it/s]\n",
            "100%|██████████| 2704/2704 [00:00<00:00, 3036518.88it/s]\n",
            "100%|██████████| 2704/2704 [00:00<00:00, 1241668.27it/s]\n",
            "100%|██████████| 2704/2704 [00:00<00:00, 2581110.15it/s]\n",
            "100%|██████████| 2704/2704 [00:00<00:00, 2992453.30it/s]\n",
            "100%|██████████| 2704/2704 [00:00<00:00, 2563607.15it/s]\n",
            "100%|██████████| 2704/2704 [00:00<00:00, 1852261.64it/s]\n",
            "100%|██████████| 2704/2704 [00:00<00:00, 2950415.72it/s]\n",
            "100%|██████████| 2704/2704 [00:00<00:00, 2741454.68it/s]\n",
            "100%|██████████| 2704/2704 [00:00<00:00, 2945052.72it/s]\n",
            "100%|██████████| 2704/2704 [00:00<00:00, 2884384.03it/s]\n",
            "100%|██████████| 2704/2704 [00:00<00:00, 3108935.86it/s]\n",
            "100%|██████████| 2704/2704 [00:00<00:00, 2930593.80it/s]\n",
            "100%|██████████| 2704/2704 [00:00<00:00, 2897648.96it/s]\n",
            "100%|██████████| 2704/2704 [00:00<00:00, 2902097.75it/s]\n",
            "100%|██████████| 2704/2704 [00:00<00:00, 1805380.14it/s]\n"
          ]
        },
        {
          "output_type": "stream",
          "name": "stdout",
          "text": [
            "CPU times: user 14.1 s, sys: 845 ms, total: 14.9 s\n",
            "Wall time: 8.9 s\n"
          ]
        }
      ],
      "source": [
        "%%time\n",
        "for epoch in range(30):\n",
        "    model_dbow1.train(utils.shuffle([x for x in tqdm(all_data1)]), total_examples=len(all_data1), epochs=1)\n",
        "    model_dbow1.alpha -= 0.002\n",
        "    model_dbow1.min_alpha = model_dbow1.alpha"
      ]
    },
    {
      "cell_type": "code",
      "execution_count": null,
      "metadata": {
        "id": "vrba2Aro9fIS"
      },
      "outputs": [],
      "source": [
        "def get_vectors1(model, corpus_size, vectors_size, vectors_type):\n",
        "    \n",
        "    vectors = np.zeros((corpus_size, vectors_size))\n",
        "    for i in range(0, corpus_size):\n",
        "        prefix = vectors_type + '_' + str(i)\n",
        "        vectors[i] = model.docvecs[prefix]\n",
        "    return vectors"
      ]
    },
    {
      "cell_type": "code",
      "execution_count": null,
      "metadata": {
        "id": "OMtW4FAl9mJI",
        "colab": {
          "base_uri": "https://localhost:8080/"
        },
        "outputId": "9f8a61a2-aa22-4b76-9230-84cdc30ba47f"
      },
      "outputs": [
        {
          "output_type": "execute_result",
          "data": {
            "text/plain": [
              "array([[ 0.02126081,  0.04569095, -0.18670408, ..., -0.1112036 ,\n",
              "         0.06855348, -0.11463564],\n",
              "       [ 0.39436278,  0.11177636,  0.12055359, ..., -0.0308714 ,\n",
              "         0.27338985,  0.03963906],\n",
              "       [ 0.17490959, -0.03561036, -0.05103262, ...,  0.08461513,\n",
              "        -0.06399523, -0.32201269],\n",
              "       ...,\n",
              "       [ 0.25188258, -0.07814928,  0.00120707, ..., -0.02598551,\n",
              "         0.1218982 ,  0.16509211],\n",
              "       [-0.17763907, -0.23738742, -0.30374765, ...,  0.10426784,\n",
              "         0.17630519, -0.07287445],\n",
              "       [ 0.10200619,  0.08667233,  0.04220365, ..., -0.01521376,\n",
              "        -0.12899943,  0.04803993]])"
            ]
          },
          "metadata": {},
          "execution_count": 92
        }
      ],
      "source": [
        "train_vectors_dbow1 = get_vectors1(model_dbow1, len(all_data1), 300, 'All')\n",
        "train_vectors_dbow1 "
      ]
    },
    {
      "cell_type": "code",
      "execution_count": null,
      "metadata": {
        "colab": {
          "base_uri": "https://localhost:8080/"
        },
        "id": "xLyGF_FoGhL-",
        "outputId": "0b0451e9-fe7c-4b29-b276-b16cc95f8182"
      },
      "outputs": [
        {
          "output_type": "stream",
          "name": "stdout",
          "text": [
            "[0.87084871 0.92250923 0.94833948 0.94464945 0.92962963 0.93333333\n",
            " 0.89259259 0.88518519 0.94074074 0.91111111]\n",
            "0.9178939456061228\n"
          ]
        }
      ],
      "source": [
        "results_LR=cross_val_score(logreg,train_vectors_dbow1,y,cv=kfold_validation)\n",
        "print(results_LR)\n",
        "print(np.average(results_LR))"
      ]
    },
    {
      "cell_type": "code",
      "execution_count": null,
      "metadata": {
        "colab": {
          "base_uri": "https://localhost:8080/"
        },
        "id": "_wGcY6HhGh_Q",
        "outputId": "f97f25ad-5b5d-48a2-8018-bf4e54f0d292"
      },
      "outputs": [
        {
          "output_type": "stream",
          "name": "stdout",
          "text": [
            "[0.58671587 0.77121771 0.82287823 0.86346863 0.85185185 0.85925926\n",
            " 0.88888889 0.88148148 0.77037037 0.76296296]\n",
            "0.8059095257619244\n"
          ]
        }
      ],
      "source": [
        "results_naive_gaussian=cross_val_score(naive_gaussian,train_vectors_dbow1,y,cv=kfold_validation)\n",
        "print(results_naive_gaussian)\n",
        "print(np.average(results_naive_gaussian))"
      ]
    },
    {
      "cell_type": "code",
      "execution_count": null,
      "metadata": {
        "id": "nnpDwIVPGixF",
        "colab": {
          "base_uri": "https://localhost:8080/"
        },
        "outputId": "5a945947-65a1-446d-9c0e-70f2eacd026e"
      },
      "outputs": [
        {
          "output_type": "stream",
          "name": "stdout",
          "text": [
            "[0.73431734 0.80073801 0.80811808 0.81180812 0.76666667 0.79259259\n",
            " 0.76296296 0.71851852 0.8037037  0.80740741]\n",
            "0.780683340166735\n"
          ]
        }
      ],
      "source": [
        "results_dt=cross_val_score(dt,train_vectors_dbow1,y,cv=kfold_validation)\n",
        "print(results_dt)\n",
        "print(np.average(results_dt))"
      ]
    },
    {
      "cell_type": "code",
      "execution_count": null,
      "metadata": {
        "colab": {
          "base_uri": "https://localhost:8080/"
        },
        "id": "cnP1WeODGjRc",
        "outputId": "1e06525d-4db5-4e06-f6d8-882db01b745b"
      },
      "outputs": [
        {
          "output_type": "stream",
          "name": "stdout",
          "text": [
            "[0.81918819 0.92619926 0.90405904 0.91881919 0.91481481 0.91111111\n",
            " 0.91111111 0.88148148 0.8962963  0.91111111]\n",
            "0.8994191608582753\n"
          ]
        }
      ],
      "source": [
        "results_rfcf=cross_val_score(rfcf,train_vectors_dbow1,y,cv=kfold_validation)\n",
        "print(results_rfcf)\n",
        "print(np.average(results_rfcf))"
      ]
    },
    {
      "cell_type": "code",
      "execution_count": null,
      "metadata": {
        "colab": {
          "base_uri": "https://localhost:8080/"
        },
        "id": "qcygwiEuGjxG",
        "outputId": "90369fc4-42e7-4e1a-e4bf-29927e062fce"
      },
      "outputs": [
        {
          "output_type": "stream",
          "name": "stdout",
          "text": [
            "[0.83763838 0.91881919 0.91881919 0.94833948 0.95185185 0.94074074\n",
            " 0.88148148 0.9        0.95185185 0.94814815]\n",
            "0.9197690310236435\n"
          ]
        }
      ],
      "source": [
        "results_gbrt=cross_val_score(gbrt,train_vectors_dbow1,y,cv=kfold_validation)\n",
        "print(results_gbrt)\n",
        "print(np.average(results_gbrt))"
      ]
    },
    {
      "cell_type": "code",
      "execution_count": null,
      "metadata": {
        "colab": {
          "base_uri": "https://localhost:8080/"
        },
        "id": "c1tpwg_0GkX1",
        "outputId": "600a51cc-23b1-4774-8ac9-d7112ec9e81b"
      },
      "outputs": [
        {
          "output_type": "stream",
          "name": "stdout",
          "text": [
            "[0.83763838 0.900369   0.92250923 0.95940959 0.94814815 0.93703704\n",
            " 0.88148148 0.8962963  0.93703704 0.94444444]\n",
            "0.9164370643706438\n"
          ]
        }
      ],
      "source": [
        "results_ada=cross_val_score(ada,train_vectors_dbow1,y,cv=kfold_validation)\n",
        "print(results_ada)\n",
        "print(np.average(results_ada))"
      ]
    },
    {
      "cell_type": "code",
      "source": [
        "results_linear_clf=cross_val_score(linear_clf,train_vectors_dbow1,y,cv=kfold_validation)\n",
        "print(results_linear_clf)\n",
        "print(np.average(results_linear_clf))\n",
        "\n",
        "\n"
      ],
      "metadata": {
        "id": "MHxhlYsqjR-m",
        "colab": {
          "base_uri": "https://localhost:8080/"
        },
        "outputId": "938e70c4-1aaf-4ce1-e9b7-a2f35ac29387"
      },
      "execution_count": null,
      "outputs": [
        {
          "output_type": "stream",
          "name": "stdout",
          "text": [
            "[0.81918819 0.85608856 0.92619926 0.94464945 0.87777778 0.9037037\n",
            " 0.85925926 0.82222222 0.92592593 0.88888889]\n",
            "0.882390323903239\n"
          ]
        }
      ]
    },
    {
      "cell_type": "code",
      "source": [
        "results_voting_clas_hard=cross_val_score(voting_clas_hard,train_vectors_dbow1,y,cv=kfold_validation)\n",
        "print(results_voting_clas_hard)\n",
        "print(np.average(results_voting_clas_hard))\n"
      ],
      "metadata": {
        "id": "c4zvBsoGnyfV",
        "colab": {
          "base_uri": "https://localhost:8080/"
        },
        "outputId": "063486a3-fa61-4550-8ceb-8681fdff84f0"
      },
      "execution_count": null,
      "outputs": [
        {
          "output_type": "stream",
          "name": "stdout",
          "text": [
            "[0.84132841 0.90774908 0.92619926 0.95202952 0.94444444 0.94814815\n",
            " 0.90740741 0.9037037  0.94814815 0.95185185]\n",
            "0.9231009976766436\n"
          ]
        }
      ]
    },
    {
      "cell_type": "code",
      "source": [
        "results_svm=cross_val_score(clf,train_vectors_dbow1,y,cv=kfold_validation)\n",
        "print(results_svm)\n",
        "print(np.average(results_svm))\n"
      ],
      "metadata": {
        "id": "CIPaRpedn1Sb",
        "colab": {
          "base_uri": "https://localhost:8080/"
        },
        "outputId": "cc537dfb-92e8-4f79-bf62-d99f4cb6add5"
      },
      "execution_count": null,
      "outputs": [
        {
          "output_type": "stream",
          "name": "stdout",
          "text": [
            "[0.86346863 0.91512915 0.92250923 0.94464945 0.94074074 0.93703704\n",
            " 0.89259259 0.89259259 0.92962963 0.9037037 ]\n",
            "0.9142052753860872\n"
          ]
        }
      ]
    }
  ],
  "metadata": {
    "colab": {
      "collapsed_sections": [],
      "name": "suicidal ideation_Doc2vec.ipynb",
      "provenance": [],
      "authorship_tag": "ABX9TyN9EoNNIfSFPM5ppbCEnSzv",
      "include_colab_link": true
    },
    "kernelspec": {
      "display_name": "Python 3",
      "name": "python3"
    },
    "language_info": {
      "name": "python"
    },
    "accelerator": "GPU"
  },
  "nbformat": 4,
  "nbformat_minor": 0
}